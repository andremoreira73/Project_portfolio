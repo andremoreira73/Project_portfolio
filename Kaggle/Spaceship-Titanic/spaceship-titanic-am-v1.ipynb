{
 "cells": [
  {
   "cell_type": "markdown",
   "id": "14f253df",
   "metadata": {
    "papermill": {
     "duration": 0.011194,
     "end_time": "2023-10-16T19:38:46.058009",
     "exception": false,
     "start_time": "2023-10-16T19:38:46.046815",
     "status": "completed"
    },
    "tags": []
   },
   "source": [
    "# Kaggle competition: Spaceship Titanic classification problem\n",
    "\n",
    "Andre Moreira, 2023\n"
   ]
  },
  {
   "cell_type": "markdown",
   "id": "e0cafaa7",
   "metadata": {
    "papermill": {
     "duration": 0.010598,
     "end_time": "2023-10-16T19:38:46.079715",
     "exception": false,
     "start_time": "2023-10-16T19:38:46.069117",
     "status": "completed"
    },
    "tags": []
   },
   "source": [
    "## Background\n",
    "\n",
    "This Notebook is prepared in the simplest possible way as a first shot into the competition. Part of the code recycled from the \"classical Titanic\" competition"
   ]
  },
  {
   "cell_type": "markdown",
   "id": "2f2d0275",
   "metadata": {
    "papermill": {
     "duration": 0.010588,
     "end_time": "2023-10-16T19:38:46.101926",
     "exception": false,
     "start_time": "2023-10-16T19:38:46.091338",
     "status": "completed"
    },
    "tags": []
   },
   "source": [
    "## Preamble\n"
   ]
  },
  {
   "cell_type": "code",
   "execution_count": 1,
   "id": "a976d724",
   "metadata": {
    "execution": {
     "iopub.execute_input": "2023-10-16T19:38:46.125575Z",
     "iopub.status.busy": "2023-10-16T19:38:46.124889Z",
     "iopub.status.idle": "2023-10-16T19:38:48.489540Z",
     "shell.execute_reply": "2023-10-16T19:38:48.488515Z"
    },
    "papermill": {
     "duration": 2.379316,
     "end_time": "2023-10-16T19:38:48.492008",
     "exception": false,
     "start_time": "2023-10-16T19:38:46.112692",
     "status": "completed"
    },
    "tags": []
   },
   "outputs": [],
   "source": [
    "import pandas as pd\n",
    "import numpy as np\n",
    "\n",
    "import matplotlib.pyplot as plt\n",
    "import seaborn as sns\n",
    "\n",
    "from scipy import stats\n",
    "from scipy.stats import norm\n",
    "\n",
    "from sklearn import preprocessing\n",
    "\n",
    "# We do not use most of it, here just in case...\n",
    "\n",
    "from sklearn.model_selection import train_test_split\n",
    "from sklearn.model_selection import GridSearchCV\n",
    "from sklearn.linear_model import LogisticRegression\n",
    "from sklearn.svm import SVC\n",
    "from sklearn.tree import DecisionTreeClassifier\n",
    "from sklearn.neighbors import KNeighborsClassifier\n",
    "from sklearn.neural_network import MLPClassifier\n",
    "\n",
    "from sklearn import ensemble\n",
    "\n",
    "from sklearn import linear_model\n",
    "\n",
    "from sklearn import metrics\n",
    "from sklearn.metrics import confusion_matrix\n",
    "from sklearn.metrics import r2_score\n",
    "\n",
    "import sklearn.metrics as metrics"
   ]
  },
  {
   "cell_type": "code",
   "execution_count": 2,
   "id": "925eeb53",
   "metadata": {
    "execution": {
     "iopub.execute_input": "2023-10-16T19:38:48.516417Z",
     "iopub.status.busy": "2023-10-16T19:38:48.515882Z",
     "iopub.status.idle": "2023-10-16T19:38:48.521475Z",
     "shell.execute_reply": "2023-10-16T19:38:48.520100Z"
    },
    "papermill": {
     "duration": 0.019855,
     "end_time": "2023-10-16T19:38:48.523509",
     "exception": false,
     "start_time": "2023-10-16T19:38:48.503654",
     "status": "completed"
    },
    "tags": []
   },
   "outputs": [],
   "source": [
    "# Setting this option will print all collumns of a dataframe\n",
    "pd.set_option('display.max_columns', None)\n",
    "# Setting this option will print all of the data in a feature\n",
    "pd.set_option('display.max_colwidth', None)\n",
    "\n",
    "pd.set_option('display.max_rows', None)"
   ]
  },
  {
   "cell_type": "code",
   "execution_count": 3,
   "id": "0b6fd47c",
   "metadata": {
    "execution": {
     "iopub.execute_input": "2023-10-16T19:38:48.547803Z",
     "iopub.status.busy": "2023-10-16T19:38:48.546987Z",
     "iopub.status.idle": "2023-10-16T19:38:48.552379Z",
     "shell.execute_reply": "2023-10-16T19:38:48.551576Z"
    },
    "papermill": {
     "duration": 0.019443,
     "end_time": "2023-10-16T19:38:48.554425",
     "exception": false,
     "start_time": "2023-10-16T19:38:48.534982",
     "status": "completed"
    },
    "tags": []
   },
   "outputs": [],
   "source": [
    "# Improve plot resolutions (matplotlib, sns)\n",
    "plt.rcParams['figure.dpi'] = 150\n",
    "plt.rcParams['savefig.dpi'] = 150\n",
    "\n",
    "sns.set(rc={\"figure.dpi\":150, 'savefig.dpi':150})"
   ]
  },
  {
   "cell_type": "markdown",
   "id": "4d506307",
   "metadata": {
    "papermill": {
     "duration": 0.010468,
     "end_time": "2023-10-16T19:38:48.575860",
     "exception": false,
     "start_time": "2023-10-16T19:38:48.565392",
     "status": "completed"
    },
    "tags": []
   },
   "source": [
    "This function is to plot the confusion matrix.\n"
   ]
  },
  {
   "cell_type": "code",
   "execution_count": 4,
   "id": "13bdd229",
   "metadata": {
    "execution": {
     "iopub.execute_input": "2023-10-16T19:38:48.598722Z",
     "iopub.status.busy": "2023-10-16T19:38:48.598367Z",
     "iopub.status.idle": "2023-10-16T19:38:48.604995Z",
     "shell.execute_reply": "2023-10-16T19:38:48.603795Z"
    },
    "papermill": {
     "duration": 0.0207,
     "end_time": "2023-10-16T19:38:48.607341",
     "exception": false,
     "start_time": "2023-10-16T19:38:48.586641",
     "status": "completed"
    },
    "tags": []
   },
   "outputs": [],
   "source": [
    "def plot_confusion_matrix(y,y_predict):\n",
    "    \"this function plots the confusion matrix\"\n",
    "    from sklearn.metrics import confusion_matrix\n",
    "\n",
    "    cm = confusion_matrix(y, y_predict)\n",
    "    ax= plt.subplot()\n",
    "    sns.heatmap(cm, cmap ='Greens', annot=True, linewidths = 0.5, \n",
    "                linecolor='black',ax = ax); #annot=True to annotate cells\n",
    "    ax.set_xlabel('Predicted labels')\n",
    "    ax.set_ylabel('True labels')\n",
    "    ax.set_title('Confusion Matrix'); \n",
    "    ax.xaxis.set_ticklabels(['0', '1']); ax.yaxis.set_ticklabels(['0', '1']) \n",
    "    plt.show() "
   ]
  },
  {
   "cell_type": "code",
   "execution_count": 5,
   "id": "9546810f",
   "metadata": {
    "execution": {
     "iopub.execute_input": "2023-10-16T19:38:48.630972Z",
     "iopub.status.busy": "2023-10-16T19:38:48.630645Z",
     "iopub.status.idle": "2023-10-16T19:38:48.636044Z",
     "shell.execute_reply": "2023-10-16T19:38:48.634945Z"
    },
    "papermill": {
     "duration": 0.019232,
     "end_time": "2023-10-16T19:38:48.638003",
     "exception": false,
     "start_time": "2023-10-16T19:38:48.618771",
     "status": "completed"
    },
    "tags": []
   },
   "outputs": [],
   "source": [
    "# function to get the value of the confusion matrix\n",
    "def cm_res(Y_t, Y_hat):\n",
    "    cm_a = confusion_matrix(Y_t, Y_hat)\n",
    "    tp = cm_a[1][1]\n",
    "    tn = cm_a[0][0]\n",
    "    fp = cm_a[0][1]\n",
    "    fn = cm_a[1][0]\n",
    "    return tp, tn, fp, fn"
   ]
  },
  {
   "cell_type": "code",
   "execution_count": 6,
   "id": "1e8713e2",
   "metadata": {
    "execution": {
     "iopub.execute_input": "2023-10-16T19:38:48.661741Z",
     "iopub.status.busy": "2023-10-16T19:38:48.661387Z",
     "iopub.status.idle": "2023-10-16T19:38:48.666866Z",
     "shell.execute_reply": "2023-10-16T19:38:48.665761Z"
    },
    "papermill": {
     "duration": 0.019967,
     "end_time": "2023-10-16T19:38:48.668901",
     "exception": false,
     "start_time": "2023-10-16T19:38:48.648934",
     "status": "completed"
    },
    "tags": []
   },
   "outputs": [],
   "source": [
    "# this prepares for the overview, shows the confusion matrix\n",
    "def overw(X, Y, Y_hat, fitter):\n",
    "    plot_confusion_matrix(Y,Y_hat)\n",
    "    a = fitter.score(X, Y)\n",
    "    b = metrics.f1_score(Y, Y_hat)\n",
    "    c = metrics.roc_auc_score(Y, Y_hat)\n",
    "    return a, b, c"
   ]
  },
  {
   "cell_type": "markdown",
   "id": "72d2b2fb",
   "metadata": {
    "papermill": {
     "duration": 0.011963,
     "end_time": "2023-10-16T19:38:48.691839",
     "exception": false,
     "start_time": "2023-10-16T19:38:48.679876",
     "status": "completed"
    },
    "tags": []
   },
   "source": [
    "## Load and prepare the data\n"
   ]
  },
  {
   "cell_type": "markdown",
   "id": "78520d8e",
   "metadata": {
    "papermill": {
     "duration": 0.069065,
     "end_time": "2023-10-16T19:38:48.772235",
     "exception": false,
     "start_time": "2023-10-16T19:38:48.703170",
     "status": "completed"
    },
    "tags": []
   },
   "source": [
    "### Training / test data"
   ]
  },
  {
   "cell_type": "code",
   "execution_count": 7,
   "id": "c026e083",
   "metadata": {
    "execution": {
     "iopub.execute_input": "2023-10-16T19:38:48.796133Z",
     "iopub.status.busy": "2023-10-16T19:38:48.795778Z",
     "iopub.status.idle": "2023-10-16T19:38:48.802828Z",
     "shell.execute_reply": "2023-10-16T19:38:48.801625Z"
    },
    "papermill": {
     "duration": 0.021582,
     "end_time": "2023-10-16T19:38:48.804945",
     "exception": false,
     "start_time": "2023-10-16T19:38:48.783363",
     "status": "completed"
    },
    "tags": []
   },
   "outputs": [
    {
     "data": {
      "text/plain": [
       "['spaceship-titanic']"
      ]
     },
     "execution_count": 7,
     "metadata": {},
     "output_type": "execute_result"
    }
   ],
   "source": [
    "import os;\n",
    "os.listdir('/kaggle/input/')"
   ]
  },
  {
   "cell_type": "code",
   "execution_count": 8,
   "id": "95d44c1c",
   "metadata": {
    "execution": {
     "iopub.execute_input": "2023-10-16T19:38:48.829233Z",
     "iopub.status.busy": "2023-10-16T19:38:48.828871Z",
     "iopub.status.idle": "2023-10-16T19:38:48.913640Z",
     "shell.execute_reply": "2023-10-16T19:38:48.912528Z"
    },
    "papermill": {
     "duration": 0.099702,
     "end_time": "2023-10-16T19:38:48.915954",
     "exception": false,
     "start_time": "2023-10-16T19:38:48.816252",
     "status": "completed"
    },
    "tags": []
   },
   "outputs": [],
   "source": [
    "# This is the training data\n",
    "data = pd.read_csv(\"/kaggle/input/spaceship-titanic/train.csv\")\n",
    "\n",
    "\n",
    "# This is the test / prediction data\n",
    "data_pred = pd.read_csv(\"/kaggle/input/spaceship-titanic/test.csv\")"
   ]
  },
  {
   "cell_type": "code",
   "execution_count": 9,
   "id": "e9fd69f2",
   "metadata": {
    "execution": {
     "iopub.execute_input": "2023-10-16T19:38:48.939999Z",
     "iopub.status.busy": "2023-10-16T19:38:48.939611Z",
     "iopub.status.idle": "2023-10-16T19:38:48.945879Z",
     "shell.execute_reply": "2023-10-16T19:38:48.944681Z"
    },
    "papermill": {
     "duration": 0.020703,
     "end_time": "2023-10-16T19:38:48.947958",
     "exception": false,
     "start_time": "2023-10-16T19:38:48.927255",
     "status": "completed"
    },
    "tags": []
   },
   "outputs": [
    {
     "data": {
      "text/plain": [
       "(8693, 14)"
      ]
     },
     "execution_count": 9,
     "metadata": {},
     "output_type": "execute_result"
    }
   ],
   "source": [
    "data.shape"
   ]
  },
  {
   "cell_type": "code",
   "execution_count": 10,
   "id": "6d40a51e",
   "metadata": {
    "execution": {
     "iopub.execute_input": "2023-10-16T19:38:48.971992Z",
     "iopub.status.busy": "2023-10-16T19:38:48.971626Z",
     "iopub.status.idle": "2023-10-16T19:38:48.979026Z",
     "shell.execute_reply": "2023-10-16T19:38:48.977999Z"
    },
    "papermill": {
     "duration": 0.021701,
     "end_time": "2023-10-16T19:38:48.980980",
     "exception": false,
     "start_time": "2023-10-16T19:38:48.959279",
     "status": "completed"
    },
    "tags": []
   },
   "outputs": [
    {
     "data": {
      "text/plain": [
       "(4277, 13)"
      ]
     },
     "execution_count": 10,
     "metadata": {},
     "output_type": "execute_result"
    }
   ],
   "source": [
    "data_pred.shape"
   ]
  },
  {
   "cell_type": "code",
   "execution_count": 11,
   "id": "b50625e7",
   "metadata": {
    "execution": {
     "iopub.execute_input": "2023-10-16T19:38:49.005957Z",
     "iopub.status.busy": "2023-10-16T19:38:49.005628Z",
     "iopub.status.idle": "2023-10-16T19:38:49.032398Z",
     "shell.execute_reply": "2023-10-16T19:38:49.031198Z"
    },
    "papermill": {
     "duration": 0.041762,
     "end_time": "2023-10-16T19:38:49.034669",
     "exception": false,
     "start_time": "2023-10-16T19:38:48.992907",
     "status": "completed"
    },
    "scrolled": true,
    "tags": []
   },
   "outputs": [
    {
     "data": {
      "text/html": [
       "<div>\n",
       "<style scoped>\n",
       "    .dataframe tbody tr th:only-of-type {\n",
       "        vertical-align: middle;\n",
       "    }\n",
       "\n",
       "    .dataframe tbody tr th {\n",
       "        vertical-align: top;\n",
       "    }\n",
       "\n",
       "    .dataframe thead th {\n",
       "        text-align: right;\n",
       "    }\n",
       "</style>\n",
       "<table border=\"1\" class=\"dataframe\">\n",
       "  <thead>\n",
       "    <tr style=\"text-align: right;\">\n",
       "      <th></th>\n",
       "      <th>PassengerId</th>\n",
       "      <th>HomePlanet</th>\n",
       "      <th>CryoSleep</th>\n",
       "      <th>Cabin</th>\n",
       "      <th>Destination</th>\n",
       "      <th>Age</th>\n",
       "      <th>VIP</th>\n",
       "      <th>RoomService</th>\n",
       "      <th>FoodCourt</th>\n",
       "      <th>ShoppingMall</th>\n",
       "      <th>Spa</th>\n",
       "      <th>VRDeck</th>\n",
       "      <th>Name</th>\n",
       "      <th>Transported</th>\n",
       "    </tr>\n",
       "  </thead>\n",
       "  <tbody>\n",
       "    <tr>\n",
       "      <th>0</th>\n",
       "      <td>0001_01</td>\n",
       "      <td>Europa</td>\n",
       "      <td>False</td>\n",
       "      <td>B/0/P</td>\n",
       "      <td>TRAPPIST-1e</td>\n",
       "      <td>39.0</td>\n",
       "      <td>False</td>\n",
       "      <td>0.0</td>\n",
       "      <td>0.0</td>\n",
       "      <td>0.0</td>\n",
       "      <td>0.0</td>\n",
       "      <td>0.0</td>\n",
       "      <td>Maham Ofracculy</td>\n",
       "      <td>False</td>\n",
       "    </tr>\n",
       "    <tr>\n",
       "      <th>1</th>\n",
       "      <td>0002_01</td>\n",
       "      <td>Earth</td>\n",
       "      <td>False</td>\n",
       "      <td>F/0/S</td>\n",
       "      <td>TRAPPIST-1e</td>\n",
       "      <td>24.0</td>\n",
       "      <td>False</td>\n",
       "      <td>109.0</td>\n",
       "      <td>9.0</td>\n",
       "      <td>25.0</td>\n",
       "      <td>549.0</td>\n",
       "      <td>44.0</td>\n",
       "      <td>Juanna Vines</td>\n",
       "      <td>True</td>\n",
       "    </tr>\n",
       "    <tr>\n",
       "      <th>2</th>\n",
       "      <td>0003_01</td>\n",
       "      <td>Europa</td>\n",
       "      <td>False</td>\n",
       "      <td>A/0/S</td>\n",
       "      <td>TRAPPIST-1e</td>\n",
       "      <td>58.0</td>\n",
       "      <td>True</td>\n",
       "      <td>43.0</td>\n",
       "      <td>3576.0</td>\n",
       "      <td>0.0</td>\n",
       "      <td>6715.0</td>\n",
       "      <td>49.0</td>\n",
       "      <td>Altark Susent</td>\n",
       "      <td>False</td>\n",
       "    </tr>\n",
       "    <tr>\n",
       "      <th>3</th>\n",
       "      <td>0003_02</td>\n",
       "      <td>Europa</td>\n",
       "      <td>False</td>\n",
       "      <td>A/0/S</td>\n",
       "      <td>TRAPPIST-1e</td>\n",
       "      <td>33.0</td>\n",
       "      <td>False</td>\n",
       "      <td>0.0</td>\n",
       "      <td>1283.0</td>\n",
       "      <td>371.0</td>\n",
       "      <td>3329.0</td>\n",
       "      <td>193.0</td>\n",
       "      <td>Solam Susent</td>\n",
       "      <td>False</td>\n",
       "    </tr>\n",
       "    <tr>\n",
       "      <th>4</th>\n",
       "      <td>0004_01</td>\n",
       "      <td>Earth</td>\n",
       "      <td>False</td>\n",
       "      <td>F/1/S</td>\n",
       "      <td>TRAPPIST-1e</td>\n",
       "      <td>16.0</td>\n",
       "      <td>False</td>\n",
       "      <td>303.0</td>\n",
       "      <td>70.0</td>\n",
       "      <td>151.0</td>\n",
       "      <td>565.0</td>\n",
       "      <td>2.0</td>\n",
       "      <td>Willy Santantines</td>\n",
       "      <td>True</td>\n",
       "    </tr>\n",
       "  </tbody>\n",
       "</table>\n",
       "</div>"
      ],
      "text/plain": [
       "  PassengerId HomePlanet CryoSleep  Cabin  Destination   Age    VIP  \\\n",
       "0     0001_01     Europa     False  B/0/P  TRAPPIST-1e  39.0  False   \n",
       "1     0002_01      Earth     False  F/0/S  TRAPPIST-1e  24.0  False   \n",
       "2     0003_01     Europa     False  A/0/S  TRAPPIST-1e  58.0   True   \n",
       "3     0003_02     Europa     False  A/0/S  TRAPPIST-1e  33.0  False   \n",
       "4     0004_01      Earth     False  F/1/S  TRAPPIST-1e  16.0  False   \n",
       "\n",
       "   RoomService  FoodCourt  ShoppingMall     Spa  VRDeck               Name  \\\n",
       "0          0.0        0.0           0.0     0.0     0.0    Maham Ofracculy   \n",
       "1        109.0        9.0          25.0   549.0    44.0       Juanna Vines   \n",
       "2         43.0     3576.0           0.0  6715.0    49.0      Altark Susent   \n",
       "3          0.0     1283.0         371.0  3329.0   193.0       Solam Susent   \n",
       "4        303.0       70.0         151.0   565.0     2.0  Willy Santantines   \n",
       "\n",
       "   Transported  \n",
       "0        False  \n",
       "1         True  \n",
       "2        False  \n",
       "3        False  \n",
       "4         True  "
      ]
     },
     "execution_count": 11,
     "metadata": {},
     "output_type": "execute_result"
    }
   ],
   "source": [
    "data.head()"
   ]
  },
  {
   "cell_type": "code",
   "execution_count": 12,
   "id": "b7b29037",
   "metadata": {
    "execution": {
     "iopub.execute_input": "2023-10-16T19:38:49.060474Z",
     "iopub.status.busy": "2023-10-16T19:38:49.060066Z",
     "iopub.status.idle": "2023-10-16T19:38:49.065343Z",
     "shell.execute_reply": "2023-10-16T19:38:49.064578Z"
    },
    "papermill": {
     "duration": 0.020968,
     "end_time": "2023-10-16T19:38:49.067369",
     "exception": false,
     "start_time": "2023-10-16T19:38:49.046401",
     "status": "completed"
    },
    "tags": []
   },
   "outputs": [],
   "source": [
    "# First, copy the data into dataframes that we will use throughout the notebook. In case later we want to \"reset\", no need to upload the data again.\n",
    "df = data.copy()\n",
    "df_pred = data_pred.copy()"
   ]
  },
  {
   "cell_type": "markdown",
   "id": "ff49d573",
   "metadata": {
    "papermill": {
     "duration": 0.011973,
     "end_time": "2023-10-16T19:38:49.091039",
     "exception": false,
     "start_time": "2023-10-16T19:38:49.079066",
     "status": "completed"
    },
    "tags": []
   },
   "source": [
    "#### Encode categorical data"
   ]
  },
  {
   "cell_type": "code",
   "execution_count": 13,
   "id": "1dcec4d5",
   "metadata": {
    "execution": {
     "iopub.execute_input": "2023-10-16T19:38:49.117008Z",
     "iopub.status.busy": "2023-10-16T19:38:49.116012Z",
     "iopub.status.idle": "2023-10-16T19:38:49.126476Z",
     "shell.execute_reply": "2023-10-16T19:38:49.125426Z"
    },
    "papermill": {
     "duration": 0.025419,
     "end_time": "2023-10-16T19:38:49.128653",
     "exception": false,
     "start_time": "2023-10-16T19:38:49.103234",
     "status": "completed"
    },
    "tags": []
   },
   "outputs": [],
   "source": [
    "# Store the passager ID in the index\n",
    "df.set_index(\"PassengerId\", inplace = True)\n",
    "df_pred.set_index(\"PassengerId\", inplace = True)"
   ]
  },
  {
   "cell_type": "code",
   "execution_count": 14,
   "id": "32094106",
   "metadata": {
    "execution": {
     "iopub.execute_input": "2023-10-16T19:38:49.153346Z",
     "iopub.status.busy": "2023-10-16T19:38:49.152971Z",
     "iopub.status.idle": "2023-10-16T19:38:49.171562Z",
     "shell.execute_reply": "2023-10-16T19:38:49.170608Z"
    },
    "papermill": {
     "duration": 0.03338,
     "end_time": "2023-10-16T19:38:49.173632",
     "exception": false,
     "start_time": "2023-10-16T19:38:49.140252",
     "status": "completed"
    },
    "tags": []
   },
   "outputs": [
    {
     "data": {
      "text/html": [
       "<div>\n",
       "<style scoped>\n",
       "    .dataframe tbody tr th:only-of-type {\n",
       "        vertical-align: middle;\n",
       "    }\n",
       "\n",
       "    .dataframe tbody tr th {\n",
       "        vertical-align: top;\n",
       "    }\n",
       "\n",
       "    .dataframe thead th {\n",
       "        text-align: right;\n",
       "    }\n",
       "</style>\n",
       "<table border=\"1\" class=\"dataframe\">\n",
       "  <thead>\n",
       "    <tr style=\"text-align: right;\">\n",
       "      <th></th>\n",
       "      <th>HomePlanet</th>\n",
       "      <th>CryoSleep</th>\n",
       "      <th>Cabin</th>\n",
       "      <th>Destination</th>\n",
       "      <th>Age</th>\n",
       "      <th>VIP</th>\n",
       "      <th>RoomService</th>\n",
       "      <th>FoodCourt</th>\n",
       "      <th>ShoppingMall</th>\n",
       "      <th>Spa</th>\n",
       "      <th>VRDeck</th>\n",
       "      <th>Name</th>\n",
       "      <th>Transported</th>\n",
       "    </tr>\n",
       "    <tr>\n",
       "      <th>PassengerId</th>\n",
       "      <th></th>\n",
       "      <th></th>\n",
       "      <th></th>\n",
       "      <th></th>\n",
       "      <th></th>\n",
       "      <th></th>\n",
       "      <th></th>\n",
       "      <th></th>\n",
       "      <th></th>\n",
       "      <th></th>\n",
       "      <th></th>\n",
       "      <th></th>\n",
       "      <th></th>\n",
       "    </tr>\n",
       "  </thead>\n",
       "  <tbody>\n",
       "    <tr>\n",
       "      <th>0001_01</th>\n",
       "      <td>Europa</td>\n",
       "      <td>False</td>\n",
       "      <td>B/0/P</td>\n",
       "      <td>TRAPPIST-1e</td>\n",
       "      <td>39.0</td>\n",
       "      <td>False</td>\n",
       "      <td>0.0</td>\n",
       "      <td>0.0</td>\n",
       "      <td>0.0</td>\n",
       "      <td>0.0</td>\n",
       "      <td>0.0</td>\n",
       "      <td>Maham Ofracculy</td>\n",
       "      <td>False</td>\n",
       "    </tr>\n",
       "    <tr>\n",
       "      <th>0002_01</th>\n",
       "      <td>Earth</td>\n",
       "      <td>False</td>\n",
       "      <td>F/0/S</td>\n",
       "      <td>TRAPPIST-1e</td>\n",
       "      <td>24.0</td>\n",
       "      <td>False</td>\n",
       "      <td>109.0</td>\n",
       "      <td>9.0</td>\n",
       "      <td>25.0</td>\n",
       "      <td>549.0</td>\n",
       "      <td>44.0</td>\n",
       "      <td>Juanna Vines</td>\n",
       "      <td>True</td>\n",
       "    </tr>\n",
       "    <tr>\n",
       "      <th>0003_01</th>\n",
       "      <td>Europa</td>\n",
       "      <td>False</td>\n",
       "      <td>A/0/S</td>\n",
       "      <td>TRAPPIST-1e</td>\n",
       "      <td>58.0</td>\n",
       "      <td>True</td>\n",
       "      <td>43.0</td>\n",
       "      <td>3576.0</td>\n",
       "      <td>0.0</td>\n",
       "      <td>6715.0</td>\n",
       "      <td>49.0</td>\n",
       "      <td>Altark Susent</td>\n",
       "      <td>False</td>\n",
       "    </tr>\n",
       "    <tr>\n",
       "      <th>0003_02</th>\n",
       "      <td>Europa</td>\n",
       "      <td>False</td>\n",
       "      <td>A/0/S</td>\n",
       "      <td>TRAPPIST-1e</td>\n",
       "      <td>33.0</td>\n",
       "      <td>False</td>\n",
       "      <td>0.0</td>\n",
       "      <td>1283.0</td>\n",
       "      <td>371.0</td>\n",
       "      <td>3329.0</td>\n",
       "      <td>193.0</td>\n",
       "      <td>Solam Susent</td>\n",
       "      <td>False</td>\n",
       "    </tr>\n",
       "    <tr>\n",
       "      <th>0004_01</th>\n",
       "      <td>Earth</td>\n",
       "      <td>False</td>\n",
       "      <td>F/1/S</td>\n",
       "      <td>TRAPPIST-1e</td>\n",
       "      <td>16.0</td>\n",
       "      <td>False</td>\n",
       "      <td>303.0</td>\n",
       "      <td>70.0</td>\n",
       "      <td>151.0</td>\n",
       "      <td>565.0</td>\n",
       "      <td>2.0</td>\n",
       "      <td>Willy Santantines</td>\n",
       "      <td>True</td>\n",
       "    </tr>\n",
       "  </tbody>\n",
       "</table>\n",
       "</div>"
      ],
      "text/plain": [
       "            HomePlanet CryoSleep  Cabin  Destination   Age    VIP  \\\n",
       "PassengerId                                                         \n",
       "0001_01         Europa     False  B/0/P  TRAPPIST-1e  39.0  False   \n",
       "0002_01          Earth     False  F/0/S  TRAPPIST-1e  24.0  False   \n",
       "0003_01         Europa     False  A/0/S  TRAPPIST-1e  58.0   True   \n",
       "0003_02         Europa     False  A/0/S  TRAPPIST-1e  33.0  False   \n",
       "0004_01          Earth     False  F/1/S  TRAPPIST-1e  16.0  False   \n",
       "\n",
       "             RoomService  FoodCourt  ShoppingMall     Spa  VRDeck  \\\n",
       "PassengerId                                                         \n",
       "0001_01              0.0        0.0           0.0     0.0     0.0   \n",
       "0002_01            109.0        9.0          25.0   549.0    44.0   \n",
       "0003_01             43.0     3576.0           0.0  6715.0    49.0   \n",
       "0003_02              0.0     1283.0         371.0  3329.0   193.0   \n",
       "0004_01            303.0       70.0         151.0   565.0     2.0   \n",
       "\n",
       "                          Name  Transported  \n",
       "PassengerId                                  \n",
       "0001_01        Maham Ofracculy        False  \n",
       "0002_01           Juanna Vines         True  \n",
       "0003_01          Altark Susent        False  \n",
       "0003_02           Solam Susent        False  \n",
       "0004_01      Willy Santantines         True  "
      ]
     },
     "execution_count": 14,
     "metadata": {},
     "output_type": "execute_result"
    }
   ],
   "source": [
    "df.head()"
   ]
  },
  {
   "cell_type": "code",
   "execution_count": 15,
   "id": "feb81111",
   "metadata": {
    "execution": {
     "iopub.execute_input": "2023-10-16T19:38:49.200184Z",
     "iopub.status.busy": "2023-10-16T19:38:49.199781Z",
     "iopub.status.idle": "2023-10-16T19:38:49.207397Z",
     "shell.execute_reply": "2023-10-16T19:38:49.206426Z"
    },
    "papermill": {
     "duration": 0.023396,
     "end_time": "2023-10-16T19:38:49.209042",
     "exception": false,
     "start_time": "2023-10-16T19:38:49.185646",
     "status": "completed"
    },
    "tags": []
   },
   "outputs": [
    {
     "data": {
      "text/plain": [
       "array([0., 1., 0., ..., 1., 0., 1.])"
      ]
     },
     "execution_count": 15,
     "metadata": {},
     "output_type": "execute_result"
    }
   ],
   "source": [
    "# Extract the target set\n",
    "Y = df[\"Transported\"].to_numpy(copy = True, dtype = float)\n",
    "Y"
   ]
  },
  {
   "cell_type": "code",
   "execution_count": 16,
   "id": "5b873018",
   "metadata": {
    "execution": {
     "iopub.execute_input": "2023-10-16T19:38:49.234553Z",
     "iopub.status.busy": "2023-10-16T19:38:49.234208Z",
     "iopub.status.idle": "2023-10-16T19:38:49.246858Z",
     "shell.execute_reply": "2023-10-16T19:38:49.245671Z"
    },
    "papermill": {
     "duration": 0.028095,
     "end_time": "2023-10-16T19:38:49.248984",
     "exception": false,
     "start_time": "2023-10-16T19:38:49.220889",
     "status": "completed"
    },
    "tags": []
   },
   "outputs": [
    {
     "name": "stdout",
     "output_type": "stream",
     "text": [
      "4\n",
      "6561\n",
      "4\n",
      "4\n",
      "3266\n",
      "4\n"
     ]
    }
   ],
   "source": [
    "# Convert categorical to one-hot encoding - but first let's check how practical that is\n",
    "print(len(df[\"HomePlanet\"].unique()))\n",
    "print(len(df[\"Cabin\"].unique()))\n",
    "print(len(df[\"Destination\"].unique()))\n",
    "print(len(df_pred[\"HomePlanet\"].unique()))\n",
    "print(len(df_pred[\"Cabin\"].unique()))\n",
    "print(len(df_pred[\"Destination\"].unique()))"
   ]
  },
  {
   "cell_type": "markdown",
   "id": "30f990a9",
   "metadata": {
    "papermill": {
     "duration": 0.011755,
     "end_time": "2023-10-16T19:38:49.272877",
     "exception": false,
     "start_time": "2023-10-16T19:38:49.261122",
     "status": "completed"
    },
    "tags": []
   },
   "source": [
    "For the category \"Cabin\" there too many unique values - we will not one-hot encode them, we will for now drop them.\n",
    "\n",
    "As for the others: it looks good, not too many unique values per category - so we can proceed with one-hot enconding."
   ]
  },
  {
   "cell_type": "code",
   "execution_count": 17,
   "id": "29bf78fd",
   "metadata": {
    "execution": {
     "iopub.execute_input": "2023-10-16T19:38:49.298233Z",
     "iopub.status.busy": "2023-10-16T19:38:49.297796Z",
     "iopub.status.idle": "2023-10-16T19:38:49.315614Z",
     "shell.execute_reply": "2023-10-16T19:38:49.314438Z"
    },
    "papermill": {
     "duration": 0.033206,
     "end_time": "2023-10-16T19:38:49.317862",
     "exception": false,
     "start_time": "2023-10-16T19:38:49.284656",
     "status": "completed"
    },
    "tags": []
   },
   "outputs": [],
   "source": [
    "# focus on the columns that we will one-hot encode\n",
    "df_X = df.drop(columns = [\"Cabin\"]).loc[:,\"HomePlanet\":\"VRDeck\"].copy()\n",
    "df_X_test = df_pred.drop(columns = [\"Cabin\"]).loc[:,\"HomePlanet\":\"VRDeck\"].copy()"
   ]
  },
  {
   "cell_type": "code",
   "execution_count": 18,
   "id": "58e9c844",
   "metadata": {
    "execution": {
     "iopub.execute_input": "2023-10-16T19:38:49.343511Z",
     "iopub.status.busy": "2023-10-16T19:38:49.343111Z",
     "iopub.status.idle": "2023-10-16T19:38:49.358999Z",
     "shell.execute_reply": "2023-10-16T19:38:49.357939Z"
    },
    "papermill": {
     "duration": 0.030989,
     "end_time": "2023-10-16T19:38:49.360968",
     "exception": false,
     "start_time": "2023-10-16T19:38:49.329979",
     "status": "completed"
    },
    "tags": []
   },
   "outputs": [
    {
     "data": {
      "text/html": [
       "<div>\n",
       "<style scoped>\n",
       "    .dataframe tbody tr th:only-of-type {\n",
       "        vertical-align: middle;\n",
       "    }\n",
       "\n",
       "    .dataframe tbody tr th {\n",
       "        vertical-align: top;\n",
       "    }\n",
       "\n",
       "    .dataframe thead th {\n",
       "        text-align: right;\n",
       "    }\n",
       "</style>\n",
       "<table border=\"1\" class=\"dataframe\">\n",
       "  <thead>\n",
       "    <tr style=\"text-align: right;\">\n",
       "      <th></th>\n",
       "      <th>HomePlanet</th>\n",
       "      <th>CryoSleep</th>\n",
       "      <th>Destination</th>\n",
       "      <th>Age</th>\n",
       "      <th>VIP</th>\n",
       "      <th>RoomService</th>\n",
       "      <th>FoodCourt</th>\n",
       "      <th>ShoppingMall</th>\n",
       "      <th>Spa</th>\n",
       "      <th>VRDeck</th>\n",
       "    </tr>\n",
       "    <tr>\n",
       "      <th>PassengerId</th>\n",
       "      <th></th>\n",
       "      <th></th>\n",
       "      <th></th>\n",
       "      <th></th>\n",
       "      <th></th>\n",
       "      <th></th>\n",
       "      <th></th>\n",
       "      <th></th>\n",
       "      <th></th>\n",
       "      <th></th>\n",
       "    </tr>\n",
       "  </thead>\n",
       "  <tbody>\n",
       "    <tr>\n",
       "      <th>0001_01</th>\n",
       "      <td>Europa</td>\n",
       "      <td>False</td>\n",
       "      <td>TRAPPIST-1e</td>\n",
       "      <td>39.0</td>\n",
       "      <td>False</td>\n",
       "      <td>0.0</td>\n",
       "      <td>0.0</td>\n",
       "      <td>0.0</td>\n",
       "      <td>0.0</td>\n",
       "      <td>0.0</td>\n",
       "    </tr>\n",
       "    <tr>\n",
       "      <th>0002_01</th>\n",
       "      <td>Earth</td>\n",
       "      <td>False</td>\n",
       "      <td>TRAPPIST-1e</td>\n",
       "      <td>24.0</td>\n",
       "      <td>False</td>\n",
       "      <td>109.0</td>\n",
       "      <td>9.0</td>\n",
       "      <td>25.0</td>\n",
       "      <td>549.0</td>\n",
       "      <td>44.0</td>\n",
       "    </tr>\n",
       "    <tr>\n",
       "      <th>0003_01</th>\n",
       "      <td>Europa</td>\n",
       "      <td>False</td>\n",
       "      <td>TRAPPIST-1e</td>\n",
       "      <td>58.0</td>\n",
       "      <td>True</td>\n",
       "      <td>43.0</td>\n",
       "      <td>3576.0</td>\n",
       "      <td>0.0</td>\n",
       "      <td>6715.0</td>\n",
       "      <td>49.0</td>\n",
       "    </tr>\n",
       "    <tr>\n",
       "      <th>0003_02</th>\n",
       "      <td>Europa</td>\n",
       "      <td>False</td>\n",
       "      <td>TRAPPIST-1e</td>\n",
       "      <td>33.0</td>\n",
       "      <td>False</td>\n",
       "      <td>0.0</td>\n",
       "      <td>1283.0</td>\n",
       "      <td>371.0</td>\n",
       "      <td>3329.0</td>\n",
       "      <td>193.0</td>\n",
       "    </tr>\n",
       "    <tr>\n",
       "      <th>0004_01</th>\n",
       "      <td>Earth</td>\n",
       "      <td>False</td>\n",
       "      <td>TRAPPIST-1e</td>\n",
       "      <td>16.0</td>\n",
       "      <td>False</td>\n",
       "      <td>303.0</td>\n",
       "      <td>70.0</td>\n",
       "      <td>151.0</td>\n",
       "      <td>565.0</td>\n",
       "      <td>2.0</td>\n",
       "    </tr>\n",
       "  </tbody>\n",
       "</table>\n",
       "</div>"
      ],
      "text/plain": [
       "            HomePlanet CryoSleep  Destination   Age    VIP  RoomService  \\\n",
       "PassengerId                                                               \n",
       "0001_01         Europa     False  TRAPPIST-1e  39.0  False          0.0   \n",
       "0002_01          Earth     False  TRAPPIST-1e  24.0  False        109.0   \n",
       "0003_01         Europa     False  TRAPPIST-1e  58.0   True         43.0   \n",
       "0003_02         Europa     False  TRAPPIST-1e  33.0  False          0.0   \n",
       "0004_01          Earth     False  TRAPPIST-1e  16.0  False        303.0   \n",
       "\n",
       "             FoodCourt  ShoppingMall     Spa  VRDeck  \n",
       "PassengerId                                           \n",
       "0001_01            0.0           0.0     0.0     0.0  \n",
       "0002_01            9.0          25.0   549.0    44.0  \n",
       "0003_01         3576.0           0.0  6715.0    49.0  \n",
       "0003_02         1283.0         371.0  3329.0   193.0  \n",
       "0004_01           70.0         151.0   565.0     2.0  "
      ]
     },
     "execution_count": 18,
     "metadata": {},
     "output_type": "execute_result"
    }
   ],
   "source": [
    "df_X.head()"
   ]
  },
  {
   "cell_type": "code",
   "execution_count": 19,
   "id": "36e1c2d0",
   "metadata": {
    "execution": {
     "iopub.execute_input": "2023-10-16T19:38:49.387087Z",
     "iopub.status.busy": "2023-10-16T19:38:49.386686Z",
     "iopub.status.idle": "2023-10-16T19:38:49.410199Z",
     "shell.execute_reply": "2023-10-16T19:38:49.409002Z"
    },
    "papermill": {
     "duration": 0.03956,
     "end_time": "2023-10-16T19:38:49.412785",
     "exception": false,
     "start_time": "2023-10-16T19:38:49.373225",
     "status": "completed"
    },
    "tags": []
   },
   "outputs": [],
   "source": [
    "# These are the encoded variables that we will later use for modeling\n",
    "\n",
    "df_X_num = pd.get_dummies(df_X, dtype=float)\n",
    "df_X_test_num = pd.get_dummies(df_X_test, dtype=float)"
   ]
  },
  {
   "cell_type": "code",
   "execution_count": 20,
   "id": "41d58f4e",
   "metadata": {
    "execution": {
     "iopub.execute_input": "2023-10-16T19:38:49.438793Z",
     "iopub.status.busy": "2023-10-16T19:38:49.438420Z",
     "iopub.status.idle": "2023-10-16T19:38:49.461532Z",
     "shell.execute_reply": "2023-10-16T19:38:49.460481Z"
    },
    "papermill": {
     "duration": 0.038376,
     "end_time": "2023-10-16T19:38:49.463496",
     "exception": false,
     "start_time": "2023-10-16T19:38:49.425120",
     "status": "completed"
    },
    "tags": []
   },
   "outputs": [
    {
     "data": {
      "text/html": [
       "<div>\n",
       "<style scoped>\n",
       "    .dataframe tbody tr th:only-of-type {\n",
       "        vertical-align: middle;\n",
       "    }\n",
       "\n",
       "    .dataframe tbody tr th {\n",
       "        vertical-align: top;\n",
       "    }\n",
       "\n",
       "    .dataframe thead th {\n",
       "        text-align: right;\n",
       "    }\n",
       "</style>\n",
       "<table border=\"1\" class=\"dataframe\">\n",
       "  <thead>\n",
       "    <tr style=\"text-align: right;\">\n",
       "      <th></th>\n",
       "      <th>Age</th>\n",
       "      <th>RoomService</th>\n",
       "      <th>FoodCourt</th>\n",
       "      <th>ShoppingMall</th>\n",
       "      <th>Spa</th>\n",
       "      <th>VRDeck</th>\n",
       "      <th>HomePlanet_Earth</th>\n",
       "      <th>HomePlanet_Europa</th>\n",
       "      <th>HomePlanet_Mars</th>\n",
       "      <th>CryoSleep_False</th>\n",
       "      <th>CryoSleep_True</th>\n",
       "      <th>Destination_55 Cancri e</th>\n",
       "      <th>Destination_PSO J318.5-22</th>\n",
       "      <th>Destination_TRAPPIST-1e</th>\n",
       "      <th>VIP_False</th>\n",
       "      <th>VIP_True</th>\n",
       "    </tr>\n",
       "    <tr>\n",
       "      <th>PassengerId</th>\n",
       "      <th></th>\n",
       "      <th></th>\n",
       "      <th></th>\n",
       "      <th></th>\n",
       "      <th></th>\n",
       "      <th></th>\n",
       "      <th></th>\n",
       "      <th></th>\n",
       "      <th></th>\n",
       "      <th></th>\n",
       "      <th></th>\n",
       "      <th></th>\n",
       "      <th></th>\n",
       "      <th></th>\n",
       "      <th></th>\n",
       "      <th></th>\n",
       "    </tr>\n",
       "  </thead>\n",
       "  <tbody>\n",
       "    <tr>\n",
       "      <th>0001_01</th>\n",
       "      <td>39.0</td>\n",
       "      <td>0.0</td>\n",
       "      <td>0.0</td>\n",
       "      <td>0.0</td>\n",
       "      <td>0.0</td>\n",
       "      <td>0.0</td>\n",
       "      <td>0.0</td>\n",
       "      <td>1.0</td>\n",
       "      <td>0.0</td>\n",
       "      <td>1.0</td>\n",
       "      <td>0.0</td>\n",
       "      <td>0.0</td>\n",
       "      <td>0.0</td>\n",
       "      <td>1.0</td>\n",
       "      <td>1.0</td>\n",
       "      <td>0.0</td>\n",
       "    </tr>\n",
       "    <tr>\n",
       "      <th>0002_01</th>\n",
       "      <td>24.0</td>\n",
       "      <td>109.0</td>\n",
       "      <td>9.0</td>\n",
       "      <td>25.0</td>\n",
       "      <td>549.0</td>\n",
       "      <td>44.0</td>\n",
       "      <td>1.0</td>\n",
       "      <td>0.0</td>\n",
       "      <td>0.0</td>\n",
       "      <td>1.0</td>\n",
       "      <td>0.0</td>\n",
       "      <td>0.0</td>\n",
       "      <td>0.0</td>\n",
       "      <td>1.0</td>\n",
       "      <td>1.0</td>\n",
       "      <td>0.0</td>\n",
       "    </tr>\n",
       "    <tr>\n",
       "      <th>0003_01</th>\n",
       "      <td>58.0</td>\n",
       "      <td>43.0</td>\n",
       "      <td>3576.0</td>\n",
       "      <td>0.0</td>\n",
       "      <td>6715.0</td>\n",
       "      <td>49.0</td>\n",
       "      <td>0.0</td>\n",
       "      <td>1.0</td>\n",
       "      <td>0.0</td>\n",
       "      <td>1.0</td>\n",
       "      <td>0.0</td>\n",
       "      <td>0.0</td>\n",
       "      <td>0.0</td>\n",
       "      <td>1.0</td>\n",
       "      <td>0.0</td>\n",
       "      <td>1.0</td>\n",
       "    </tr>\n",
       "    <tr>\n",
       "      <th>0003_02</th>\n",
       "      <td>33.0</td>\n",
       "      <td>0.0</td>\n",
       "      <td>1283.0</td>\n",
       "      <td>371.0</td>\n",
       "      <td>3329.0</td>\n",
       "      <td>193.0</td>\n",
       "      <td>0.0</td>\n",
       "      <td>1.0</td>\n",
       "      <td>0.0</td>\n",
       "      <td>1.0</td>\n",
       "      <td>0.0</td>\n",
       "      <td>0.0</td>\n",
       "      <td>0.0</td>\n",
       "      <td>1.0</td>\n",
       "      <td>1.0</td>\n",
       "      <td>0.0</td>\n",
       "    </tr>\n",
       "    <tr>\n",
       "      <th>0004_01</th>\n",
       "      <td>16.0</td>\n",
       "      <td>303.0</td>\n",
       "      <td>70.0</td>\n",
       "      <td>151.0</td>\n",
       "      <td>565.0</td>\n",
       "      <td>2.0</td>\n",
       "      <td>1.0</td>\n",
       "      <td>0.0</td>\n",
       "      <td>0.0</td>\n",
       "      <td>1.0</td>\n",
       "      <td>0.0</td>\n",
       "      <td>0.0</td>\n",
       "      <td>0.0</td>\n",
       "      <td>1.0</td>\n",
       "      <td>1.0</td>\n",
       "      <td>0.0</td>\n",
       "    </tr>\n",
       "  </tbody>\n",
       "</table>\n",
       "</div>"
      ],
      "text/plain": [
       "              Age  RoomService  FoodCourt  ShoppingMall     Spa  VRDeck  \\\n",
       "PassengerId                                                               \n",
       "0001_01      39.0          0.0        0.0           0.0     0.0     0.0   \n",
       "0002_01      24.0        109.0        9.0          25.0   549.0    44.0   \n",
       "0003_01      58.0         43.0     3576.0           0.0  6715.0    49.0   \n",
       "0003_02      33.0          0.0     1283.0         371.0  3329.0   193.0   \n",
       "0004_01      16.0        303.0       70.0         151.0   565.0     2.0   \n",
       "\n",
       "             HomePlanet_Earth  HomePlanet_Europa  HomePlanet_Mars  \\\n",
       "PassengerId                                                         \n",
       "0001_01                   0.0                1.0              0.0   \n",
       "0002_01                   1.0                0.0              0.0   \n",
       "0003_01                   0.0                1.0              0.0   \n",
       "0003_02                   0.0                1.0              0.0   \n",
       "0004_01                   1.0                0.0              0.0   \n",
       "\n",
       "             CryoSleep_False  CryoSleep_True  Destination_55 Cancri e  \\\n",
       "PassengerId                                                             \n",
       "0001_01                  1.0             0.0                      0.0   \n",
       "0002_01                  1.0             0.0                      0.0   \n",
       "0003_01                  1.0             0.0                      0.0   \n",
       "0003_02                  1.0             0.0                      0.0   \n",
       "0004_01                  1.0             0.0                      0.0   \n",
       "\n",
       "             Destination_PSO J318.5-22  Destination_TRAPPIST-1e  VIP_False  \\\n",
       "PassengerId                                                                  \n",
       "0001_01                            0.0                      1.0        1.0   \n",
       "0002_01                            0.0                      1.0        1.0   \n",
       "0003_01                            0.0                      1.0        0.0   \n",
       "0003_02                            0.0                      1.0        1.0   \n",
       "0004_01                            0.0                      1.0        1.0   \n",
       "\n",
       "             VIP_True  \n",
       "PassengerId            \n",
       "0001_01           0.0  \n",
       "0002_01           0.0  \n",
       "0003_01           1.0  \n",
       "0003_02           0.0  \n",
       "0004_01           0.0  "
      ]
     },
     "execution_count": 20,
     "metadata": {},
     "output_type": "execute_result"
    }
   ],
   "source": [
    "df_X_num.head()"
   ]
  },
  {
   "cell_type": "code",
   "execution_count": 21,
   "id": "51b94487",
   "metadata": {
    "execution": {
     "iopub.execute_input": "2023-10-16T19:38:49.490415Z",
     "iopub.status.busy": "2023-10-16T19:38:49.490028Z",
     "iopub.status.idle": "2023-10-16T19:38:49.495935Z",
     "shell.execute_reply": "2023-10-16T19:38:49.494974Z"
    },
    "papermill": {
     "duration": 0.021579,
     "end_time": "2023-10-16T19:38:49.498046",
     "exception": false,
     "start_time": "2023-10-16T19:38:49.476467",
     "status": "completed"
    },
    "tags": []
   },
   "outputs": [
    {
     "data": {
      "text/plain": [
       "(8693, 16)"
      ]
     },
     "execution_count": 21,
     "metadata": {},
     "output_type": "execute_result"
    }
   ],
   "source": [
    "df_X_num.shape"
   ]
  },
  {
   "cell_type": "markdown",
   "id": "fbb50a07",
   "metadata": {
    "papermill": {
     "duration": 0.012283,
     "end_time": "2023-10-16T19:38:49.523007",
     "exception": false,
     "start_time": "2023-10-16T19:38:49.510724",
     "status": "completed"
    },
    "tags": []
   },
   "source": [
    "#### Familiarize ourselves with the data by looking at distributions, correlation matrix, etc - which variables play the most important role, etc."
   ]
  },
  {
   "cell_type": "code",
   "execution_count": 22,
   "id": "07f5bbb3",
   "metadata": {
    "execution": {
     "iopub.execute_input": "2023-10-16T19:38:49.549814Z",
     "iopub.status.busy": "2023-10-16T19:38:49.549491Z",
     "iopub.status.idle": "2023-10-16T19:38:49.569521Z",
     "shell.execute_reply": "2023-10-16T19:38:49.568483Z"
    },
    "papermill": {
     "duration": 0.035826,
     "end_time": "2023-10-16T19:38:49.571608",
     "exception": false,
     "start_time": "2023-10-16T19:38:49.535782",
     "status": "completed"
    },
    "tags": []
   },
   "outputs": [],
   "source": [
    "# How are the correlations among the variables and target?\n",
    "\n",
    "df_aux = df_X_num.copy() # create an auxiliary DF for the analysis; must be a copy, otherwise df_X_num is modified\n",
    "df_aux[[\"Y\"]] = df[[\"Transported\"]].astype(float) # for the correlation analysis, add the target column to this auxiliary DF  \n",
    "aux = df_aux.corr(numeric_only = True, method = \"pearson\") # correlation matrix"
   ]
  },
  {
   "cell_type": "code",
   "execution_count": 23,
   "id": "35af5761",
   "metadata": {
    "execution": {
     "iopub.execute_input": "2023-10-16T19:38:49.598657Z",
     "iopub.status.busy": "2023-10-16T19:38:49.598274Z",
     "iopub.status.idle": "2023-10-16T19:38:50.241667Z",
     "shell.execute_reply": "2023-10-16T19:38:50.240731Z"
    },
    "papermill": {
     "duration": 0.660676,
     "end_time": "2023-10-16T19:38:50.244952",
     "exception": false,
     "start_time": "2023-10-16T19:38:49.584276",
     "status": "completed"
    },
    "tags": []
   },
   "outputs": [
    {
     "data": {
      "image/png": "[encoded data removed]",
      "text/plain": [
       "<Figure size 960x720 with 2 Axes>"
      ]
     },
     "metadata": {},
     "output_type": "display_data"
    }
   ],
   "source": [
    "# Plot the matrix as a whole\n",
    "sns.heatmap(aux, cmap=\"Spectral\", annot=False, square = True,\n",
    "            vmin=-1, vmax=+1, center = 0)\n",
    "plt.show()"
   ]
  },
  {
   "cell_type": "code",
   "execution_count": 24,
   "id": "d79fe39a",
   "metadata": {
    "execution": {
     "iopub.execute_input": "2023-10-16T19:38:50.276988Z",
     "iopub.status.busy": "2023-10-16T19:38:50.276395Z",
     "iopub.status.idle": "2023-10-16T19:38:50.658102Z",
     "shell.execute_reply": "2023-10-16T19:38:50.656867Z"
    },
    "papermill": {
     "duration": 0.400678,
     "end_time": "2023-10-16T19:38:50.660769",
     "exception": false,
     "start_time": "2023-10-16T19:38:50.260091",
     "status": "completed"
    },
    "tags": []
   },
   "outputs": [
    {
     "data": {
      "image/png": "[encoded data removed]",
      "text/plain": [
       "<Figure size 960x720 with 1 Axes>"
      ]
     },
     "metadata": {},
     "output_type": "display_data"
    }
   ],
   "source": [
    "# Look at the correlation between Y and the different variables \n",
    "\n",
    "sns.barplot(aux[[\"Y\"]].sort_values(by = \"Y\", ascending = False).T, orient=\"h\")\n",
    "plt.show()"
   ]
  },
  {
   "cell_type": "markdown",
   "id": "c6854601",
   "metadata": {
    "papermill": {
     "duration": 0.015836,
     "end_time": "2023-10-16T19:38:50.692803",
     "exception": false,
     "start_time": "2023-10-16T19:38:50.676967",
     "status": "completed"
    },
    "tags": []
   },
   "source": [
    "The strongest correlation between Y (\"Transported\") shows with being in cryoSleep or not."
   ]
  },
  {
   "cell_type": "markdown",
   "id": "c237f28d",
   "metadata": {
    "papermill": {
     "duration": 0.016286,
     "end_time": "2023-10-16T19:38:50.727732",
     "exception": false,
     "start_time": "2023-10-16T19:38:50.711446",
     "status": "completed"
    },
    "tags": []
   },
   "source": [
    "#### Clean up the NaNs"
   ]
  },
  {
   "cell_type": "code",
   "execution_count": 25,
   "id": "a701acc9",
   "metadata": {
    "execution": {
     "iopub.execute_input": "2023-10-16T19:38:50.762479Z",
     "iopub.status.busy": "2023-10-16T19:38:50.762113Z",
     "iopub.status.idle": "2023-10-16T19:38:50.774568Z",
     "shell.execute_reply": "2023-10-16T19:38:50.772880Z"
    },
    "papermill": {
     "duration": 0.032604,
     "end_time": "2023-10-16T19:38:50.776766",
     "exception": false,
     "start_time": "2023-10-16T19:38:50.744162",
     "status": "completed"
    },
    "tags": []
   },
   "outputs": [
    {
     "name": "stdout",
     "output_type": "stream",
     "text": [
      "Age                          179\n",
      "RoomService                  181\n",
      "FoodCourt                    183\n",
      "ShoppingMall                 208\n",
      "Spa                          183\n",
      "VRDeck                       188\n",
      "HomePlanet_Earth               0\n",
      "HomePlanet_Europa              0\n",
      "HomePlanet_Mars                0\n",
      "CryoSleep_False                0\n",
      "CryoSleep_True                 0\n",
      "Destination_55 Cancri e        0\n",
      "Destination_PSO J318.5-22      0\n",
      "Destination_TRAPPIST-1e        0\n",
      "VIP_False                      0\n",
      "VIP_True                       0\n",
      "dtype: int64 \n",
      " \n",
      "\n",
      "Age                           91\n",
      "RoomService                   82\n",
      "FoodCourt                    106\n",
      "ShoppingMall                  98\n",
      "Spa                          101\n",
      "VRDeck                        80\n",
      "HomePlanet_Earth               0\n",
      "HomePlanet_Europa              0\n",
      "HomePlanet_Mars                0\n",
      "CryoSleep_False                0\n",
      "CryoSleep_True                 0\n",
      "Destination_55 Cancri e        0\n",
      "Destination_PSO J318.5-22      0\n",
      "Destination_TRAPPIST-1e        0\n",
      "VIP_False                      0\n",
      "VIP_True                       0\n",
      "dtype: int64 \n",
      " \n",
      "\n",
      "fraction of NaN in df_X_num =  0.02392729782583688   fraction of NaN in df_X_test_num =  0.024783726911386486\n"
     ]
    }
   ],
   "source": [
    "# Are there many NaNs in the encoded variables?\n",
    "\n",
    "print(df_X_num.isna().sum(), \"\\n \\n\")\n",
    "print(df_X_test_num.isna().sum(), \"\\n \\n\")\n",
    "print(\"fraction of NaN in df_X_num = \", df_X_num.isna().sum().max()/len(df_X_num), \n",
    "      \"  fraction of NaN in df_X_test_num = \", df_X_test_num.isna().sum().max()/len(df_X_test_num))"
   ]
  },
  {
   "cell_type": "code",
   "execution_count": 26,
   "id": "36486cae",
   "metadata": {
    "execution": {
     "iopub.execute_input": "2023-10-16T19:38:50.811014Z",
     "iopub.status.busy": "2023-10-16T19:38:50.810613Z",
     "iopub.status.idle": "2023-10-16T19:38:50.824533Z",
     "shell.execute_reply": "2023-10-16T19:38:50.823376Z"
    },
    "papermill": {
     "duration": 0.0338,
     "end_time": "2023-10-16T19:38:50.826854",
     "exception": false,
     "start_time": "2023-10-16T19:38:50.793054",
     "status": "completed"
    },
    "tags": []
   },
   "outputs": [],
   "source": [
    "# In a first (and simplified approach), we substitute the NaN values for the average values in each column.\n",
    "# This may be enough because each column has a much larger number of variables than the highest number of NaN \n",
    "\n",
    "for i in df_X_num.columns[df_X_num.isnull().any(axis=0)]:     #---Applying Only on variables with NaN values\n",
    "    df_X_num[i].fillna(df_X_num[i].mean(),inplace=True)\n",
    "\n",
    "for i in df_X_test_num.columns[df_X_test_num.isnull().any(axis=0)]:     #---Applying Only on variables with NaN values\n",
    "    df_X_test_num[i].fillna(df_X_test_num[i].mean(),inplace=True)"
   ]
  },
  {
   "cell_type": "code",
   "execution_count": 27,
   "id": "64ca07c3",
   "metadata": {
    "execution": {
     "iopub.execute_input": "2023-10-16T19:38:50.862325Z",
     "iopub.status.busy": "2023-10-16T19:38:50.861929Z",
     "iopub.status.idle": "2023-10-16T19:38:50.870640Z",
     "shell.execute_reply": "2023-10-16T19:38:50.869454Z"
    },
    "papermill": {
     "duration": 0.029247,
     "end_time": "2023-10-16T19:38:50.872790",
     "exception": false,
     "start_time": "2023-10-16T19:38:50.843543",
     "status": "completed"
    },
    "tags": []
   },
   "outputs": [
    {
     "name": "stdout",
     "output_type": "stream",
     "text": [
      "fraction of NaN in df_X_num =  0.0   fraction of NaN in df_X_test_num =  0.0\n"
     ]
    }
   ],
   "source": [
    "# Double check\n",
    "print(\"fraction of NaN in df_X_num = \", df_X_num.isna().sum().max()/len(df_X_num), \n",
    "      \"  fraction of NaN in df_X_test_num = \", df_X_test_num.isna().sum().max()/len(df_X_test_num))"
   ]
  },
  {
   "cell_type": "code",
   "execution_count": 28,
   "id": "651925b4",
   "metadata": {
    "execution": {
     "iopub.execute_input": "2023-10-16T19:38:50.906940Z",
     "iopub.status.busy": "2023-10-16T19:38:50.906591Z",
     "iopub.status.idle": "2023-10-16T19:38:50.912716Z",
     "shell.execute_reply": "2023-10-16T19:38:50.911688Z"
    },
    "papermill": {
     "duration": 0.025407,
     "end_time": "2023-10-16T19:38:50.914510",
     "exception": false,
     "start_time": "2023-10-16T19:38:50.889103",
     "status": "completed"
    },
    "tags": []
   },
   "outputs": [
    {
     "data": {
      "text/plain": [
       "8693"
      ]
     },
     "execution_count": 28,
     "metadata": {},
     "output_type": "execute_result"
    }
   ],
   "source": [
    "df_X_num.shape[0]"
   ]
  },
  {
   "cell_type": "code",
   "execution_count": 29,
   "id": "e90473ae",
   "metadata": {
    "execution": {
     "iopub.execute_input": "2023-10-16T19:38:50.948304Z",
     "iopub.status.busy": "2023-10-16T19:38:50.947637Z",
     "iopub.status.idle": "2023-10-16T19:38:50.953498Z",
     "shell.execute_reply": "2023-10-16T19:38:50.952690Z"
    },
    "papermill": {
     "duration": 0.024873,
     "end_time": "2023-10-16T19:38:50.955417",
     "exception": false,
     "start_time": "2023-10-16T19:38:50.930544",
     "status": "completed"
    },
    "tags": []
   },
   "outputs": [
    {
     "data": {
      "text/plain": [
       "8693"
      ]
     },
     "execution_count": 29,
     "metadata": {},
     "output_type": "execute_result"
    }
   ],
   "source": [
    "len(Y)"
   ]
  },
  {
   "cell_type": "markdown",
   "id": "8ef1ce0f",
   "metadata": {
    "papermill": {
     "duration": 0.016381,
     "end_time": "2023-10-16T19:38:50.988132",
     "exception": false,
     "start_time": "2023-10-16T19:38:50.971751",
     "status": "completed"
    },
    "tags": []
   },
   "source": [
    "Importantly, X and Y have the same number of rows (\"same shape\" in this context)."
   ]
  },
  {
   "cell_type": "markdown",
   "id": "e5887e4c",
   "metadata": {
    "papermill": {
     "duration": 0.016545,
     "end_time": "2023-10-16T19:38:51.021516",
     "exception": false,
     "start_time": "2023-10-16T19:38:51.004971",
     "status": "completed"
    },
    "tags": []
   },
   "source": [
    "### Rescaling, folds, prepare for modeling after cleaning up the data"
   ]
  },
  {
   "cell_type": "code",
   "execution_count": 30,
   "id": "d0e95848",
   "metadata": {
    "execution": {
     "iopub.execute_input": "2023-10-16T19:38:51.057224Z",
     "iopub.status.busy": "2023-10-16T19:38:51.056834Z",
     "iopub.status.idle": "2023-10-16T19:38:51.063032Z",
     "shell.execute_reply": "2023-10-16T19:38:51.061980Z"
    },
    "papermill": {
     "duration": 0.026421,
     "end_time": "2023-10-16T19:38:51.065064",
     "exception": false,
     "start_time": "2023-10-16T19:38:51.038643",
     "status": "completed"
    },
    "tags": []
   },
   "outputs": [
    {
     "data": {
      "text/plain": [
       "0.5036236051995858"
      ]
     },
     "execution_count": 30,
     "metadata": {},
     "output_type": "execute_result"
    }
   ],
   "source": [
    "# In this dataset, what is the probability of transportation? \n",
    "Y.mean()"
   ]
  },
  {
   "cell_type": "code",
   "execution_count": 31,
   "id": "5aff01ed",
   "metadata": {
    "execution": {
     "iopub.execute_input": "2023-10-16T19:38:51.103328Z",
     "iopub.status.busy": "2023-10-16T19:38:51.102961Z",
     "iopub.status.idle": "2023-10-16T19:38:51.115084Z",
     "shell.execute_reply": "2023-10-16T19:38:51.114041Z"
    },
    "papermill": {
     "duration": 0.035071,
     "end_time": "2023-10-16T19:38:51.117042",
     "exception": false,
     "start_time": "2023-10-16T19:38:51.081971",
     "status": "completed"
    },
    "tags": []
   },
   "outputs": [
    {
     "data": {
      "text/plain": [
       "array([[ 0.70943692, -0.34058987, -0.28731404, -0.29081703, -0.27666342,\n",
       "        -0.26902263, -1.06061696,  1.754795  , -0.50366411,  0.77348028,\n",
       "        -0.73277002, -0.51101319, -0.31748665,  0.68531265,  0.22019607,\n",
       "        -0.15306307],\n",
       "       [-0.33671733, -0.1753636 , -0.28166908, -0.24896783,  0.2115053 ,\n",
       "        -0.23019432,  0.94284745, -0.56986714, -0.50366411,  0.77348028,\n",
       "        -0.73277002, -0.51101319, -0.31748665,  0.68531265,  0.22019607,\n",
       "        -0.15306307]])"
      ]
     },
     "execution_count": 31,
     "metadata": {},
     "output_type": "execute_result"
    }
   ],
   "source": [
    "# Prepare the variable set, which we will call X\n",
    "# Center and scale X so we can feed it into the models without worrying about unit variance.\n",
    "\n",
    "X = preprocessing.StandardScaler().fit(df_X_num).transform(df_X_num)\n",
    "X[0:2]"
   ]
  },
  {
   "cell_type": "markdown",
   "id": "ca684aa4",
   "metadata": {
    "papermill": {
     "duration": 0.016299,
     "end_time": "2023-10-16T19:38:51.150347",
     "exception": false,
     "start_time": "2023-10-16T19:38:51.134048",
     "status": "completed"
    },
    "tags": []
   },
   "source": [
    "We split the data into training and testing data using the  function  <code>train_test_split</code>.\n",
    "\n",
    "The training data and test data is assigned to the following labels:\n",
    "\n",
    "<code>X_train, X_test, Y_train, Y_test</code>\n"
   ]
  },
  {
   "cell_type": "code",
   "execution_count": 32,
   "id": "78bedb5b",
   "metadata": {
    "execution": {
     "iopub.execute_input": "2023-10-16T19:38:51.185317Z",
     "iopub.status.busy": "2023-10-16T19:38:51.184962Z",
     "iopub.status.idle": "2023-10-16T19:38:51.191829Z",
     "shell.execute_reply": "2023-10-16T19:38:51.190970Z"
    },
    "papermill": {
     "duration": 0.026855,
     "end_time": "2023-10-16T19:38:51.193630",
     "exception": false,
     "start_time": "2023-10-16T19:38:51.166775",
     "status": "completed"
    },
    "tags": []
   },
   "outputs": [
    {
     "name": "stdout",
     "output_type": "stream",
     "text": [
      "Train set: (6954, 16) (6954,)\n",
      "Test set: (1739, 16) (1739,)\n"
     ]
    }
   ],
   "source": [
    "# Here we split 80/20, use as global variables when calling functions\n",
    "X_train, X_test, Y_train, Y_test = train_test_split(X, Y, test_size=0.2, random_state=2)\n",
    "print ('Train set:', X_train.shape,  Y_train.shape)\n",
    "print ('Test set:', X_test.shape,  Y_test.shape)"
   ]
  },
  {
   "cell_type": "code",
   "execution_count": 33,
   "id": "2132dd1c",
   "metadata": {
    "execution": {
     "iopub.execute_input": "2023-10-16T19:38:51.229599Z",
     "iopub.status.busy": "2023-10-16T19:38:51.229002Z",
     "iopub.status.idle": "2023-10-16T19:38:51.233740Z",
     "shell.execute_reply": "2023-10-16T19:38:51.233017Z"
    },
    "papermill": {
     "duration": 0.024439,
     "end_time": "2023-10-16T19:38:51.235704",
     "exception": false,
     "start_time": "2023-10-16T19:38:51.211265",
     "status": "completed"
    },
    "tags": []
   },
   "outputs": [
    {
     "name": "stdout",
     "output_type": "stream",
     "text": [
      "0.5036236051995858\n",
      "0.498561978717285\n",
      "0.5238642898217366\n"
     ]
    }
   ],
   "source": [
    "# random state in the train_test_split so that the average survival rate is +- the same as in the full dataset\n",
    "print(Y.mean())\n",
    "print(Y_train.mean())\n",
    "print(Y_test.mean())"
   ]
  },
  {
   "cell_type": "code",
   "execution_count": 34,
   "id": "30cf0017",
   "metadata": {
    "execution": {
     "iopub.execute_input": "2023-10-16T19:38:51.271043Z",
     "iopub.status.busy": "2023-10-16T19:38:51.270487Z",
     "iopub.status.idle": "2023-10-16T19:38:51.275120Z",
     "shell.execute_reply": "2023-10-16T19:38:51.274411Z"
    },
    "papermill": {
     "duration": 0.024346,
     "end_time": "2023-10-16T19:38:51.276946",
     "exception": false,
     "start_time": "2023-10-16T19:38:51.252600",
     "status": "completed"
    },
    "tags": []
   },
   "outputs": [],
   "source": [
    "# define a function that we will use to fit the models to the data\n",
    "def fitting(model, params):\n",
    "    model_cv = GridSearchCV(model, params, cv = 10, verbose = 1)\n",
    "    model_cv.fit(X_train, Y_train)\n",
    "    print(\"tuned hpyerparameters :(best parameters) \",model_cv.best_params_)\n",
    "    print(\"accuracy :\",model_cv.best_score_) # note that this is what is used to measure success in this Kaggle competition\n",
    "    return(model_cv)"
   ]
  },
  {
   "cell_type": "markdown",
   "id": "7bfed05b",
   "metadata": {
    "papermill": {
     "duration": 0.016405,
     "end_time": "2023-10-16T19:38:51.309941",
     "exception": false,
     "start_time": "2023-10-16T19:38:51.293536",
     "status": "completed"
    },
    "tags": []
   },
   "source": [
    "At this point, we feed Y and X into different models, train and test them, in the end we compare the models to choose the one that we will use to submit our predictions"
   ]
  },
  {
   "cell_type": "code",
   "execution_count": 35,
   "id": "eebe6fb4",
   "metadata": {
    "execution": {
     "iopub.execute_input": "2023-10-16T19:38:51.344655Z",
     "iopub.status.busy": "2023-10-16T19:38:51.344325Z",
     "iopub.status.idle": "2023-10-16T19:38:51.348735Z",
     "shell.execute_reply": "2023-10-16T19:38:51.347604Z"
    },
    "papermill": {
     "duration": 0.024071,
     "end_time": "2023-10-16T19:38:51.350702",
     "exception": false,
     "start_time": "2023-10-16T19:38:51.326631",
     "status": "completed"
    },
    "tags": []
   },
   "outputs": [],
   "source": [
    "# get a list ready to save scores\n",
    "score_list = [[\"Model\", \"Score\", \"F1\", \"AUC\"]]"
   ]
  },
  {
   "cell_type": "markdown",
   "id": "fc9e2b93",
   "metadata": {
    "jp-MarkdownHeadingCollapsed": true,
    "papermill": {
     "duration": 0.016106,
     "end_time": "2023-10-16T19:38:51.383362",
     "exception": false,
     "start_time": "2023-10-16T19:38:51.367256",
     "status": "completed"
    },
    "tags": [],
    "toc-hr-collapsed": true
   },
   "source": [
    "## Modelling"
   ]
  },
  {
   "cell_type": "markdown",
   "id": "2871128f",
   "metadata": {
    "papermill": {
     "duration": 0.016463,
     "end_time": "2023-10-16T19:38:51.417061",
     "exception": false,
     "start_time": "2023-10-16T19:38:51.400598",
     "status": "completed"
    },
    "tags": []
   },
   "source": [
    "### Logistic Regression"
   ]
  },
  {
   "cell_type": "code",
   "execution_count": 36,
   "id": "7d5498d5",
   "metadata": {
    "execution": {
     "iopub.execute_input": "2023-10-16T19:38:51.451761Z",
     "iopub.status.busy": "2023-10-16T19:38:51.450831Z",
     "iopub.status.idle": "2023-10-16T19:38:52.661409Z",
     "shell.execute_reply": "2023-10-16T19:38:52.659954Z"
    },
    "papermill": {
     "duration": 1.232685,
     "end_time": "2023-10-16T19:38:52.666289",
     "exception": false,
     "start_time": "2023-10-16T19:38:51.433604",
     "status": "completed"
    },
    "tags": []
   },
   "outputs": [
    {
     "name": "stdout",
     "output_type": "stream",
     "text": [
      "Fitting 10 folds for each of 3 candidates, totalling 30 fits\n",
      "tuned hpyerparameters :(best parameters)  {'C': 1.0, 'penalty': 'l2', 'solver': 'lbfgs'}\n",
      "accuracy : 0.7845848838170844\n"
     ]
    }
   ],
   "source": [
    "lr = LogisticRegression()\n",
    "parameters ={\"C\":[0.05,1.0,1.5],'penalty':[\"l2\"], 'solver':['lbfgs']} # l1 lasso l2 ridge\n",
    "\n",
    "logreg_cv = fitting(lr, parameters)"
   ]
  },
  {
   "cell_type": "markdown",
   "id": "36e6205a",
   "metadata": {
    "papermill": {
     "duration": 0.043762,
     "end_time": "2023-10-16T19:38:52.756731",
     "exception": false,
     "start_time": "2023-10-16T19:38:52.712969",
     "status": "completed"
    },
    "tags": []
   },
   "source": [
    "Calculate the accuracy on the test data using the method <code>score</code>:\n"
   ]
  },
  {
   "cell_type": "code",
   "execution_count": 37,
   "id": "d85bca35",
   "metadata": {
    "execution": {
     "iopub.execute_input": "2023-10-16T19:38:52.809520Z",
     "iopub.status.busy": "2023-10-16T19:38:52.808932Z",
     "iopub.status.idle": "2023-10-16T19:38:53.201582Z",
     "shell.execute_reply": "2023-10-16T19:38:53.200217Z"
    },
    "papermill": {
     "duration": 0.422216,
     "end_time": "2023-10-16T19:38:53.209275",
     "exception": false,
     "start_time": "2023-10-16T19:38:52.787059",
     "status": "completed"
    },
    "tags": []
   },
   "outputs": [
    {
     "data": {
      "image/png": "[encoded data removed]",
      "text/plain": [
       "<Figure size 960x720 with 2 Axes>"
      ]
     },
     "metadata": {},
     "output_type": "display_data"
    },
    {
     "name": "stdout",
     "output_type": "stream",
     "text": [
      "score =  0.7918343875790684   F1 =  0.8013172338090011 AUC =  0.791359099996288\n"
     ]
    }
   ],
   "source": [
    "# Store the score\n",
    "scr, F1, auc = overw(X_test, Y_test, logreg_cv.predict(X_test), logreg_cv)\n",
    "score_list = score_list + [[\"LR\", scr, F1, auc]]\n",
    "print(\"score = \", scr, \"  F1 = \", F1, \"AUC = \", auc)"
   ]
  },
  {
   "cell_type": "markdown",
   "id": "8e165c78",
   "metadata": {
    "papermill": {
     "duration": 0.036458,
     "end_time": "2023-10-16T19:38:53.318036",
     "exception": false,
     "start_time": "2023-10-16T19:38:53.281578",
     "status": "completed"
    },
    "tags": []
   },
   "source": [
    "### Random Forest"
   ]
  },
  {
   "cell_type": "code",
   "execution_count": 38,
   "id": "088cc1fd",
   "metadata": {
    "execution": {
     "iopub.execute_input": "2023-10-16T19:38:53.369955Z",
     "iopub.status.busy": "2023-10-16T19:38:53.369579Z",
     "iopub.status.idle": "2023-10-16T19:38:59.199690Z",
     "shell.execute_reply": "2023-10-16T19:38:59.198444Z"
    },
    "papermill": {
     "duration": 5.861854,
     "end_time": "2023-10-16T19:38:59.201989",
     "exception": false,
     "start_time": "2023-10-16T19:38:53.340135",
     "status": "completed"
    },
    "tags": []
   },
   "outputs": [
    {
     "name": "stdout",
     "output_type": "stream",
     "text": [
      "Fitting 10 folds for each of 1 candidates, totalling 10 fits\n",
      "tuned hpyerparameters :(best parameters)  {}\n",
      "accuracy : 0.7850124038700075\n"
     ]
    }
   ],
   "source": [
    "rf = ensemble.RandomForestClassifier(n_jobs = -1)\n",
    "parameters ={} # l1 lasso l2 ridge\n",
    "\n",
    "rf_cv = fitting(rf, parameters)"
   ]
  },
  {
   "cell_type": "code",
   "execution_count": 39,
   "id": "a43a7fb5",
   "metadata": {
    "execution": {
     "iopub.execute_input": "2023-10-16T19:38:59.239751Z",
     "iopub.status.busy": "2023-10-16T19:38:59.239411Z",
     "iopub.status.idle": "2023-10-16T19:38:59.675995Z",
     "shell.execute_reply": "2023-10-16T19:38:59.674889Z"
    },
    "papermill": {
     "duration": 0.457998,
     "end_time": "2023-10-16T19:38:59.678256",
     "exception": false,
     "start_time": "2023-10-16T19:38:59.220258",
     "status": "completed"
    },
    "tags": []
   },
   "outputs": [
    {
     "data": {
      "image/png": "[encoded data removed]",
      "text/plain": [
       "<Figure size 960x720 with 2 Axes>"
      ]
     },
     "metadata": {},
     "output_type": "display_data"
    },
    {
     "name": "stdout",
     "output_type": "stream",
     "text": [
      "score =  0.7809085681426107   F1 =  0.7819118488838008 AUC =  0.7824714837970697\n"
     ]
    }
   ],
   "source": [
    "# Store the score\n",
    "scr, F1, auc = overw(X_test, Y_test, rf_cv.predict(X_test), rf_cv)\n",
    "score_list = score_list + [[\"RF\", scr, F1, auc]]\n",
    "print(\"score = \", scr, \"  F1 = \", F1, \"AUC = \", auc)"
   ]
  },
  {
   "cell_type": "markdown",
   "id": "1fa17682",
   "metadata": {
    "papermill": {
     "duration": 0.018254,
     "end_time": "2023-10-16T19:38:59.715163",
     "exception": false,
     "start_time": "2023-10-16T19:38:59.696909",
     "status": "completed"
    },
    "tags": []
   },
   "source": [
    "### Compare the models\n"
   ]
  },
  {
   "cell_type": "code",
   "execution_count": 40,
   "id": "e331e2da",
   "metadata": {
    "execution": {
     "iopub.execute_input": "2023-10-16T19:38:59.755398Z",
     "iopub.status.busy": "2023-10-16T19:38:59.755005Z",
     "iopub.status.idle": "2023-10-16T19:38:59.767437Z",
     "shell.execute_reply": "2023-10-16T19:38:59.766242Z"
    },
    "papermill": {
     "duration": 0.036196,
     "end_time": "2023-10-16T19:38:59.769734",
     "exception": false,
     "start_time": "2023-10-16T19:38:59.733538",
     "status": "completed"
    },
    "scrolled": true,
    "tags": []
   },
   "outputs": [
    {
     "data": {
      "text/html": [
       "<div>\n",
       "<style scoped>\n",
       "    .dataframe tbody tr th:only-of-type {\n",
       "        vertical-align: middle;\n",
       "    }\n",
       "\n",
       "    .dataframe tbody tr th {\n",
       "        vertical-align: top;\n",
       "    }\n",
       "\n",
       "    .dataframe thead th {\n",
       "        text-align: right;\n",
       "    }\n",
       "</style>\n",
       "<table border=\"1\" class=\"dataframe\">\n",
       "  <thead>\n",
       "    <tr style=\"text-align: right;\">\n",
       "      <th></th>\n",
       "      <th>Model</th>\n",
       "      <th>Score</th>\n",
       "      <th>F1</th>\n",
       "      <th>AUC</th>\n",
       "    </tr>\n",
       "  </thead>\n",
       "  <tbody>\n",
       "    <tr>\n",
       "      <th>0</th>\n",
       "      <td>LR</td>\n",
       "      <td>0.791834</td>\n",
       "      <td>0.801317</td>\n",
       "      <td>0.791359</td>\n",
       "    </tr>\n",
       "    <tr>\n",
       "      <th>1</th>\n",
       "      <td>RF</td>\n",
       "      <td>0.780909</td>\n",
       "      <td>0.781912</td>\n",
       "      <td>0.782471</td>\n",
       "    </tr>\n",
       "  </tbody>\n",
       "</table>\n",
       "</div>"
      ],
      "text/plain": [
       "  Model     Score        F1       AUC\n",
       "0    LR  0.791834  0.801317  0.791359\n",
       "1    RF  0.780909  0.781912  0.782471"
      ]
     },
     "execution_count": 40,
     "metadata": {},
     "output_type": "execute_result"
    }
   ],
   "source": [
    "Report = pd.DataFrame(score_list[1:], columns = score_list[0])\n",
    "Report"
   ]
  },
  {
   "cell_type": "code",
   "execution_count": 41,
   "id": "77af6858",
   "metadata": {
    "execution": {
     "iopub.execute_input": "2023-10-16T19:38:59.810471Z",
     "iopub.status.busy": "2023-10-16T19:38:59.810077Z",
     "iopub.status.idle": "2023-10-16T19:39:00.140071Z",
     "shell.execute_reply": "2023-10-16T19:39:00.138945Z"
    },
    "papermill": {
     "duration": 0.352744,
     "end_time": "2023-10-16T19:39:00.142291",
     "exception": false,
     "start_time": "2023-10-16T19:38:59.789547",
     "status": "completed"
    },
    "tags": []
   },
   "outputs": [
    {
     "data": {
      "image/png": "[encoded data removed]",
      "text/plain": [
       "<Figure size 1200x450 with 2 Axes>"
      ]
     },
     "metadata": {},
     "output_type": "display_data"
    }
   ],
   "source": [
    "fig, axa = plt.subplots(ncols = 2, figsize = (8,3), sharey = True)\n",
    "fig.tight_layout(pad=2.0)\n",
    "\n",
    "sns.barplot(data=Report, x=\"Model\", y=\"F1\", ax = axa[1])\n",
    "\n",
    "sns.barplot(data=Report, x=\"Model\", y=\"Score\", ax = axa[0])\n",
    "\n",
    "axa[0].set_ylim(0.5, 1)\n",
    "\n",
    "plt.show()"
   ]
  },
  {
   "cell_type": "markdown",
   "id": "6ed6d1a0",
   "metadata": {
    "papermill": {
     "duration": 0.018929,
     "end_time": "2023-10-16T19:39:00.179661",
     "exception": false,
     "start_time": "2023-10-16T19:39:00.160732",
     "status": "completed"
    },
    "tags": [],
    "toc-hr-collapsed": true
   },
   "source": [
    "## Prediction"
   ]
  },
  {
   "cell_type": "code",
   "execution_count": 42,
   "id": "06a538f3",
   "metadata": {
    "execution": {
     "iopub.execute_input": "2023-10-16T19:39:00.218933Z",
     "iopub.status.busy": "2023-10-16T19:39:00.218186Z",
     "iopub.status.idle": "2023-10-16T19:39:00.231002Z",
     "shell.execute_reply": "2023-10-16T19:39:00.229805Z"
    },
    "papermill": {
     "duration": 0.035156,
     "end_time": "2023-10-16T19:39:00.233300",
     "exception": false,
     "start_time": "2023-10-16T19:39:00.198144",
     "status": "completed"
    },
    "tags": []
   },
   "outputs": [
    {
     "data": {
      "text/plain": [
       "array([[-0.11822162, -0.36477954, -0.29135159, -0.31985918, -0.27455773,\n",
       "        -0.25156055,  0.94338172, -0.55313127, -0.52531386, -1.26992369,\n",
       "         1.33044268, -0.49473362, -0.31586164,  0.66849659,  0.2015753 ,\n",
       "        -0.13268938],\n",
       "       [-0.68860136, -0.36477954, -0.28538513, -0.31985918,  2.28300781,\n",
       "        -0.25156055,  0.94338172, -0.55313127, -0.52531386,  0.78744889,\n",
       "        -0.75162953, -0.49473362, -0.31586164,  0.66849659,  0.2015753 ,\n",
       "        -0.13268938]])"
      ]
     },
     "execution_count": 42,
     "metadata": {},
     "output_type": "execute_result"
    }
   ],
   "source": [
    "# Like we did before: center and scale it so we can feed it into the models without worrying about unit variance.\n",
    "X_p = preprocessing.StandardScaler().fit(df_X_test_num).transform(df_X_test_num)\n",
    "X_p[0:2]"
   ]
  },
  {
   "cell_type": "code",
   "execution_count": 43,
   "id": "2baf85ae",
   "metadata": {
    "execution": {
     "iopub.execute_input": "2023-10-16T19:39:00.275914Z",
     "iopub.status.busy": "2023-10-16T19:39:00.275408Z",
     "iopub.status.idle": "2023-10-16T19:39:00.282284Z",
     "shell.execute_reply": "2023-10-16T19:39:00.281077Z"
    },
    "papermill": {
     "duration": 0.031655,
     "end_time": "2023-10-16T19:39:00.284546",
     "exception": false,
     "start_time": "2023-10-16T19:39:00.252891",
     "status": "completed"
    },
    "tags": []
   },
   "outputs": [
    {
     "data": {
      "text/plain": [
       "4277"
      ]
     },
     "execution_count": 43,
     "metadata": {},
     "output_type": "execute_result"
    }
   ],
   "source": [
    "len(X_p)"
   ]
  },
  {
   "cell_type": "markdown",
   "id": "8b55019e",
   "metadata": {
    "papermill": {
     "duration": 0.01989,
     "end_time": "2023-10-16T19:39:00.323804",
     "exception": false,
     "start_time": "2023-10-16T19:39:00.303914",
     "status": "completed"
    },
    "tags": []
   },
   "source": [
    "### Predictions from the models"
   ]
  },
  {
   "cell_type": "code",
   "execution_count": 44,
   "id": "a87c97a0",
   "metadata": {
    "execution": {
     "iopub.execute_input": "2023-10-16T19:39:00.364247Z",
     "iopub.status.busy": "2023-10-16T19:39:00.363889Z",
     "iopub.status.idle": "2023-10-16T19:39:00.369744Z",
     "shell.execute_reply": "2023-10-16T19:39:00.368909Z"
    },
    "papermill": {
     "duration": 0.028067,
     "end_time": "2023-10-16T19:39:00.371565",
     "exception": false,
     "start_time": "2023-10-16T19:39:00.343498",
     "status": "completed"
    },
    "tags": []
   },
   "outputs": [],
   "source": [
    "# survey a model, get its prediction ready to save for upload\n",
    "def pred(mod, data_p, X_p):\n",
    "    Y_p = mod.predict(X_p)\n",
    "    # prepare the DF with the predictions\n",
    "    subm = pd.concat([pd.DataFrame(data_p, columns=[\"PassengerId\"]), pd.DataFrame({'Transported': Y_p})], axis=1)\n",
    "    print(\"Transported rates:\")\n",
    "    print(\"Total ensemble = \", Y.mean())\n",
    "    print(\"Train = \", Y_train.mean())\n",
    "    print(\"Test = \", Y_test.mean())\n",
    "    print(\"Prediction = \", Y_p.mean())\n",
    "    return(subm)"
   ]
  },
  {
   "cell_type": "code",
   "execution_count": 45,
   "id": "df771460",
   "metadata": {
    "execution": {
     "iopub.execute_input": "2023-10-16T19:39:00.411003Z",
     "iopub.status.busy": "2023-10-16T19:39:00.410018Z",
     "iopub.status.idle": "2023-10-16T19:39:00.422257Z",
     "shell.execute_reply": "2023-10-16T19:39:00.420465Z"
    },
    "papermill": {
     "duration": 0.036183,
     "end_time": "2023-10-16T19:39:00.426449",
     "exception": false,
     "start_time": "2023-10-16T19:39:00.390266",
     "status": "completed"
    },
    "scrolled": true,
    "tags": []
   },
   "outputs": [
    {
     "name": "stdout",
     "output_type": "stream",
     "text": [
      "Transported rates:\n",
      "Total ensemble =  0.5036236051995858\n",
      "Train =  0.498561978717285\n",
      "Test =  0.5238642898217366\n",
      "Prediction =  0.5195230301613281\n"
     ]
    }
   ],
   "source": [
    "sub_LR = pred(logreg_cv, data_pred, X_p)"
   ]
  },
  {
   "cell_type": "code",
   "execution_count": 46,
   "id": "744b1e60",
   "metadata": {
    "execution": {
     "iopub.execute_input": "2023-10-16T19:39:00.534026Z",
     "iopub.status.busy": "2023-10-16T19:39:00.533387Z",
     "iopub.status.idle": "2023-10-16T19:39:00.606324Z",
     "shell.execute_reply": "2023-10-16T19:39:00.605036Z"
    },
    "papermill": {
     "duration": 0.129537,
     "end_time": "2023-10-16T19:39:00.608441",
     "exception": false,
     "start_time": "2023-10-16T19:39:00.478904",
     "status": "completed"
    },
    "tags": []
   },
   "outputs": [
    {
     "name": "stdout",
     "output_type": "stream",
     "text": [
      "Transported rates:\n",
      "Total ensemble =  0.5036236051995858\n",
      "Train =  0.498561978717285\n",
      "Test =  0.5238642898217366\n",
      "Prediction =  0.4470423193827449\n"
     ]
    }
   ],
   "source": [
    "sub_RF = pred(rf_cv, data_pred, X_p)"
   ]
  },
  {
   "cell_type": "code",
   "execution_count": 47,
   "id": "8f1f1725",
   "metadata": {
    "execution": {
     "iopub.execute_input": "2023-10-16T19:39:00.649466Z",
     "iopub.status.busy": "2023-10-16T19:39:00.649059Z",
     "iopub.status.idle": "2023-10-16T19:39:00.665468Z",
     "shell.execute_reply": "2023-10-16T19:39:00.664259Z"
    },
    "papermill": {
     "duration": 0.03999,
     "end_time": "2023-10-16T19:39:00.668084",
     "exception": false,
     "start_time": "2023-10-16T19:39:00.628094",
     "status": "completed"
    },
    "tags": []
   },
   "outputs": [],
   "source": [
    "# choose a model to generate a submission\n",
    "\n",
    "subm = sub_LR  # model\n",
    "subm.replace(to_replace = {1: True, 0: False}, inplace = True) # make sure 0 and 1 are now False and True\n",
    "number = \"2\" # number of the this \"trial\", e.g. 20\n",
    "\n",
    "subm.to_csv(f\"submission_{number}.csv\", header = True, index = False)"
   ]
  },
  {
   "cell_type": "code",
   "execution_count": null,
   "id": "2d28576c",
   "metadata": {
    "papermill": {
     "duration": 0.018664,
     "end_time": "2023-10-16T19:39:00.706077",
     "exception": false,
     "start_time": "2023-10-16T19:39:00.687413",
     "status": "completed"
    },
    "tags": []
   },
   "outputs": [],
   "source": []
  }
 ],
 "metadata": {
  "kernelspec": {
   "display_name": "Python 3",
   "language": "python",
   "name": "python3"
  },
  "language_info": {
   "codemirror_mode": {
    "name": "ipython",
    "version": 3
   },
   "file_extension": ".py",
   "mimetype": "text/x-python",
   "name": "python",
   "nbconvert_exporter": "python",
   "pygments_lexer": "ipython3",
   "version": "3.10.12"
  },
  "papermill": {
   "default_parameters": {},
   "duration": 18.504263,
   "end_time": "2023-10-16T19:39:01.345105",
   "environment_variables": {},
   "exception": null,
   "input_path": "__notebook__.ipynb",
   "output_path": "__notebook__.ipynb",
   "parameters": {},
   "start_time": "2023-10-16T19:38:42.840842",
   "version": "2.4.0"
  }
 },
 "nbformat": 4,
 "nbformat_minor": 5
}
