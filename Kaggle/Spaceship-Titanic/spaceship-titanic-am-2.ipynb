{
 "cells": [
  {
   "cell_type": "markdown",
   "id": "0327dccf",
   "metadata": {
    "papermill": {
     "duration": 0.014759,
     "end_time": "2023-10-17T09:31:17.535376",
     "exception": false,
     "start_time": "2023-10-17T09:31:17.520617",
     "status": "completed"
    },
    "tags": []
   },
   "source": [
    "# Kaggle competition: Spaceship Titanic classification problem\n",
    "\n",
    "Andre Moreira, 2023\n"
   ]
  },
  {
   "cell_type": "markdown",
   "id": "3c04a092",
   "metadata": {
    "papermill": {
     "duration": 0.01376,
     "end_time": "2023-10-17T09:31:17.563497",
     "exception": false,
     "start_time": "2023-10-17T09:31:17.549737",
     "status": "completed"
    },
    "tags": []
   },
   "source": [
    "## Background\n",
    "\n",
    "This Notebook is prepared in the simplest possible way as a first shot into the competition. Part of the code recycled from the \"classical Titanic\" competition"
   ]
  },
  {
   "cell_type": "markdown",
   "id": "7f460051",
   "metadata": {
    "papermill": {
     "duration": 0.014938,
     "end_time": "2023-10-17T09:31:17.592097",
     "exception": false,
     "start_time": "2023-10-17T09:31:17.577159",
     "status": "completed"
    },
    "tags": []
   },
   "source": [
    "In this version I do more work on the validation part"
   ]
  },
  {
   "cell_type": "markdown",
   "id": "8bebcdc8",
   "metadata": {
    "papermill": {
     "duration": 0.013901,
     "end_time": "2023-10-17T09:31:17.620487",
     "exception": false,
     "start_time": "2023-10-17T09:31:17.606586",
     "status": "completed"
    },
    "tags": []
   },
   "source": [
    "## Preamble\n"
   ]
  },
  {
   "cell_type": "code",
   "execution_count": 1,
   "id": "9367570b",
   "metadata": {
    "execution": {
     "iopub.execute_input": "2023-10-17T09:31:17.653746Z",
     "iopub.status.busy": "2023-10-17T09:31:17.653392Z",
     "iopub.status.idle": "2023-10-17T09:31:20.364568Z",
     "shell.execute_reply": "2023-10-17T09:31:20.363330Z"
    },
    "papermill": {
     "duration": 2.730527,
     "end_time": "2023-10-17T09:31:20.367181",
     "exception": false,
     "start_time": "2023-10-17T09:31:17.636654",
     "status": "completed"
    },
    "tags": []
   },
   "outputs": [],
   "source": [
    "import pandas as pd\n",
    "import numpy as np\n",
    "\n",
    "import matplotlib.pyplot as plt\n",
    "import seaborn as sns\n",
    "\n",
    "from scipy import stats\n",
    "from scipy.stats import norm\n",
    "\n",
    "from sklearn import preprocessing\n",
    "\n",
    "# We do not use most of it, here just in case...\n",
    "\n",
    "from sklearn.model_selection import train_test_split\n",
    "from sklearn.model_selection import GridSearchCV\n",
    "from sklearn.linear_model import LogisticRegression\n",
    "from sklearn.svm import SVC\n",
    "from sklearn.tree import DecisionTreeClassifier\n",
    "from sklearn.neighbors import KNeighborsClassifier\n",
    "from sklearn.neural_network import MLPClassifier\n",
    "\n",
    "from sklearn import ensemble\n",
    "\n",
    "from sklearn import linear_model\n",
    "\n",
    "from sklearn import metrics\n",
    "from sklearn.metrics import confusion_matrix\n",
    "from sklearn.metrics import r2_score\n",
    "\n",
    "import sklearn.metrics as metrics\n",
    "\n",
    "from xgboost import XGBRegressor\n",
    "from xgboost import XGBClassifier"
   ]
  },
  {
   "cell_type": "code",
   "execution_count": 2,
   "id": "2402a661",
   "metadata": {
    "execution": {
     "iopub.execute_input": "2023-10-17T09:31:20.397225Z",
     "iopub.status.busy": "2023-10-17T09:31:20.396708Z",
     "iopub.status.idle": "2023-10-17T09:31:20.401791Z",
     "shell.execute_reply": "2023-10-17T09:31:20.400597Z"
    },
    "papermill": {
     "duration": 0.022516,
     "end_time": "2023-10-17T09:31:20.403753",
     "exception": false,
     "start_time": "2023-10-17T09:31:20.381237",
     "status": "completed"
    },
    "tags": []
   },
   "outputs": [],
   "source": [
    "# Setting this option will print all collumns of a dataframe\n",
    "pd.set_option('display.max_columns', None)\n",
    "# Setting this option will print all of the data in a feature\n",
    "pd.set_option('display.max_colwidth', None)\n",
    "\n",
    "pd.set_option('display.max_rows', None)"
   ]
  },
  {
   "cell_type": "code",
   "execution_count": 3,
   "id": "ac820504",
   "metadata": {
    "execution": {
     "iopub.execute_input": "2023-10-17T09:31:20.433833Z",
     "iopub.status.busy": "2023-10-17T09:31:20.433171Z",
     "iopub.status.idle": "2023-10-17T09:31:20.437942Z",
     "shell.execute_reply": "2023-10-17T09:31:20.437213Z"
    },
    "papermill": {
     "duration": 0.021545,
     "end_time": "2023-10-17T09:31:20.439788",
     "exception": false,
     "start_time": "2023-10-17T09:31:20.418243",
     "status": "completed"
    },
    "tags": []
   },
   "outputs": [],
   "source": [
    "# Improve plot resolutions (matplotlib, sns)\n",
    "plt.rcParams['figure.dpi'] = 150\n",
    "plt.rcParams['savefig.dpi'] = 150\n",
    "\n",
    "sns.set(rc={\"figure.dpi\":150, 'savefig.dpi':150})"
   ]
  },
  {
   "cell_type": "markdown",
   "id": "a7e5eda9",
   "metadata": {
    "papermill": {
     "duration": 0.07385,
     "end_time": "2023-10-17T09:31:20.527596",
     "exception": false,
     "start_time": "2023-10-17T09:31:20.453746",
     "status": "completed"
    },
    "tags": []
   },
   "source": [
    "This function is to plot the confusion matrix.\n"
   ]
  },
  {
   "cell_type": "code",
   "execution_count": 4,
   "id": "42c18647",
   "metadata": {
    "execution": {
     "iopub.execute_input": "2023-10-17T09:31:20.556778Z",
     "iopub.status.busy": "2023-10-17T09:31:20.556127Z",
     "iopub.status.idle": "2023-10-17T09:31:20.561675Z",
     "shell.execute_reply": "2023-10-17T09:31:20.560894Z"
    },
    "papermill": {
     "duration": 0.022311,
     "end_time": "2023-10-17T09:31:20.563582",
     "exception": false,
     "start_time": "2023-10-17T09:31:20.541271",
     "status": "completed"
    },
    "tags": []
   },
   "outputs": [],
   "source": [
    "def plot_confusion_matrix(y,y_predict):\n",
    "    \"this function plots the confusion matrix\"\n",
    "    from sklearn.metrics import confusion_matrix\n",
    "\n",
    "    cm = confusion_matrix(y, y_predict)\n",
    "    ax= plt.subplot()\n",
    "    sns.heatmap(cm, cmap ='Greens', annot=True, fmt=\".0f\", linewidths = 0.5, \n",
    "                linecolor='black',ax = ax); #annot=True to annotate cells\n",
    "    ax.set_xlabel('Predicted labels')\n",
    "    ax.set_ylabel('True labels')\n",
    "    ax.set_title('Confusion Matrix'); \n",
    "    ax.xaxis.set_ticklabels(['0', '1']); ax.yaxis.set_ticklabels(['0', '1']) \n",
    "    plt.show() "
   ]
  },
  {
   "cell_type": "code",
   "execution_count": 5,
   "id": "923c2200",
   "metadata": {
    "execution": {
     "iopub.execute_input": "2023-10-17T09:31:20.595287Z",
     "iopub.status.busy": "2023-10-17T09:31:20.594116Z",
     "iopub.status.idle": "2023-10-17T09:31:20.599852Z",
     "shell.execute_reply": "2023-10-17T09:31:20.598878Z"
    },
    "papermill": {
     "duration": 0.02444,
     "end_time": "2023-10-17T09:31:20.601895",
     "exception": false,
     "start_time": "2023-10-17T09:31:20.577455",
     "status": "completed"
    },
    "tags": []
   },
   "outputs": [],
   "source": [
    "# function to get the value of the confusion matrix\n",
    "def cm_res(Y_t, Y_hat):\n",
    "    cm_a = confusion_matrix(Y_t, Y_hat)\n",
    "    tp = cm_a[1][1]\n",
    "    tn = cm_a[0][0]\n",
    "    fp = cm_a[0][1]\n",
    "    fn = cm_a[1][0]\n",
    "    return tp, tn, fp, fn"
   ]
  },
  {
   "cell_type": "code",
   "execution_count": 6,
   "id": "10e66f4a",
   "metadata": {
    "execution": {
     "iopub.execute_input": "2023-10-17T09:31:20.633154Z",
     "iopub.status.busy": "2023-10-17T09:31:20.632473Z",
     "iopub.status.idle": "2023-10-17T09:31:20.637802Z",
     "shell.execute_reply": "2023-10-17T09:31:20.637071Z"
    },
    "papermill": {
     "duration": 0.02342,
     "end_time": "2023-10-17T09:31:20.640024",
     "exception": false,
     "start_time": "2023-10-17T09:31:20.616604",
     "status": "completed"
    },
    "tags": []
   },
   "outputs": [],
   "source": [
    "# this prepares for the overview, shows the confusion matrix\n",
    "def overw(X, Y, Y_hat, fitter):\n",
    "    plot_confusion_matrix(Y,Y_hat)\n",
    "    a = fitter.score(X, Y)\n",
    "    b = metrics.f1_score(Y, Y_hat)\n",
    "    c = metrics.roc_auc_score(Y, Y_hat)\n",
    "    return a, b, c"
   ]
  },
  {
   "cell_type": "markdown",
   "id": "fdc4ac77",
   "metadata": {
    "papermill": {
     "duration": 0.013345,
     "end_time": "2023-10-17T09:31:20.667045",
     "exception": false,
     "start_time": "2023-10-17T09:31:20.653700",
     "status": "completed"
    },
    "tags": [],
    "toc-hr-collapsed": true
   },
   "source": [
    "## Load and clean the data\n"
   ]
  },
  {
   "cell_type": "markdown",
   "id": "9132b558",
   "metadata": {
    "papermill": {
     "duration": 0.013739,
     "end_time": "2023-10-17T09:31:20.694939",
     "exception": false,
     "start_time": "2023-10-17T09:31:20.681200",
     "status": "completed"
    },
    "tags": []
   },
   "source": [
    "### Upload and clean it"
   ]
  },
  {
   "cell_type": "code",
   "execution_count": 7,
   "id": "3bb29b9a",
   "metadata": {
    "execution": {
     "iopub.execute_input": "2023-10-17T09:31:20.723696Z",
     "iopub.status.busy": "2023-10-17T09:31:20.723369Z",
     "iopub.status.idle": "2023-10-17T09:31:20.809544Z",
     "shell.execute_reply": "2023-10-17T09:31:20.808630Z"
    },
    "papermill": {
     "duration": 0.10354,
     "end_time": "2023-10-17T09:31:20.812108",
     "exception": false,
     "start_time": "2023-10-17T09:31:20.708568",
     "status": "completed"
    },
    "tags": []
   },
   "outputs": [],
   "source": [
    "# This is the training data\n",
    "#data = pd.read_csv(\"train.csv\") # for local data\n",
    "\n",
    "# This is the test / prediction data\n",
    "#data_pred = pd.read_csv(\"test.csv\")\n",
    "\n",
    "#\n",
    "# If running in Kaggle, comment the lines above and use this:\n",
    "#\n",
    "\n",
    "# This is the training data\n",
    "data = pd.read_csv(\"/kaggle/input/spaceship-titanic/train.csv\")\n",
    "\n",
    "\n",
    "# This is the test / prediction data\n",
    "data_pred = pd.read_csv(\"/kaggle/input/spaceship-titanic/test.csv\")"
   ]
  },
  {
   "cell_type": "code",
   "execution_count": 8,
   "id": "aaed1645",
   "metadata": {
    "execution": {
     "iopub.execute_input": "2023-10-17T09:31:20.846704Z",
     "iopub.status.busy": "2023-10-17T09:31:20.846157Z",
     "iopub.status.idle": "2023-10-17T09:31:20.851950Z",
     "shell.execute_reply": "2023-10-17T09:31:20.851229Z"
    },
    "papermill": {
     "duration": 0.024654,
     "end_time": "2023-10-17T09:31:20.853754",
     "exception": false,
     "start_time": "2023-10-17T09:31:20.829100",
     "status": "completed"
    },
    "tags": []
   },
   "outputs": [
    {
     "data": {
      "text/plain": [
       "(8693, 14)"
      ]
     },
     "execution_count": 8,
     "metadata": {},
     "output_type": "execute_result"
    }
   ],
   "source": [
    "data.shape"
   ]
  },
  {
   "cell_type": "code",
   "execution_count": 9,
   "id": "770ca2ed",
   "metadata": {
    "execution": {
     "iopub.execute_input": "2023-10-17T09:31:20.884447Z",
     "iopub.status.busy": "2023-10-17T09:31:20.883894Z",
     "iopub.status.idle": "2023-10-17T09:31:20.889397Z",
     "shell.execute_reply": "2023-10-17T09:31:20.888500Z"
    },
    "papermill": {
     "duration": 0.023279,
     "end_time": "2023-10-17T09:31:20.891299",
     "exception": false,
     "start_time": "2023-10-17T09:31:20.868020",
     "status": "completed"
    },
    "tags": []
   },
   "outputs": [
    {
     "data": {
      "text/plain": [
       "(4277, 13)"
      ]
     },
     "execution_count": 9,
     "metadata": {},
     "output_type": "execute_result"
    }
   ],
   "source": [
    "data_pred.shape"
   ]
  },
  {
   "cell_type": "code",
   "execution_count": 10,
   "id": "ce3dc0a9",
   "metadata": {
    "execution": {
     "iopub.execute_input": "2023-10-17T09:31:20.923967Z",
     "iopub.status.busy": "2023-10-17T09:31:20.923195Z",
     "iopub.status.idle": "2023-10-17T09:31:20.951901Z",
     "shell.execute_reply": "2023-10-17T09:31:20.951150Z"
    },
    "papermill": {
     "duration": 0.046491,
     "end_time": "2023-10-17T09:31:20.953797",
     "exception": false,
     "start_time": "2023-10-17T09:31:20.907306",
     "status": "completed"
    },
    "scrolled": true,
    "tags": []
   },
   "outputs": [
    {
     "data": {
      "text/html": [
       "<div>\n",
       "<style scoped>\n",
       "    .dataframe tbody tr th:only-of-type {\n",
       "        vertical-align: middle;\n",
       "    }\n",
       "\n",
       "    .dataframe tbody tr th {\n",
       "        vertical-align: top;\n",
       "    }\n",
       "\n",
       "    .dataframe thead th {\n",
       "        text-align: right;\n",
       "    }\n",
       "</style>\n",
       "<table border=\"1\" class=\"dataframe\">\n",
       "  <thead>\n",
       "    <tr style=\"text-align: right;\">\n",
       "      <th></th>\n",
       "      <th>PassengerId</th>\n",
       "      <th>HomePlanet</th>\n",
       "      <th>CryoSleep</th>\n",
       "      <th>Cabin</th>\n",
       "      <th>Destination</th>\n",
       "      <th>Age</th>\n",
       "      <th>VIP</th>\n",
       "      <th>RoomService</th>\n",
       "      <th>FoodCourt</th>\n",
       "      <th>ShoppingMall</th>\n",
       "      <th>Spa</th>\n",
       "      <th>VRDeck</th>\n",
       "      <th>Name</th>\n",
       "      <th>Transported</th>\n",
       "    </tr>\n",
       "  </thead>\n",
       "  <tbody>\n",
       "    <tr>\n",
       "      <th>0</th>\n",
       "      <td>0001_01</td>\n",
       "      <td>Europa</td>\n",
       "      <td>False</td>\n",
       "      <td>B/0/P</td>\n",
       "      <td>TRAPPIST-1e</td>\n",
       "      <td>39.0</td>\n",
       "      <td>False</td>\n",
       "      <td>0.0</td>\n",
       "      <td>0.0</td>\n",
       "      <td>0.0</td>\n",
       "      <td>0.0</td>\n",
       "      <td>0.0</td>\n",
       "      <td>Maham Ofracculy</td>\n",
       "      <td>False</td>\n",
       "    </tr>\n",
       "    <tr>\n",
       "      <th>1</th>\n",
       "      <td>0002_01</td>\n",
       "      <td>Earth</td>\n",
       "      <td>False</td>\n",
       "      <td>F/0/S</td>\n",
       "      <td>TRAPPIST-1e</td>\n",
       "      <td>24.0</td>\n",
       "      <td>False</td>\n",
       "      <td>109.0</td>\n",
       "      <td>9.0</td>\n",
       "      <td>25.0</td>\n",
       "      <td>549.0</td>\n",
       "      <td>44.0</td>\n",
       "      <td>Juanna Vines</td>\n",
       "      <td>True</td>\n",
       "    </tr>\n",
       "    <tr>\n",
       "      <th>2</th>\n",
       "      <td>0003_01</td>\n",
       "      <td>Europa</td>\n",
       "      <td>False</td>\n",
       "      <td>A/0/S</td>\n",
       "      <td>TRAPPIST-1e</td>\n",
       "      <td>58.0</td>\n",
       "      <td>True</td>\n",
       "      <td>43.0</td>\n",
       "      <td>3576.0</td>\n",
       "      <td>0.0</td>\n",
       "      <td>6715.0</td>\n",
       "      <td>49.0</td>\n",
       "      <td>Altark Susent</td>\n",
       "      <td>False</td>\n",
       "    </tr>\n",
       "    <tr>\n",
       "      <th>3</th>\n",
       "      <td>0003_02</td>\n",
       "      <td>Europa</td>\n",
       "      <td>False</td>\n",
       "      <td>A/0/S</td>\n",
       "      <td>TRAPPIST-1e</td>\n",
       "      <td>33.0</td>\n",
       "      <td>False</td>\n",
       "      <td>0.0</td>\n",
       "      <td>1283.0</td>\n",
       "      <td>371.0</td>\n",
       "      <td>3329.0</td>\n",
       "      <td>193.0</td>\n",
       "      <td>Solam Susent</td>\n",
       "      <td>False</td>\n",
       "    </tr>\n",
       "    <tr>\n",
       "      <th>4</th>\n",
       "      <td>0004_01</td>\n",
       "      <td>Earth</td>\n",
       "      <td>False</td>\n",
       "      <td>F/1/S</td>\n",
       "      <td>TRAPPIST-1e</td>\n",
       "      <td>16.0</td>\n",
       "      <td>False</td>\n",
       "      <td>303.0</td>\n",
       "      <td>70.0</td>\n",
       "      <td>151.0</td>\n",
       "      <td>565.0</td>\n",
       "      <td>2.0</td>\n",
       "      <td>Willy Santantines</td>\n",
       "      <td>True</td>\n",
       "    </tr>\n",
       "  </tbody>\n",
       "</table>\n",
       "</div>"
      ],
      "text/plain": [
       "  PassengerId HomePlanet CryoSleep  Cabin  Destination   Age    VIP  \\\n",
       "0     0001_01     Europa     False  B/0/P  TRAPPIST-1e  39.0  False   \n",
       "1     0002_01      Earth     False  F/0/S  TRAPPIST-1e  24.0  False   \n",
       "2     0003_01     Europa     False  A/0/S  TRAPPIST-1e  58.0   True   \n",
       "3     0003_02     Europa     False  A/0/S  TRAPPIST-1e  33.0  False   \n",
       "4     0004_01      Earth     False  F/1/S  TRAPPIST-1e  16.0  False   \n",
       "\n",
       "   RoomService  FoodCourt  ShoppingMall     Spa  VRDeck               Name  \\\n",
       "0          0.0        0.0           0.0     0.0     0.0    Maham Ofracculy   \n",
       "1        109.0        9.0          25.0   549.0    44.0       Juanna Vines   \n",
       "2         43.0     3576.0           0.0  6715.0    49.0      Altark Susent   \n",
       "3          0.0     1283.0         371.0  3329.0   193.0       Solam Susent   \n",
       "4        303.0       70.0         151.0   565.0     2.0  Willy Santantines   \n",
       "\n",
       "   Transported  \n",
       "0        False  \n",
       "1         True  \n",
       "2        False  \n",
       "3        False  \n",
       "4         True  "
      ]
     },
     "execution_count": 10,
     "metadata": {},
     "output_type": "execute_result"
    }
   ],
   "source": [
    "data.head()"
   ]
  },
  {
   "cell_type": "code",
   "execution_count": 11,
   "id": "424d28d6",
   "metadata": {
    "execution": {
     "iopub.execute_input": "2023-10-17T09:31:20.985718Z",
     "iopub.status.busy": "2023-10-17T09:31:20.985184Z",
     "iopub.status.idle": "2023-10-17T09:31:20.990894Z",
     "shell.execute_reply": "2023-10-17T09:31:20.989515Z"
    },
    "papermill": {
     "duration": 0.024063,
     "end_time": "2023-10-17T09:31:20.993086",
     "exception": false,
     "start_time": "2023-10-17T09:31:20.969023",
     "status": "completed"
    },
    "tags": []
   },
   "outputs": [],
   "source": [
    "# First, copy the data into dataframes that we will use throughout the notebook. In case later we want to \"reset\", no need to upload the data again.\n",
    "df = data.copy()\n",
    "df_pred = data_pred.copy()"
   ]
  },
  {
   "cell_type": "markdown",
   "id": "40480764",
   "metadata": {
    "papermill": {
     "duration": 0.017126,
     "end_time": "2023-10-17T09:31:21.025121",
     "exception": false,
     "start_time": "2023-10-17T09:31:21.007995",
     "status": "completed"
    },
    "tags": []
   },
   "source": [
    "#### Encode categorical data"
   ]
  },
  {
   "cell_type": "code",
   "execution_count": 12,
   "id": "a73a86f6",
   "metadata": {
    "execution": {
     "iopub.execute_input": "2023-10-17T09:31:21.055876Z",
     "iopub.status.busy": "2023-10-17T09:31:21.055556Z",
     "iopub.status.idle": "2023-10-17T09:31:21.064741Z",
     "shell.execute_reply": "2023-10-17T09:31:21.063935Z"
    },
    "papermill": {
     "duration": 0.026837,
     "end_time": "2023-10-17T09:31:21.066935",
     "exception": false,
     "start_time": "2023-10-17T09:31:21.040098",
     "status": "completed"
    },
    "tags": []
   },
   "outputs": [],
   "source": [
    "# Store the passager ID as index\n",
    "\n",
    "df.set_index(\"PassengerId\", inplace = True)\n",
    "df_pred.set_index(\"PassengerId\", inplace = True)"
   ]
  },
  {
   "cell_type": "code",
   "execution_count": 13,
   "id": "8ee8c378",
   "metadata": {
    "execution": {
     "iopub.execute_input": "2023-10-17T09:31:21.099229Z",
     "iopub.status.busy": "2023-10-17T09:31:21.098887Z",
     "iopub.status.idle": "2023-10-17T09:31:21.115098Z",
     "shell.execute_reply": "2023-10-17T09:31:21.113977Z"
    },
    "papermill": {
     "duration": 0.034466,
     "end_time": "2023-10-17T09:31:21.117229",
     "exception": false,
     "start_time": "2023-10-17T09:31:21.082763",
     "status": "completed"
    },
    "tags": []
   },
   "outputs": [
    {
     "data": {
      "text/html": [
       "<div>\n",
       "<style scoped>\n",
       "    .dataframe tbody tr th:only-of-type {\n",
       "        vertical-align: middle;\n",
       "    }\n",
       "\n",
       "    .dataframe tbody tr th {\n",
       "        vertical-align: top;\n",
       "    }\n",
       "\n",
       "    .dataframe thead th {\n",
       "        text-align: right;\n",
       "    }\n",
       "</style>\n",
       "<table border=\"1\" class=\"dataframe\">\n",
       "  <thead>\n",
       "    <tr style=\"text-align: right;\">\n",
       "      <th></th>\n",
       "      <th>HomePlanet</th>\n",
       "      <th>CryoSleep</th>\n",
       "      <th>Cabin</th>\n",
       "      <th>Destination</th>\n",
       "      <th>Age</th>\n",
       "      <th>VIP</th>\n",
       "      <th>RoomService</th>\n",
       "      <th>FoodCourt</th>\n",
       "      <th>ShoppingMall</th>\n",
       "      <th>Spa</th>\n",
       "      <th>VRDeck</th>\n",
       "      <th>Name</th>\n",
       "      <th>Transported</th>\n",
       "    </tr>\n",
       "    <tr>\n",
       "      <th>PassengerId</th>\n",
       "      <th></th>\n",
       "      <th></th>\n",
       "      <th></th>\n",
       "      <th></th>\n",
       "      <th></th>\n",
       "      <th></th>\n",
       "      <th></th>\n",
       "      <th></th>\n",
       "      <th></th>\n",
       "      <th></th>\n",
       "      <th></th>\n",
       "      <th></th>\n",
       "      <th></th>\n",
       "    </tr>\n",
       "  </thead>\n",
       "  <tbody>\n",
       "    <tr>\n",
       "      <th>0001_01</th>\n",
       "      <td>Europa</td>\n",
       "      <td>False</td>\n",
       "      <td>B/0/P</td>\n",
       "      <td>TRAPPIST-1e</td>\n",
       "      <td>39.0</td>\n",
       "      <td>False</td>\n",
       "      <td>0.0</td>\n",
       "      <td>0.0</td>\n",
       "      <td>0.0</td>\n",
       "      <td>0.0</td>\n",
       "      <td>0.0</td>\n",
       "      <td>Maham Ofracculy</td>\n",
       "      <td>False</td>\n",
       "    </tr>\n",
       "    <tr>\n",
       "      <th>0002_01</th>\n",
       "      <td>Earth</td>\n",
       "      <td>False</td>\n",
       "      <td>F/0/S</td>\n",
       "      <td>TRAPPIST-1e</td>\n",
       "      <td>24.0</td>\n",
       "      <td>False</td>\n",
       "      <td>109.0</td>\n",
       "      <td>9.0</td>\n",
       "      <td>25.0</td>\n",
       "      <td>549.0</td>\n",
       "      <td>44.0</td>\n",
       "      <td>Juanna Vines</td>\n",
       "      <td>True</td>\n",
       "    </tr>\n",
       "    <tr>\n",
       "      <th>0003_01</th>\n",
       "      <td>Europa</td>\n",
       "      <td>False</td>\n",
       "      <td>A/0/S</td>\n",
       "      <td>TRAPPIST-1e</td>\n",
       "      <td>58.0</td>\n",
       "      <td>True</td>\n",
       "      <td>43.0</td>\n",
       "      <td>3576.0</td>\n",
       "      <td>0.0</td>\n",
       "      <td>6715.0</td>\n",
       "      <td>49.0</td>\n",
       "      <td>Altark Susent</td>\n",
       "      <td>False</td>\n",
       "    </tr>\n",
       "    <tr>\n",
       "      <th>0003_02</th>\n",
       "      <td>Europa</td>\n",
       "      <td>False</td>\n",
       "      <td>A/0/S</td>\n",
       "      <td>TRAPPIST-1e</td>\n",
       "      <td>33.0</td>\n",
       "      <td>False</td>\n",
       "      <td>0.0</td>\n",
       "      <td>1283.0</td>\n",
       "      <td>371.0</td>\n",
       "      <td>3329.0</td>\n",
       "      <td>193.0</td>\n",
       "      <td>Solam Susent</td>\n",
       "      <td>False</td>\n",
       "    </tr>\n",
       "    <tr>\n",
       "      <th>0004_01</th>\n",
       "      <td>Earth</td>\n",
       "      <td>False</td>\n",
       "      <td>F/1/S</td>\n",
       "      <td>TRAPPIST-1e</td>\n",
       "      <td>16.0</td>\n",
       "      <td>False</td>\n",
       "      <td>303.0</td>\n",
       "      <td>70.0</td>\n",
       "      <td>151.0</td>\n",
       "      <td>565.0</td>\n",
       "      <td>2.0</td>\n",
       "      <td>Willy Santantines</td>\n",
       "      <td>True</td>\n",
       "    </tr>\n",
       "  </tbody>\n",
       "</table>\n",
       "</div>"
      ],
      "text/plain": [
       "            HomePlanet CryoSleep  Cabin  Destination   Age    VIP  \\\n",
       "PassengerId                                                         \n",
       "0001_01         Europa     False  B/0/P  TRAPPIST-1e  39.0  False   \n",
       "0002_01          Earth     False  F/0/S  TRAPPIST-1e  24.0  False   \n",
       "0003_01         Europa     False  A/0/S  TRAPPIST-1e  58.0   True   \n",
       "0003_02         Europa     False  A/0/S  TRAPPIST-1e  33.0  False   \n",
       "0004_01          Earth     False  F/1/S  TRAPPIST-1e  16.0  False   \n",
       "\n",
       "             RoomService  FoodCourt  ShoppingMall     Spa  VRDeck  \\\n",
       "PassengerId                                                         \n",
       "0001_01              0.0        0.0           0.0     0.0     0.0   \n",
       "0002_01            109.0        9.0          25.0   549.0    44.0   \n",
       "0003_01             43.0     3576.0           0.0  6715.0    49.0   \n",
       "0003_02              0.0     1283.0         371.0  3329.0   193.0   \n",
       "0004_01            303.0       70.0         151.0   565.0     2.0   \n",
       "\n",
       "                          Name  Transported  \n",
       "PassengerId                                  \n",
       "0001_01        Maham Ofracculy        False  \n",
       "0002_01           Juanna Vines         True  \n",
       "0003_01          Altark Susent        False  \n",
       "0003_02           Solam Susent        False  \n",
       "0004_01      Willy Santantines         True  "
      ]
     },
     "execution_count": 13,
     "metadata": {},
     "output_type": "execute_result"
    }
   ],
   "source": [
    "df.head()"
   ]
  },
  {
   "cell_type": "code",
   "execution_count": 14,
   "id": "bb530f9b",
   "metadata": {
    "execution": {
     "iopub.execute_input": "2023-10-17T09:31:21.150728Z",
     "iopub.status.busy": "2023-10-17T09:31:21.150362Z",
     "iopub.status.idle": "2023-10-17T09:31:21.158152Z",
     "shell.execute_reply": "2023-10-17T09:31:21.157256Z"
    },
    "papermill": {
     "duration": 0.027287,
     "end_time": "2023-10-17T09:31:21.160272",
     "exception": false,
     "start_time": "2023-10-17T09:31:21.132985",
     "status": "completed"
    },
    "tags": []
   },
   "outputs": [
    {
     "data": {
      "text/plain": [
       "array([0., 1., 0., ..., 1., 0., 1.])"
      ]
     },
     "execution_count": 14,
     "metadata": {},
     "output_type": "execute_result"
    }
   ],
   "source": [
    "# Extract the target set\n",
    "Y = df[\"Transported\"].to_numpy(copy = True, dtype = float)\n",
    "Y"
   ]
  },
  {
   "cell_type": "code",
   "execution_count": 15,
   "id": "b2f413a7",
   "metadata": {
    "execution": {
     "iopub.execute_input": "2023-10-17T09:31:21.191256Z",
     "iopub.status.busy": "2023-10-17T09:31:21.190854Z",
     "iopub.status.idle": "2023-10-17T09:31:21.204756Z",
     "shell.execute_reply": "2023-10-17T09:31:21.203475Z"
    },
    "papermill": {
     "duration": 0.031716,
     "end_time": "2023-10-17T09:31:21.206889",
     "exception": false,
     "start_time": "2023-10-17T09:31:21.175173",
     "status": "completed"
    },
    "tags": []
   },
   "outputs": [
    {
     "name": "stdout",
     "output_type": "stream",
     "text": [
      "4\n",
      "6561\n",
      "4\n",
      "4\n",
      "3266\n",
      "4\n"
     ]
    }
   ],
   "source": [
    "# Convert categorical to one-hot encoding - but first let's check how practical that is\n",
    "print(len(df[\"HomePlanet\"].unique()))\n",
    "print(len(df[\"Cabin\"].unique()))\n",
    "print(len(df[\"Destination\"].unique()))\n",
    "print(len(df_pred[\"HomePlanet\"].unique()))\n",
    "print(len(df_pred[\"Cabin\"].unique()))\n",
    "print(len(df_pred[\"Destination\"].unique()))"
   ]
  },
  {
   "cell_type": "markdown",
   "id": "96ce2401",
   "metadata": {
    "papermill": {
     "duration": 0.014736,
     "end_time": "2023-10-17T09:31:21.236591",
     "exception": false,
     "start_time": "2023-10-17T09:31:21.221855",
     "status": "completed"
    },
    "tags": []
   },
   "source": [
    "For the category \"Cabin\" there too many unique values - we will not one-hot encode them, we will for now drop them.\n",
    "\n",
    "As for the others: it looks good, not too many unique values per category - so we can proceed with one-hot enconding."
   ]
  },
  {
   "cell_type": "code",
   "execution_count": 16,
   "id": "07791517",
   "metadata": {
    "execution": {
     "iopub.execute_input": "2023-10-17T09:31:21.267304Z",
     "iopub.status.busy": "2023-10-17T09:31:21.266954Z",
     "iopub.status.idle": "2023-10-17T09:31:21.282501Z",
     "shell.execute_reply": "2023-10-17T09:31:21.281624Z"
    },
    "papermill": {
     "duration": 0.033444,
     "end_time": "2023-10-17T09:31:21.284586",
     "exception": false,
     "start_time": "2023-10-17T09:31:21.251142",
     "status": "completed"
    },
    "tags": []
   },
   "outputs": [],
   "source": [
    "# focus on the columns that we will one-hot encode\n",
    "df_X = df.drop(columns = [\"Cabin\"]).loc[:,\"HomePlanet\":\"VRDeck\"].copy()\n",
    "df_X_pred = df_pred.drop(columns = [\"Cabin\"]).loc[:,\"HomePlanet\":\"VRDeck\"].copy()"
   ]
  },
  {
   "cell_type": "code",
   "execution_count": 17,
   "id": "3ece747e",
   "metadata": {
    "execution": {
     "iopub.execute_input": "2023-10-17T09:31:21.316114Z",
     "iopub.status.busy": "2023-10-17T09:31:21.315727Z",
     "iopub.status.idle": "2023-10-17T09:31:21.332167Z",
     "shell.execute_reply": "2023-10-17T09:31:21.331049Z"
    },
    "papermill": {
     "duration": 0.03525,
     "end_time": "2023-10-17T09:31:21.334357",
     "exception": false,
     "start_time": "2023-10-17T09:31:21.299107",
     "status": "completed"
    },
    "tags": []
   },
   "outputs": [
    {
     "data": {
      "text/html": [
       "<div>\n",
       "<style scoped>\n",
       "    .dataframe tbody tr th:only-of-type {\n",
       "        vertical-align: middle;\n",
       "    }\n",
       "\n",
       "    .dataframe tbody tr th {\n",
       "        vertical-align: top;\n",
       "    }\n",
       "\n",
       "    .dataframe thead th {\n",
       "        text-align: right;\n",
       "    }\n",
       "</style>\n",
       "<table border=\"1\" class=\"dataframe\">\n",
       "  <thead>\n",
       "    <tr style=\"text-align: right;\">\n",
       "      <th></th>\n",
       "      <th>HomePlanet</th>\n",
       "      <th>CryoSleep</th>\n",
       "      <th>Destination</th>\n",
       "      <th>Age</th>\n",
       "      <th>VIP</th>\n",
       "      <th>RoomService</th>\n",
       "      <th>FoodCourt</th>\n",
       "      <th>ShoppingMall</th>\n",
       "      <th>Spa</th>\n",
       "      <th>VRDeck</th>\n",
       "    </tr>\n",
       "    <tr>\n",
       "      <th>PassengerId</th>\n",
       "      <th></th>\n",
       "      <th></th>\n",
       "      <th></th>\n",
       "      <th></th>\n",
       "      <th></th>\n",
       "      <th></th>\n",
       "      <th></th>\n",
       "      <th></th>\n",
       "      <th></th>\n",
       "      <th></th>\n",
       "    </tr>\n",
       "  </thead>\n",
       "  <tbody>\n",
       "    <tr>\n",
       "      <th>0001_01</th>\n",
       "      <td>Europa</td>\n",
       "      <td>False</td>\n",
       "      <td>TRAPPIST-1e</td>\n",
       "      <td>39.0</td>\n",
       "      <td>False</td>\n",
       "      <td>0.0</td>\n",
       "      <td>0.0</td>\n",
       "      <td>0.0</td>\n",
       "      <td>0.0</td>\n",
       "      <td>0.0</td>\n",
       "    </tr>\n",
       "    <tr>\n",
       "      <th>0002_01</th>\n",
       "      <td>Earth</td>\n",
       "      <td>False</td>\n",
       "      <td>TRAPPIST-1e</td>\n",
       "      <td>24.0</td>\n",
       "      <td>False</td>\n",
       "      <td>109.0</td>\n",
       "      <td>9.0</td>\n",
       "      <td>25.0</td>\n",
       "      <td>549.0</td>\n",
       "      <td>44.0</td>\n",
       "    </tr>\n",
       "    <tr>\n",
       "      <th>0003_01</th>\n",
       "      <td>Europa</td>\n",
       "      <td>False</td>\n",
       "      <td>TRAPPIST-1e</td>\n",
       "      <td>58.0</td>\n",
       "      <td>True</td>\n",
       "      <td>43.0</td>\n",
       "      <td>3576.0</td>\n",
       "      <td>0.0</td>\n",
       "      <td>6715.0</td>\n",
       "      <td>49.0</td>\n",
       "    </tr>\n",
       "    <tr>\n",
       "      <th>0003_02</th>\n",
       "      <td>Europa</td>\n",
       "      <td>False</td>\n",
       "      <td>TRAPPIST-1e</td>\n",
       "      <td>33.0</td>\n",
       "      <td>False</td>\n",
       "      <td>0.0</td>\n",
       "      <td>1283.0</td>\n",
       "      <td>371.0</td>\n",
       "      <td>3329.0</td>\n",
       "      <td>193.0</td>\n",
       "    </tr>\n",
       "    <tr>\n",
       "      <th>0004_01</th>\n",
       "      <td>Earth</td>\n",
       "      <td>False</td>\n",
       "      <td>TRAPPIST-1e</td>\n",
       "      <td>16.0</td>\n",
       "      <td>False</td>\n",
       "      <td>303.0</td>\n",
       "      <td>70.0</td>\n",
       "      <td>151.0</td>\n",
       "      <td>565.0</td>\n",
       "      <td>2.0</td>\n",
       "    </tr>\n",
       "  </tbody>\n",
       "</table>\n",
       "</div>"
      ],
      "text/plain": [
       "            HomePlanet CryoSleep  Destination   Age    VIP  RoomService  \\\n",
       "PassengerId                                                               \n",
       "0001_01         Europa     False  TRAPPIST-1e  39.0  False          0.0   \n",
       "0002_01          Earth     False  TRAPPIST-1e  24.0  False        109.0   \n",
       "0003_01         Europa     False  TRAPPIST-1e  58.0   True         43.0   \n",
       "0003_02         Europa     False  TRAPPIST-1e  33.0  False          0.0   \n",
       "0004_01          Earth     False  TRAPPIST-1e  16.0  False        303.0   \n",
       "\n",
       "             FoodCourt  ShoppingMall     Spa  VRDeck  \n",
       "PassengerId                                           \n",
       "0001_01            0.0           0.0     0.0     0.0  \n",
       "0002_01            9.0          25.0   549.0    44.0  \n",
       "0003_01         3576.0           0.0  6715.0    49.0  \n",
       "0003_02         1283.0         371.0  3329.0   193.0  \n",
       "0004_01           70.0         151.0   565.0     2.0  "
      ]
     },
     "execution_count": 17,
     "metadata": {},
     "output_type": "execute_result"
    }
   ],
   "source": [
    "df_X.head()"
   ]
  },
  {
   "cell_type": "code",
   "execution_count": 18,
   "id": "10f64595",
   "metadata": {
    "execution": {
     "iopub.execute_input": "2023-10-17T09:31:21.368109Z",
     "iopub.status.busy": "2023-10-17T09:31:21.367729Z",
     "iopub.status.idle": "2023-10-17T09:31:21.378629Z",
     "shell.execute_reply": "2023-10-17T09:31:21.377584Z"
    },
    "papermill": {
     "duration": 0.030206,
     "end_time": "2023-10-17T09:31:21.380611",
     "exception": false,
     "start_time": "2023-10-17T09:31:21.350405",
     "status": "completed"
    },
    "tags": []
   },
   "outputs": [],
   "source": [
    "# Before one-hot encoding categorical data, convert \"True / False\" into \"1 / 0\".\n",
    "\n",
    "df_X[[\"CryoSleep\", \"VIP\"]] = df_X[[\"CryoSleep\", \"VIP\"]].astype(float)\n",
    "df_X_pred[[\"CryoSleep\", \"VIP\"]] = df_X_pred[[\"CryoSleep\", \"VIP\"]].astype(float)"
   ]
  },
  {
   "cell_type": "code",
   "execution_count": 19,
   "id": "f81e06d1",
   "metadata": {
    "execution": {
     "iopub.execute_input": "2023-10-17T09:31:21.412055Z",
     "iopub.status.busy": "2023-10-17T09:31:21.411633Z",
     "iopub.status.idle": "2023-10-17T09:31:21.428857Z",
     "shell.execute_reply": "2023-10-17T09:31:21.427857Z"
    },
    "papermill": {
     "duration": 0.035601,
     "end_time": "2023-10-17T09:31:21.431101",
     "exception": false,
     "start_time": "2023-10-17T09:31:21.395500",
     "status": "completed"
    },
    "tags": []
   },
   "outputs": [
    {
     "data": {
      "text/html": [
       "<div>\n",
       "<style scoped>\n",
       "    .dataframe tbody tr th:only-of-type {\n",
       "        vertical-align: middle;\n",
       "    }\n",
       "\n",
       "    .dataframe tbody tr th {\n",
       "        vertical-align: top;\n",
       "    }\n",
       "\n",
       "    .dataframe thead th {\n",
       "        text-align: right;\n",
       "    }\n",
       "</style>\n",
       "<table border=\"1\" class=\"dataframe\">\n",
       "  <thead>\n",
       "    <tr style=\"text-align: right;\">\n",
       "      <th></th>\n",
       "      <th>HomePlanet</th>\n",
       "      <th>CryoSleep</th>\n",
       "      <th>Destination</th>\n",
       "      <th>Age</th>\n",
       "      <th>VIP</th>\n",
       "      <th>RoomService</th>\n",
       "      <th>FoodCourt</th>\n",
       "      <th>ShoppingMall</th>\n",
       "      <th>Spa</th>\n",
       "      <th>VRDeck</th>\n",
       "    </tr>\n",
       "    <tr>\n",
       "      <th>PassengerId</th>\n",
       "      <th></th>\n",
       "      <th></th>\n",
       "      <th></th>\n",
       "      <th></th>\n",
       "      <th></th>\n",
       "      <th></th>\n",
       "      <th></th>\n",
       "      <th></th>\n",
       "      <th></th>\n",
       "      <th></th>\n",
       "    </tr>\n",
       "  </thead>\n",
       "  <tbody>\n",
       "    <tr>\n",
       "      <th>0001_01</th>\n",
       "      <td>Europa</td>\n",
       "      <td>0.0</td>\n",
       "      <td>TRAPPIST-1e</td>\n",
       "      <td>39.0</td>\n",
       "      <td>0.0</td>\n",
       "      <td>0.0</td>\n",
       "      <td>0.0</td>\n",
       "      <td>0.0</td>\n",
       "      <td>0.0</td>\n",
       "      <td>0.0</td>\n",
       "    </tr>\n",
       "    <tr>\n",
       "      <th>0002_01</th>\n",
       "      <td>Earth</td>\n",
       "      <td>0.0</td>\n",
       "      <td>TRAPPIST-1e</td>\n",
       "      <td>24.0</td>\n",
       "      <td>0.0</td>\n",
       "      <td>109.0</td>\n",
       "      <td>9.0</td>\n",
       "      <td>25.0</td>\n",
       "      <td>549.0</td>\n",
       "      <td>44.0</td>\n",
       "    </tr>\n",
       "    <tr>\n",
       "      <th>0003_01</th>\n",
       "      <td>Europa</td>\n",
       "      <td>0.0</td>\n",
       "      <td>TRAPPIST-1e</td>\n",
       "      <td>58.0</td>\n",
       "      <td>1.0</td>\n",
       "      <td>43.0</td>\n",
       "      <td>3576.0</td>\n",
       "      <td>0.0</td>\n",
       "      <td>6715.0</td>\n",
       "      <td>49.0</td>\n",
       "    </tr>\n",
       "    <tr>\n",
       "      <th>0003_02</th>\n",
       "      <td>Europa</td>\n",
       "      <td>0.0</td>\n",
       "      <td>TRAPPIST-1e</td>\n",
       "      <td>33.0</td>\n",
       "      <td>0.0</td>\n",
       "      <td>0.0</td>\n",
       "      <td>1283.0</td>\n",
       "      <td>371.0</td>\n",
       "      <td>3329.0</td>\n",
       "      <td>193.0</td>\n",
       "    </tr>\n",
       "    <tr>\n",
       "      <th>0004_01</th>\n",
       "      <td>Earth</td>\n",
       "      <td>0.0</td>\n",
       "      <td>TRAPPIST-1e</td>\n",
       "      <td>16.0</td>\n",
       "      <td>0.0</td>\n",
       "      <td>303.0</td>\n",
       "      <td>70.0</td>\n",
       "      <td>151.0</td>\n",
       "      <td>565.0</td>\n",
       "      <td>2.0</td>\n",
       "    </tr>\n",
       "  </tbody>\n",
       "</table>\n",
       "</div>"
      ],
      "text/plain": [
       "            HomePlanet  CryoSleep  Destination   Age  VIP  RoomService  \\\n",
       "PassengerId                                                              \n",
       "0001_01         Europa        0.0  TRAPPIST-1e  39.0  0.0          0.0   \n",
       "0002_01          Earth        0.0  TRAPPIST-1e  24.0  0.0        109.0   \n",
       "0003_01         Europa        0.0  TRAPPIST-1e  58.0  1.0         43.0   \n",
       "0003_02         Europa        0.0  TRAPPIST-1e  33.0  0.0          0.0   \n",
       "0004_01          Earth        0.0  TRAPPIST-1e  16.0  0.0        303.0   \n",
       "\n",
       "             FoodCourt  ShoppingMall     Spa  VRDeck  \n",
       "PassengerId                                           \n",
       "0001_01            0.0           0.0     0.0     0.0  \n",
       "0002_01            9.0          25.0   549.0    44.0  \n",
       "0003_01         3576.0           0.0  6715.0    49.0  \n",
       "0003_02         1283.0         371.0  3329.0   193.0  \n",
       "0004_01           70.0         151.0   565.0     2.0  "
      ]
     },
     "execution_count": 19,
     "metadata": {},
     "output_type": "execute_result"
    }
   ],
   "source": [
    "df_X.head()"
   ]
  },
  {
   "cell_type": "code",
   "execution_count": 20,
   "id": "aa1050d2",
   "metadata": {
    "execution": {
     "iopub.execute_input": "2023-10-17T09:31:21.463383Z",
     "iopub.status.busy": "2023-10-17T09:31:21.463049Z",
     "iopub.status.idle": "2023-10-17T09:31:21.480615Z",
     "shell.execute_reply": "2023-10-17T09:31:21.479381Z"
    },
    "papermill": {
     "duration": 0.036516,
     "end_time": "2023-10-17T09:31:21.483059",
     "exception": false,
     "start_time": "2023-10-17T09:31:21.446543",
     "status": "completed"
    },
    "tags": []
   },
   "outputs": [],
   "source": [
    "# These are the encoded variables that we will later use for modeling\n",
    "\n",
    "df_X_num = pd.get_dummies(df_X, dtype=float)\n",
    "df_X_pred_num = pd.get_dummies(df_X_pred, dtype=float)"
   ]
  },
  {
   "cell_type": "code",
   "execution_count": 21,
   "id": "826060ef",
   "metadata": {
    "execution": {
     "iopub.execute_input": "2023-10-17T09:31:21.514521Z",
     "iopub.status.busy": "2023-10-17T09:31:21.514197Z",
     "iopub.status.idle": "2023-10-17T09:31:21.534252Z",
     "shell.execute_reply": "2023-10-17T09:31:21.533228Z"
    },
    "papermill": {
     "duration": 0.038506,
     "end_time": "2023-10-17T09:31:21.536511",
     "exception": false,
     "start_time": "2023-10-17T09:31:21.498005",
     "status": "completed"
    },
    "tags": []
   },
   "outputs": [
    {
     "data": {
      "text/html": [
       "<div>\n",
       "<style scoped>\n",
       "    .dataframe tbody tr th:only-of-type {\n",
       "        vertical-align: middle;\n",
       "    }\n",
       "\n",
       "    .dataframe tbody tr th {\n",
       "        vertical-align: top;\n",
       "    }\n",
       "\n",
       "    .dataframe thead th {\n",
       "        text-align: right;\n",
       "    }\n",
       "</style>\n",
       "<table border=\"1\" class=\"dataframe\">\n",
       "  <thead>\n",
       "    <tr style=\"text-align: right;\">\n",
       "      <th></th>\n",
       "      <th>CryoSleep</th>\n",
       "      <th>Age</th>\n",
       "      <th>VIP</th>\n",
       "      <th>RoomService</th>\n",
       "      <th>FoodCourt</th>\n",
       "      <th>ShoppingMall</th>\n",
       "      <th>Spa</th>\n",
       "      <th>VRDeck</th>\n",
       "      <th>HomePlanet_Earth</th>\n",
       "      <th>HomePlanet_Europa</th>\n",
       "      <th>HomePlanet_Mars</th>\n",
       "      <th>Destination_55 Cancri e</th>\n",
       "      <th>Destination_PSO J318.5-22</th>\n",
       "      <th>Destination_TRAPPIST-1e</th>\n",
       "    </tr>\n",
       "    <tr>\n",
       "      <th>PassengerId</th>\n",
       "      <th></th>\n",
       "      <th></th>\n",
       "      <th></th>\n",
       "      <th></th>\n",
       "      <th></th>\n",
       "      <th></th>\n",
       "      <th></th>\n",
       "      <th></th>\n",
       "      <th></th>\n",
       "      <th></th>\n",
       "      <th></th>\n",
       "      <th></th>\n",
       "      <th></th>\n",
       "      <th></th>\n",
       "    </tr>\n",
       "  </thead>\n",
       "  <tbody>\n",
       "    <tr>\n",
       "      <th>0001_01</th>\n",
       "      <td>0.0</td>\n",
       "      <td>39.0</td>\n",
       "      <td>0.0</td>\n",
       "      <td>0.0</td>\n",
       "      <td>0.0</td>\n",
       "      <td>0.0</td>\n",
       "      <td>0.0</td>\n",
       "      <td>0.0</td>\n",
       "      <td>0.0</td>\n",
       "      <td>1.0</td>\n",
       "      <td>0.0</td>\n",
       "      <td>0.0</td>\n",
       "      <td>0.0</td>\n",
       "      <td>1.0</td>\n",
       "    </tr>\n",
       "    <tr>\n",
       "      <th>0002_01</th>\n",
       "      <td>0.0</td>\n",
       "      <td>24.0</td>\n",
       "      <td>0.0</td>\n",
       "      <td>109.0</td>\n",
       "      <td>9.0</td>\n",
       "      <td>25.0</td>\n",
       "      <td>549.0</td>\n",
       "      <td>44.0</td>\n",
       "      <td>1.0</td>\n",
       "      <td>0.0</td>\n",
       "      <td>0.0</td>\n",
       "      <td>0.0</td>\n",
       "      <td>0.0</td>\n",
       "      <td>1.0</td>\n",
       "    </tr>\n",
       "    <tr>\n",
       "      <th>0003_01</th>\n",
       "      <td>0.0</td>\n",
       "      <td>58.0</td>\n",
       "      <td>1.0</td>\n",
       "      <td>43.0</td>\n",
       "      <td>3576.0</td>\n",
       "      <td>0.0</td>\n",
       "      <td>6715.0</td>\n",
       "      <td>49.0</td>\n",
       "      <td>0.0</td>\n",
       "      <td>1.0</td>\n",
       "      <td>0.0</td>\n",
       "      <td>0.0</td>\n",
       "      <td>0.0</td>\n",
       "      <td>1.0</td>\n",
       "    </tr>\n",
       "    <tr>\n",
       "      <th>0003_02</th>\n",
       "      <td>0.0</td>\n",
       "      <td>33.0</td>\n",
       "      <td>0.0</td>\n",
       "      <td>0.0</td>\n",
       "      <td>1283.0</td>\n",
       "      <td>371.0</td>\n",
       "      <td>3329.0</td>\n",
       "      <td>193.0</td>\n",
       "      <td>0.0</td>\n",
       "      <td>1.0</td>\n",
       "      <td>0.0</td>\n",
       "      <td>0.0</td>\n",
       "      <td>0.0</td>\n",
       "      <td>1.0</td>\n",
       "    </tr>\n",
       "    <tr>\n",
       "      <th>0004_01</th>\n",
       "      <td>0.0</td>\n",
       "      <td>16.0</td>\n",
       "      <td>0.0</td>\n",
       "      <td>303.0</td>\n",
       "      <td>70.0</td>\n",
       "      <td>151.0</td>\n",
       "      <td>565.0</td>\n",
       "      <td>2.0</td>\n",
       "      <td>1.0</td>\n",
       "      <td>0.0</td>\n",
       "      <td>0.0</td>\n",
       "      <td>0.0</td>\n",
       "      <td>0.0</td>\n",
       "      <td>1.0</td>\n",
       "    </tr>\n",
       "  </tbody>\n",
       "</table>\n",
       "</div>"
      ],
      "text/plain": [
       "             CryoSleep   Age  VIP  RoomService  FoodCourt  ShoppingMall  \\\n",
       "PassengerId                                                               \n",
       "0001_01            0.0  39.0  0.0          0.0        0.0           0.0   \n",
       "0002_01            0.0  24.0  0.0        109.0        9.0          25.0   \n",
       "0003_01            0.0  58.0  1.0         43.0     3576.0           0.0   \n",
       "0003_02            0.0  33.0  0.0          0.0     1283.0         371.0   \n",
       "0004_01            0.0  16.0  0.0        303.0       70.0         151.0   \n",
       "\n",
       "                Spa  VRDeck  HomePlanet_Earth  HomePlanet_Europa  \\\n",
       "PassengerId                                                        \n",
       "0001_01         0.0     0.0               0.0                1.0   \n",
       "0002_01       549.0    44.0               1.0                0.0   \n",
       "0003_01      6715.0    49.0               0.0                1.0   \n",
       "0003_02      3329.0   193.0               0.0                1.0   \n",
       "0004_01       565.0     2.0               1.0                0.0   \n",
       "\n",
       "             HomePlanet_Mars  Destination_55 Cancri e  \\\n",
       "PassengerId                                             \n",
       "0001_01                  0.0                      0.0   \n",
       "0002_01                  0.0                      0.0   \n",
       "0003_01                  0.0                      0.0   \n",
       "0003_02                  0.0                      0.0   \n",
       "0004_01                  0.0                      0.0   \n",
       "\n",
       "             Destination_PSO J318.5-22  Destination_TRAPPIST-1e  \n",
       "PassengerId                                                      \n",
       "0001_01                            0.0                      1.0  \n",
       "0002_01                            0.0                      1.0  \n",
       "0003_01                            0.0                      1.0  \n",
       "0003_02                            0.0                      1.0  \n",
       "0004_01                            0.0                      1.0  "
      ]
     },
     "execution_count": 21,
     "metadata": {},
     "output_type": "execute_result"
    }
   ],
   "source": [
    "df_X_num.head()"
   ]
  },
  {
   "cell_type": "code",
   "execution_count": 22,
   "id": "2b43a9d0",
   "metadata": {
    "execution": {
     "iopub.execute_input": "2023-10-17T09:31:21.570019Z",
     "iopub.status.busy": "2023-10-17T09:31:21.569638Z",
     "iopub.status.idle": "2023-10-17T09:31:21.576063Z",
     "shell.execute_reply": "2023-10-17T09:31:21.575009Z"
    },
    "papermill": {
     "duration": 0.025595,
     "end_time": "2023-10-17T09:31:21.578167",
     "exception": false,
     "start_time": "2023-10-17T09:31:21.552572",
     "status": "completed"
    },
    "tags": []
   },
   "outputs": [
    {
     "data": {
      "text/plain": [
       "(8693, 14)"
      ]
     },
     "execution_count": 22,
     "metadata": {},
     "output_type": "execute_result"
    }
   ],
   "source": [
    "df_X_num.shape"
   ]
  },
  {
   "cell_type": "markdown",
   "id": "f7177b69",
   "metadata": {
    "papermill": {
     "duration": 0.015113,
     "end_time": "2023-10-17T09:31:21.610010",
     "exception": false,
     "start_time": "2023-10-17T09:31:21.594897",
     "status": "completed"
    },
    "tags": []
   },
   "source": [
    "#### Sandbox: change the columns structure"
   ]
  },
  {
   "cell_type": "markdown",
   "id": "df60a798",
   "metadata": {
    "papermill": {
     "duration": 0.015498,
     "end_time": "2023-10-17T09:31:21.640680",
     "exception": false,
     "start_time": "2023-10-17T09:31:21.625182",
     "status": "completed"
    },
    "tags": []
   },
   "source": [
    "NB: after encoding and before cleaning up further, we can change which columns we keep or let go.\n",
    "\n",
    "**Comment / Uncomment for effect**"
   ]
  },
  {
   "cell_type": "code",
   "execution_count": 23,
   "id": "73860ee1",
   "metadata": {
    "execution": {
     "iopub.execute_input": "2023-10-17T09:31:21.673013Z",
     "iopub.status.busy": "2023-10-17T09:31:21.672670Z",
     "iopub.status.idle": "2023-10-17T09:31:21.680898Z",
     "shell.execute_reply": "2023-10-17T09:31:21.679972Z"
    },
    "papermill": {
     "duration": 0.027011,
     "end_time": "2023-10-17T09:31:21.683145",
     "exception": false,
     "start_time": "2023-10-17T09:31:21.656134",
     "status": "completed"
    },
    "tags": []
   },
   "outputs": [],
   "source": [
    "# Keep a copy if later we want to come back and use the full list\n",
    "\n",
    "df_X_num_copy = df_X_num.copy()\n",
    "df_X_pred_num_copy = df_X_pred_num.copy()"
   ]
  },
  {
   "cell_type": "code",
   "execution_count": 24,
   "id": "bed38d73",
   "metadata": {
    "execution": {
     "iopub.execute_input": "2023-10-17T09:31:21.716453Z",
     "iopub.status.busy": "2023-10-17T09:31:21.716077Z",
     "iopub.status.idle": "2023-10-17T09:31:21.720673Z",
     "shell.execute_reply": "2023-10-17T09:31:21.719666Z"
    },
    "papermill": {
     "duration": 0.024049,
     "end_time": "2023-10-17T09:31:21.722732",
     "exception": false,
     "start_time": "2023-10-17T09:31:21.698683",
     "status": "completed"
    },
    "tags": []
   },
   "outputs": [],
   "source": [
    "# Just for fun: try reducing the variables to the ones with ABS(correlation) with Y that is higher \n",
    "# than a threshold, e.g. 0.2\n",
    "# (uncomment for effect)\n",
    "\n",
    "# short_list = [\"CryoSleep_True\", \"CryoSleep_False\", \"RoomService\", \"Spa\", \"VRDeck\"]\n",
    "\n",
    "#df_X_num = df_X_num[short_list]\n",
    "#df_X_pred_num = df_X_pred_num[short_list]"
   ]
  },
  {
   "cell_type": "code",
   "execution_count": 25,
   "id": "b26b3cba",
   "metadata": {
    "execution": {
     "iopub.execute_input": "2023-10-17T09:31:21.755284Z",
     "iopub.status.busy": "2023-10-17T09:31:21.754938Z",
     "iopub.status.idle": "2023-10-17T09:31:21.759489Z",
     "shell.execute_reply": "2023-10-17T09:31:21.758561Z"
    },
    "papermill": {
     "duration": 0.023074,
     "end_time": "2023-10-17T09:31:21.761378",
     "exception": false,
     "start_time": "2023-10-17T09:31:21.738304",
     "status": "completed"
    },
    "tags": []
   },
   "outputs": [],
   "source": [
    "# Just for fun: try reducing the variables to the ones with ABS(correlation) with Y that is higher \n",
    "# than a threshold, e.g. 0.2\n",
    "# Combine with the comment found at Kaggle, see if this works.\n",
    "# (uncomment for effect)\n",
    "\n",
    "# short_list = [\"CryoSleep_True\", \"CryoSleep_False\", \"RoomService\", \"Spa\", \"VRDeck\"]\n",
    "\n",
    "#df_X_num = df_X_num[short_list]\n",
    "#df_X_pred_num = df_X_pred_num[short_list]"
   ]
  },
  {
   "cell_type": "code",
   "execution_count": 26,
   "id": "54c4fa94",
   "metadata": {
    "execution": {
     "iopub.execute_input": "2023-10-17T09:31:21.794751Z",
     "iopub.status.busy": "2023-10-17T09:31:21.794395Z",
     "iopub.status.idle": "2023-10-17T09:31:21.799070Z",
     "shell.execute_reply": "2023-10-17T09:31:21.798113Z"
    },
    "papermill": {
     "duration": 0.024103,
     "end_time": "2023-10-17T09:31:21.800989",
     "exception": false,
     "start_time": "2023-10-17T09:31:21.776886",
     "status": "completed"
    },
    "tags": []
   },
   "outputs": [],
   "source": [
    "# df_X_num[\"Ammenities\"] = df_X_num[\"RoomService\"] + df_X_num[\"FoodCourt\"] + df_X_num[\"ShoppingMall\"] + df_X_num[\"Spa\"] + df_X_num[\"VRDeck\"]\n",
    "# df_X_pred_num[\"Ammenities\"] = df_X_pred_num[\"RoomService\"] + df_X_pred_num[\"FoodCourt\"] + df_X_pred_num[\"ShoppingMall\"] + df_X_pred_num[\"Spa\"] + df_X_pred_num[\"VRDeck\"]"
   ]
  },
  {
   "cell_type": "markdown",
   "id": "ee2815ad",
   "metadata": {
    "papermill": {
     "duration": 0.015477,
     "end_time": "2023-10-17T09:31:21.831862",
     "exception": false,
     "start_time": "2023-10-17T09:31:21.816385",
     "status": "completed"
    },
    "tags": []
   },
   "source": [
    "#### Clean up the NaNs"
   ]
  },
  {
   "cell_type": "code",
   "execution_count": 27,
   "id": "645537b9",
   "metadata": {
    "execution": {
     "iopub.execute_input": "2023-10-17T09:31:21.865952Z",
     "iopub.status.busy": "2023-10-17T09:31:21.865324Z",
     "iopub.status.idle": "2023-10-17T09:31:21.876013Z",
     "shell.execute_reply": "2023-10-17T09:31:21.874608Z"
    },
    "papermill": {
     "duration": 0.030701,
     "end_time": "2023-10-17T09:31:21.877962",
     "exception": false,
     "start_time": "2023-10-17T09:31:21.847261",
     "status": "completed"
    },
    "tags": []
   },
   "outputs": [
    {
     "name": "stdout",
     "output_type": "stream",
     "text": [
      "CryoSleep                    217\n",
      "Age                          179\n",
      "VIP                          203\n",
      "RoomService                  181\n",
      "FoodCourt                    183\n",
      "ShoppingMall                 208\n",
      "Spa                          183\n",
      "VRDeck                       188\n",
      "HomePlanet_Earth               0\n",
      "HomePlanet_Europa              0\n",
      "HomePlanet_Mars                0\n",
      "Destination_55 Cancri e        0\n",
      "Destination_PSO J318.5-22      0\n",
      "Destination_TRAPPIST-1e        0\n",
      "dtype: int64 \n",
      " \n",
      "\n",
      "CryoSleep                     93\n",
      "Age                           91\n",
      "VIP                           93\n",
      "RoomService                   82\n",
      "FoodCourt                    106\n",
      "ShoppingMall                  98\n",
      "Spa                          101\n",
      "VRDeck                        80\n",
      "HomePlanet_Earth               0\n",
      "HomePlanet_Europa              0\n",
      "HomePlanet_Mars                0\n",
      "Destination_55 Cancri e        0\n",
      "Destination_PSO J318.5-22      0\n",
      "Destination_TRAPPIST-1e        0\n",
      "dtype: int64 \n",
      " \n",
      "\n",
      "fraction of NaN in df_X_num =  0.02496261359714713   fraction of NaN in df_X_pred_num =  0.024783726911386486\n"
     ]
    }
   ],
   "source": [
    "# Are there many NaNs in the encoded variables?\n",
    "\n",
    "print(df_X_num.isna().sum(), \"\\n \\n\")\n",
    "print(df_X_pred_num.isna().sum(), \"\\n \\n\")\n",
    "print(\"fraction of NaN in df_X_num = \", df_X_num.isna().sum().max()/len(df_X_num), \n",
    "      \"  fraction of NaN in df_X_pred_num = \", df_X_pred_num.isna().sum().max()/len(df_X_pred_num))"
   ]
  },
  {
   "cell_type": "code",
   "execution_count": 28,
   "id": "c3f4f063",
   "metadata": {
    "execution": {
     "iopub.execute_input": "2023-10-17T09:31:21.911618Z",
     "iopub.status.busy": "2023-10-17T09:31:21.911014Z",
     "iopub.status.idle": "2023-10-17T09:31:21.923757Z",
     "shell.execute_reply": "2023-10-17T09:31:21.922955Z"
    },
    "papermill": {
     "duration": 0.032569,
     "end_time": "2023-10-17T09:31:21.926199",
     "exception": false,
     "start_time": "2023-10-17T09:31:21.893630",
     "status": "completed"
    },
    "tags": []
   },
   "outputs": [],
   "source": [
    "# In a first (and simplified approach), we substitute the NaN values for the average values in each column.\n",
    "# This may be enough because each column has a much larger number of variables than the highest number of NaN \n",
    "\n",
    "for i in df_X_num.columns[df_X_num.isnull().any(axis=0)]:     #---Applying Only on variables with NaN values\n",
    "    df_X_num[i].fillna(df_X_num[i].mean(),inplace=True)\n",
    "\n",
    "for i in df_X_pred_num.columns[df_X_pred_num.isnull().any(axis=0)]:     #---Applying Only on variables with NaN values\n",
    "    df_X_pred_num[i].fillna(df_X_pred_num[i].mean(),inplace=True)"
   ]
  },
  {
   "cell_type": "code",
   "execution_count": 29,
   "id": "4982009e",
   "metadata": {
    "execution": {
     "iopub.execute_input": "2023-10-17T09:31:21.959661Z",
     "iopub.status.busy": "2023-10-17T09:31:21.959297Z",
     "iopub.status.idle": "2023-10-17T09:31:21.968194Z",
     "shell.execute_reply": "2023-10-17T09:31:21.966719Z"
    },
    "papermill": {
     "duration": 0.027858,
     "end_time": "2023-10-17T09:31:21.970312",
     "exception": false,
     "start_time": "2023-10-17T09:31:21.942454",
     "status": "completed"
    },
    "tags": []
   },
   "outputs": [
    {
     "name": "stdout",
     "output_type": "stream",
     "text": [
      "fraction of NaN in df_X_num =  0.0   fraction of NaN in df_X_pred_num =  0.0\n"
     ]
    }
   ],
   "source": [
    "# Double check\n",
    "print(\"fraction of NaN in df_X_num = \", df_X_num.isna().sum().max()/len(df_X_num), \n",
    "      \"  fraction of NaN in df_X_pred_num = \", df_X_pred_num.isna().sum().max()/len(df_X_pred_num))"
   ]
  },
  {
   "cell_type": "code",
   "execution_count": 30,
   "id": "bba986ef",
   "metadata": {
    "execution": {
     "iopub.execute_input": "2023-10-17T09:31:22.004993Z",
     "iopub.status.busy": "2023-10-17T09:31:22.003453Z",
     "iopub.status.idle": "2023-10-17T09:31:22.012657Z",
     "shell.execute_reply": "2023-10-17T09:31:22.010953Z"
    },
    "papermill": {
     "duration": 0.028641,
     "end_time": "2023-10-17T09:31:22.014999",
     "exception": false,
     "start_time": "2023-10-17T09:31:21.986358",
     "status": "completed"
    },
    "tags": []
   },
   "outputs": [
    {
     "data": {
      "text/plain": [
       "8693"
      ]
     },
     "execution_count": 30,
     "metadata": {},
     "output_type": "execute_result"
    }
   ],
   "source": [
    "df_X_num.shape[0]"
   ]
  },
  {
   "cell_type": "code",
   "execution_count": 31,
   "id": "953c6eaf",
   "metadata": {
    "execution": {
     "iopub.execute_input": "2023-10-17T09:31:22.050018Z",
     "iopub.status.busy": "2023-10-17T09:31:22.049666Z",
     "iopub.status.idle": "2023-10-17T09:31:22.055674Z",
     "shell.execute_reply": "2023-10-17T09:31:22.054668Z"
    },
    "papermill": {
     "duration": 0.025745,
     "end_time": "2023-10-17T09:31:22.057688",
     "exception": false,
     "start_time": "2023-10-17T09:31:22.031943",
     "status": "completed"
    },
    "tags": []
   },
   "outputs": [
    {
     "data": {
      "text/plain": [
       "8693"
      ]
     },
     "execution_count": 31,
     "metadata": {},
     "output_type": "execute_result"
    }
   ],
   "source": [
    "len(Y)"
   ]
  },
  {
   "cell_type": "markdown",
   "id": "45651fa9",
   "metadata": {
    "papermill": {
     "duration": 0.016616,
     "end_time": "2023-10-17T09:31:22.090699",
     "exception": false,
     "start_time": "2023-10-17T09:31:22.074083",
     "status": "completed"
    },
    "tags": []
   },
   "source": [
    "Importantly, X and Y have the same number of rows (\"same shape\" in this context)."
   ]
  },
  {
   "cell_type": "markdown",
   "id": "f9c6fca3",
   "metadata": {
    "papermill": {
     "duration": 0.015357,
     "end_time": "2023-10-17T09:31:22.123167",
     "exception": false,
     "start_time": "2023-10-17T09:31:22.107810",
     "status": "completed"
    },
    "tags": []
   },
   "source": [
    "#### Correlations"
   ]
  },
  {
   "cell_type": "code",
   "execution_count": 32,
   "id": "263ee2bf",
   "metadata": {
    "execution": {
     "iopub.execute_input": "2023-10-17T09:31:22.156501Z",
     "iopub.status.busy": "2023-10-17T09:31:22.156161Z",
     "iopub.status.idle": "2023-10-17T09:31:22.174528Z",
     "shell.execute_reply": "2023-10-17T09:31:22.173723Z"
    },
    "papermill": {
     "duration": 0.037619,
     "end_time": "2023-10-17T09:31:22.176669",
     "exception": false,
     "start_time": "2023-10-17T09:31:22.139050",
     "status": "completed"
    },
    "tags": []
   },
   "outputs": [],
   "source": [
    "# How are the correlations among the variables and target?\n",
    "\n",
    "df_aux = df_X_num.copy() # create an auxiliary DF for the analysis; must be a copy, otherwise df_X_num is modified\n",
    "df_aux[[\"Y\"]] = df[[\"Transported\"]].astype(float) # for the correlation analysis, add the target column to this auxiliary DF  \n",
    "aux = df_aux.corr(numeric_only = True, method = \"pearson\") # correlation matrix"
   ]
  },
  {
   "cell_type": "code",
   "execution_count": 33,
   "id": "267280a6",
   "metadata": {
    "execution": {
     "iopub.execute_input": "2023-10-17T09:31:22.211146Z",
     "iopub.status.busy": "2023-10-17T09:31:22.210766Z",
     "iopub.status.idle": "2023-10-17T09:31:22.860685Z",
     "shell.execute_reply": "2023-10-17T09:31:22.859565Z"
    },
    "papermill": {
     "duration": 0.67109,
     "end_time": "2023-10-17T09:31:22.864045",
     "exception": false,
     "start_time": "2023-10-17T09:31:22.192955",
     "status": "completed"
    },
    "tags": []
   },
   "outputs": [
    {
     "data": {
      "image/png": "[encoded data removed]",
      "text/plain": [
       "<Figure size 960x720 with 2 Axes>"
      ]
     },
     "metadata": {},
     "output_type": "display_data"
    }
   ],
   "source": [
    "# Plot the matrix as a whole\n",
    "\n",
    "sns.heatmap(aux, cmap=\"Spectral\", annot=False, square = True,\n",
    "            vmin=-1, vmax=+1, center = 0)\n",
    "plt.show()"
   ]
  },
  {
   "cell_type": "code",
   "execution_count": 34,
   "id": "c59ea0af",
   "metadata": {
    "execution": {
     "iopub.execute_input": "2023-10-17T09:31:22.908945Z",
     "iopub.status.busy": "2023-10-17T09:31:22.908312Z",
     "iopub.status.idle": "2023-10-17T09:31:23.345922Z",
     "shell.execute_reply": "2023-10-17T09:31:23.344128Z"
    },
    "papermill": {
     "duration": 0.465347,
     "end_time": "2023-10-17T09:31:23.348825",
     "exception": false,
     "start_time": "2023-10-17T09:31:22.883478",
     "status": "completed"
    },
    "tags": []
   },
   "outputs": [
    {
     "data": {
      "image/png": "[encoded data removed]",
      "text/plain": [
       "<Figure size 960x720 with 1 Axes>"
      ]
     },
     "metadata": {},
     "output_type": "display_data"
    }
   ],
   "source": [
    "# Look at the correlation between Y and the different variables \n",
    "\n",
    "sns.barplot(aux[[\"Y\"]].sort_values(by = \"Y\", ascending = False).T, orient=\"h\")\n",
    "plt.show()"
   ]
  },
  {
   "cell_type": "markdown",
   "id": "a76d9615",
   "metadata": {
    "papermill": {
     "duration": 0.018298,
     "end_time": "2023-10-17T09:31:23.385852",
     "exception": false,
     "start_time": "2023-10-17T09:31:23.367554",
     "status": "completed"
    },
    "tags": []
   },
   "source": [
    "The strongest correlation between Y (\"Transported\") shows with being in cryoSleep or not."
   ]
  },
  {
   "cell_type": "markdown",
   "id": "bd557405",
   "metadata": {
    "papermill": {
     "duration": 0.018238,
     "end_time": "2023-10-17T09:31:23.422565",
     "exception": false,
     "start_time": "2023-10-17T09:31:23.404327",
     "status": "completed"
    },
    "tags": []
   },
   "source": [
    "## Set up cross-validation data"
   ]
  },
  {
   "cell_type": "code",
   "execution_count": 35,
   "id": "68b79ee8",
   "metadata": {
    "execution": {
     "iopub.execute_input": "2023-10-17T09:31:23.461927Z",
     "iopub.status.busy": "2023-10-17T09:31:23.461267Z",
     "iopub.status.idle": "2023-10-17T09:31:23.466639Z",
     "shell.execute_reply": "2023-10-17T09:31:23.465952Z"
    },
    "papermill": {
     "duration": 0.027122,
     "end_time": "2023-10-17T09:31:23.468375",
     "exception": false,
     "start_time": "2023-10-17T09:31:23.441253",
     "status": "completed"
    },
    "tags": []
   },
   "outputs": [
    {
     "data": {
      "text/plain": [
       "0.5036236051995858"
      ]
     },
     "execution_count": 35,
     "metadata": {},
     "output_type": "execute_result"
    }
   ],
   "source": [
    "# In this dataset, what is the probability of transportation? \n",
    "Y.mean()"
   ]
  },
  {
   "cell_type": "code",
   "execution_count": 36,
   "id": "424cc1df",
   "metadata": {
    "execution": {
     "iopub.execute_input": "2023-10-17T09:31:23.508680Z",
     "iopub.status.busy": "2023-10-17T09:31:23.507436Z",
     "iopub.status.idle": "2023-10-17T09:31:23.520326Z",
     "shell.execute_reply": "2023-10-17T09:31:23.519437Z"
    },
    "papermill": {
     "duration": 0.034858,
     "end_time": "2023-10-17T09:31:23.522317",
     "exception": false,
     "start_time": "2023-10-17T09:31:23.487459",
     "status": "completed"
    },
    "tags": []
   },
   "outputs": [
    {
     "data": {
      "text/plain": [
       "array([[-0.75674966,  0.70943692, -0.15676679, -0.34058987, -0.28731404,\n",
       "        -0.29081703, -0.27666342, -0.26902263, -1.06061696,  1.754795  ,\n",
       "        -0.50366411, -0.51101319, -0.31748665,  0.68531265],\n",
       "       [-0.75674966, -0.33671733, -0.15676679, -0.1753636 , -0.28166908,\n",
       "        -0.24896783,  0.2115053 , -0.23019432,  0.94284745, -0.56986714,\n",
       "        -0.50366411, -0.51101319, -0.31748665,  0.68531265]])"
      ]
     },
     "execution_count": 36,
     "metadata": {},
     "output_type": "execute_result"
    }
   ],
   "source": [
    "# Prepare the variable set, which we will call X\n",
    "# Center and scale X so we can feed it into the models without worrying about unit variance.\n",
    "\n",
    "X = preprocessing.StandardScaler().fit(df_X_num).transform(df_X_num)\n",
    "X[0:2]"
   ]
  },
  {
   "cell_type": "markdown",
   "id": "e7f285f4",
   "metadata": {
    "papermill": {
     "duration": 0.018873,
     "end_time": "2023-10-17T09:31:23.560444",
     "exception": false,
     "start_time": "2023-10-17T09:31:23.541571",
     "status": "completed"
    },
    "tags": []
   },
   "source": [
    "We split the data into training and testing data using the  function  <code>train_test_split</code>. Note that according to the documentation, train_test_split defaults into a shuffled and stratified split, which is the best option for this type of problems when dealing with skewed variables.\n",
    "\n",
    "The training data and test data is assigned to the following labels:\n",
    "\n",
    "<code>X_train, X_test, Y_train, Y_test</code>\n",
    "\n",
    "*Look for a split between train and test that reflects the 0/1 distribution of the total set*\n"
   ]
  },
  {
   "cell_type": "code",
   "execution_count": 37,
   "id": "bdf7947e",
   "metadata": {
    "execution": {
     "iopub.execute_input": "2023-10-17T09:31:23.600963Z",
     "iopub.status.busy": "2023-10-17T09:31:23.600096Z",
     "iopub.status.idle": "2023-10-17T09:31:24.017933Z",
     "shell.execute_reply": "2023-10-17T09:31:24.016985Z"
    },
    "papermill": {
     "duration": 0.440204,
     "end_time": "2023-10-17T09:31:24.019855",
     "exception": false,
     "start_time": "2023-10-17T09:31:23.579651",
     "status": "completed"
    },
    "tags": []
   },
   "outputs": [
    {
     "data": {
      "image/png": "[encoded data removed]",
      "text/plain": [
       "<Figure size 960x720 with 1 Axes>"
      ]
     },
     "metadata": {},
     "output_type": "display_data"
    }
   ],
   "source": [
    "# Run the split parameter across values to see how the average Y behaves\n",
    "\n",
    "aux = []\n",
    "yy = Y.mean()\n",
    "rand_st = 1\n",
    "\n",
    "for i in np.arange(0.1, 0.9, 0.05):\n",
    "    X_train, X_test, Y_train, Y_test = train_test_split(X, Y, test_size=i, random_state=rand_st)\n",
    "    aux = aux + [[i, Y_train.mean()/yy, Y_test.mean()/yy]]\n",
    "df_aux = pd.DataFrame(aux, columns=[\"split\",\"train\",\"test\"])\n",
    "sns.lineplot(x='split', y='value', hue='variable', data=pd.melt(df_aux, ['split']))\n",
    "plt.show()"
   ]
  },
  {
   "cell_type": "markdown",
   "id": "d535154f",
   "metadata": {
    "papermill": {
     "duration": 0.020184,
     "end_time": "2023-10-17T09:31:24.061636",
     "exception": false,
     "start_time": "2023-10-17T09:31:24.041452",
     "status": "completed"
    },
    "tags": []
   },
   "source": [
    "**The conclusion from the graph above**\n",
    "\n",
    "By using a deterministic random state, we can look for a split value that brings the average Y in the train and test sets as close to average y across the complete dataset. In this way, the risk that we train the data on an artificially skewed set is minimized."
   ]
  },
  {
   "cell_type": "code",
   "execution_count": 38,
   "id": "48ddc72e",
   "metadata": {
    "execution": {
     "iopub.execute_input": "2023-10-17T09:31:24.103982Z",
     "iopub.status.busy": "2023-10-17T09:31:24.103582Z",
     "iopub.status.idle": "2023-10-17T09:31:24.111895Z",
     "shell.execute_reply": "2023-10-17T09:31:24.110668Z"
    },
    "papermill": {
     "duration": 0.03207,
     "end_time": "2023-10-17T09:31:24.113972",
     "exception": false,
     "start_time": "2023-10-17T09:31:24.081902",
     "status": "completed"
    },
    "tags": []
   },
   "outputs": [
    {
     "name": "stdout",
     "output_type": "stream",
     "text": [
      "Train set: (5911, 14) (5911,)\n",
      "Test set: (2782, 14) (2782,)\n",
      "0.5036236051995858\n",
      "0.5044831669768228\n",
      "0.5017972681524083\n"
     ]
    }
   ],
   "source": [
    "# Here we split train/test, use as global variables when calling functions\n",
    "\n",
    "# Note that according to the documentation, train_test_split defaults into a shuffled and stratified split\n",
    "# which is the best option for this type of problems when dealing with skewed variables.\n",
    "X_train, X_test, Y_train, Y_test = train_test_split(X, Y, test_size=0.32, random_state=rand_st)\n",
    "print ('Train set:', X_train.shape,  Y_train.shape)\n",
    "print ('Test set:', X_test.shape,  Y_test.shape)\n",
    "print(Y.mean())\n",
    "print(Y_train.mean())\n",
    "print(Y_test.mean())"
   ]
  },
  {
   "cell_type": "markdown",
   "id": "b7077715",
   "metadata": {
    "papermill": {
     "duration": 0.019965,
     "end_time": "2023-10-17T09:31:24.154843",
     "exception": false,
     "start_time": "2023-10-17T09:31:24.134878",
     "status": "completed"
    },
    "tags": [],
    "toc-hr-collapsed": true
   },
   "source": [
    "## Modelling"
   ]
  },
  {
   "cell_type": "code",
   "execution_count": 39,
   "id": "7d5028b2",
   "metadata": {
    "execution": {
     "iopub.execute_input": "2023-10-17T09:31:24.204663Z",
     "iopub.status.busy": "2023-10-17T09:31:24.204165Z",
     "iopub.status.idle": "2023-10-17T09:31:24.211900Z",
     "shell.execute_reply": "2023-10-17T09:31:24.210428Z"
    },
    "papermill": {
     "duration": 0.039711,
     "end_time": "2023-10-17T09:31:24.214493",
     "exception": false,
     "start_time": "2023-10-17T09:31:24.174782",
     "status": "completed"
    },
    "tags": []
   },
   "outputs": [],
   "source": [
    "# Define a function that we will use to fit the models to the data\n",
    "\n",
    "def fitting(model, params):\n",
    "    model_cv = GridSearchCV(model, params, cv = 10, verbose = 1)\n",
    "    model_cv.fit(X_train, Y_train)\n",
    "    print(\"Tuned hyperparameters :(best parameters) \",model_cv.best_params_)\n",
    "    print(\"Best score :\",model_cv.best_score_) # note that this is what is used to measure success in this Kaggle competition\n",
    "    return(model_cv)"
   ]
  },
  {
   "cell_type": "code",
   "execution_count": 40,
   "id": "12c544a7",
   "metadata": {
    "execution": {
     "iopub.execute_input": "2023-10-17T09:31:24.267110Z",
     "iopub.status.busy": "2023-10-17T09:31:24.266171Z",
     "iopub.status.idle": "2023-10-17T09:31:24.270899Z",
     "shell.execute_reply": "2023-10-17T09:31:24.269946Z"
    },
    "papermill": {
     "duration": 0.034589,
     "end_time": "2023-10-17T09:31:24.272746",
     "exception": false,
     "start_time": "2023-10-17T09:31:24.238157",
     "status": "completed"
    },
    "tags": []
   },
   "outputs": [],
   "source": [
    "# Get a list ready to save scores\n",
    "\n",
    "score_list = [[\"Model\", \"Score\", \"F1\", \"AUC\"]]"
   ]
  },
  {
   "cell_type": "markdown",
   "id": "7c9f5b54",
   "metadata": {
    "papermill": {
     "duration": 0.027451,
     "end_time": "2023-10-17T09:31:24.321245",
     "exception": false,
     "start_time": "2023-10-17T09:31:24.293794",
     "status": "completed"
    },
    "tags": []
   },
   "source": [
    "### Logistic Regression"
   ]
  },
  {
   "cell_type": "code",
   "execution_count": 41,
   "id": "8d7f94b0",
   "metadata": {
    "execution": {
     "iopub.execute_input": "2023-10-17T09:31:24.372199Z",
     "iopub.status.busy": "2023-10-17T09:31:24.370953Z",
     "iopub.status.idle": "2023-10-17T09:31:25.561774Z",
     "shell.execute_reply": "2023-10-17T09:31:25.560413Z"
    },
    "papermill": {
     "duration": 1.224284,
     "end_time": "2023-10-17T09:31:25.566264",
     "exception": false,
     "start_time": "2023-10-17T09:31:24.341980",
     "status": "completed"
    },
    "tags": []
   },
   "outputs": [
    {
     "name": "stdout",
     "output_type": "stream",
     "text": [
      "Fitting 10 folds for each of 3 candidates, totalling 30 fits\n",
      "Tuned hyperparameters :(best parameters)  {'C': 0.05, 'penalty': 'l2', 'solver': 'lbfgs'}\n",
      "Best score : 0.7792244020670417\n"
     ]
    }
   ],
   "source": [
    "lr = LogisticRegression()\n",
    "parameters ={\"C\":[0.05,1.0,1.5],'penalty':[\"l2\"], 'solver':['lbfgs']} # l1 lasso l2 ridge\n",
    "\n",
    "logreg_cv = fitting(lr, parameters)"
   ]
  },
  {
   "cell_type": "markdown",
   "id": "ff1176d0",
   "metadata": {
    "papermill": {
     "duration": 0.056425,
     "end_time": "2023-10-17T09:31:25.679875",
     "exception": false,
     "start_time": "2023-10-17T09:31:25.623450",
     "status": "completed"
    },
    "tags": []
   },
   "source": [
    "Calculate the accuracy on the test data using the method <code>score</code>:\n"
   ]
  },
  {
   "cell_type": "code",
   "execution_count": 42,
   "id": "502af247",
   "metadata": {
    "execution": {
     "iopub.execute_input": "2023-10-17T09:31:25.723405Z",
     "iopub.status.busy": "2023-10-17T09:31:25.723044Z",
     "iopub.status.idle": "2023-10-17T09:31:26.144658Z",
     "shell.execute_reply": "2023-10-17T09:31:26.143579Z"
    },
    "papermill": {
     "duration": 0.446706,
     "end_time": "2023-10-17T09:31:26.147999",
     "exception": false,
     "start_time": "2023-10-17T09:31:25.701293",
     "status": "completed"
    },
    "tags": []
   },
   "outputs": [
    {
     "data": {
      "image/png": "[encoded data removed]",
      "text/plain": [
       "<Figure size 960x720 with 2 Axes>"
      ]
     },
     "metadata": {},
     "output_type": "display_data"
    },
    {
     "name": "stdout",
     "output_type": "stream",
     "text": [
      "score =  0.7875629043853343   F1 =  0.7865655471289275 AUC =  0.787589877489591\n"
     ]
    }
   ],
   "source": [
    "# Store the score\n",
    "scr, F1, auc = overw(X_test, Y_test, logreg_cv.predict(X_test), logreg_cv)\n",
    "score_list = score_list + [[\"LR\", scr, F1, auc]]\n",
    "print(\"score = \", scr, \"  F1 = \", F1, \"AUC = \", auc)"
   ]
  },
  {
   "cell_type": "markdown",
   "id": "06d6fd58",
   "metadata": {
    "papermill": {
     "duration": 0.049357,
     "end_time": "2023-10-17T09:31:26.257045",
     "exception": false,
     "start_time": "2023-10-17T09:31:26.207688",
     "status": "completed"
    },
    "tags": []
   },
   "source": [
    "### Random Forest"
   ]
  },
  {
   "cell_type": "code",
   "execution_count": 43,
   "id": "90470f5c",
   "metadata": {
    "execution": {
     "iopub.execute_input": "2023-10-17T09:31:26.302534Z",
     "iopub.status.busy": "2023-10-17T09:31:26.302157Z",
     "iopub.status.idle": "2023-10-17T09:31:31.897758Z",
     "shell.execute_reply": "2023-10-17T09:31:31.896417Z"
    },
    "papermill": {
     "duration": 5.620413,
     "end_time": "2023-10-17T09:31:31.900020",
     "exception": false,
     "start_time": "2023-10-17T09:31:26.279607",
     "status": "completed"
    },
    "tags": []
   },
   "outputs": [
    {
     "name": "stdout",
     "output_type": "stream",
     "text": [
      "Fitting 10 folds for each of 1 candidates, totalling 10 fits\n",
      "Tuned hyperparameters :(best parameters)  {}\n",
      "Best score : 0.7785492980289935\n"
     ]
    }
   ],
   "source": [
    "rf = ensemble.RandomForestClassifier(n_jobs = -1)\n",
    "parameters ={} # l1 lasso l2 ridge\n",
    "\n",
    "rf_cv = fitting(rf, parameters)"
   ]
  },
  {
   "cell_type": "code",
   "execution_count": 44,
   "id": "bbefed0c",
   "metadata": {
    "execution": {
     "iopub.execute_input": "2023-10-17T09:31:31.944825Z",
     "iopub.status.busy": "2023-10-17T09:31:31.944068Z",
     "iopub.status.idle": "2023-10-17T09:31:32.425465Z",
     "shell.execute_reply": "2023-10-17T09:31:32.424349Z"
    },
    "papermill": {
     "duration": 0.505788,
     "end_time": "2023-10-17T09:31:32.427688",
     "exception": false,
     "start_time": "2023-10-17T09:31:31.921900",
     "status": "completed"
    },
    "tags": []
   },
   "outputs": [
    {
     "data": {
      "image/png": "[encoded data removed]",
      "text/plain": [
       "<Figure size 960x720 with 2 Axes>"
      ]
     },
     "metadata": {},
     "output_type": "display_data"
    },
    {
     "name": "stdout",
     "output_type": "stream",
     "text": [
      "score =  0.7854061826024443   F1 =  0.7840867992766728 AUC =  0.7854382961832819\n"
     ]
    }
   ],
   "source": [
    "# Store the score\n",
    "scr, F1, auc = overw(X_test, Y_test, rf_cv.predict(X_test), rf_cv)\n",
    "score_list = score_list + [[\"RF\", scr, F1, auc]]\n",
    "print(\"score = \", scr, \"  F1 = \", F1, \"AUC = \", auc)"
   ]
  },
  {
   "cell_type": "markdown",
   "id": "83b3ac64",
   "metadata": {
    "papermill": {
     "duration": 0.022334,
     "end_time": "2023-10-17T09:31:32.471590",
     "exception": false,
     "start_time": "2023-10-17T09:31:32.449256",
     "status": "completed"
    },
    "tags": []
   },
   "source": [
    "### XGBoost"
   ]
  },
  {
   "cell_type": "code",
   "execution_count": 45,
   "id": "c8801076",
   "metadata": {
    "execution": {
     "iopub.execute_input": "2023-10-17T09:31:32.518163Z",
     "iopub.status.busy": "2023-10-17T09:31:32.517213Z",
     "iopub.status.idle": "2023-10-17T09:31:52.072282Z",
     "shell.execute_reply": "2023-10-17T09:31:52.071278Z"
    },
    "papermill": {
     "duration": 19.580872,
     "end_time": "2023-10-17T09:31:52.074541",
     "exception": false,
     "start_time": "2023-10-17T09:31:32.493669",
     "status": "completed"
    },
    "tags": []
   },
   "outputs": [
    {
     "name": "stdout",
     "output_type": "stream",
     "text": [
      "Fitting 10 folds for each of 1 candidates, totalling 10 fits\n",
      "Tuned hyperparameters :(best parameters)  {'booster': 'dart', 'learning_rate': 0.05, 'max_depth': 10, 'n_estimators': 100, 'objective': 'binary:logistic', 'random_state': 0}\n",
      "Best score : 0.7849787922440208\n"
     ]
    }
   ],
   "source": [
    "xgb = XGBClassifier()\n",
    "parameters ={\"random_state\":[0],\"objective\":[\"binary:logistic\"], \"n_estimators\":[100], \"booster\":[\"dart\"], \"learning_rate\":[0.05],\n",
    "            \"max_depth\":[10]}\n",
    "\n",
    "xgb_cv = fitting(xgb, parameters)"
   ]
  },
  {
   "cell_type": "code",
   "execution_count": 46,
   "id": "c916dc9b",
   "metadata": {
    "execution": {
     "iopub.execute_input": "2023-10-17T09:31:52.122818Z",
     "iopub.status.busy": "2023-10-17T09:31:52.122476Z",
     "iopub.status.idle": "2023-10-17T09:31:52.525607Z",
     "shell.execute_reply": "2023-10-17T09:31:52.524690Z"
    },
    "papermill": {
     "duration": 0.429005,
     "end_time": "2023-10-17T09:31:52.528105",
     "exception": false,
     "start_time": "2023-10-17T09:31:52.099100",
     "status": "completed"
    },
    "tags": []
   },
   "outputs": [
    {
     "data": {
      "image/png": "[encoded data removed]",
      "text/plain": [
       "<Figure size 960x720 with 2 Axes>"
      ]
     },
     "metadata": {},
     "output_type": "display_data"
    },
    {
     "name": "stdout",
     "output_type": "stream",
     "text": [
      "score =  0.7951114306254493   F1 =  0.7991543340380549 AUC =  0.795049347341611\n"
     ]
    }
   ],
   "source": [
    "# Store the score\n",
    "scr, F1, auc = overw(X_test, Y_test, xgb_cv.predict(X_test), xgb_cv)\n",
    "score_list = score_list + [[\"XGB\", scr, F1, auc]]\n",
    "print(\"score = \", scr, \"  F1 = \", F1, \"AUC = \", auc)"
   ]
  },
  {
   "cell_type": "markdown",
   "id": "03b7982e",
   "metadata": {
    "papermill": {
     "duration": 0.023151,
     "end_time": "2023-10-17T09:31:52.576141",
     "exception": false,
     "start_time": "2023-10-17T09:31:52.552990",
     "status": "completed"
    },
    "tags": []
   },
   "source": [
    "### Compare the models\n"
   ]
  },
  {
   "cell_type": "code",
   "execution_count": 47,
   "id": "8ece3d3e",
   "metadata": {
    "execution": {
     "iopub.execute_input": "2023-10-17T09:31:52.624793Z",
     "iopub.status.busy": "2023-10-17T09:31:52.623881Z",
     "iopub.status.idle": "2023-10-17T09:31:52.636141Z",
     "shell.execute_reply": "2023-10-17T09:31:52.635251Z"
    },
    "papermill": {
     "duration": 0.038932,
     "end_time": "2023-10-17T09:31:52.638067",
     "exception": false,
     "start_time": "2023-10-17T09:31:52.599135",
     "status": "completed"
    },
    "scrolled": true,
    "tags": []
   },
   "outputs": [
    {
     "data": {
      "text/html": [
       "<div>\n",
       "<style scoped>\n",
       "    .dataframe tbody tr th:only-of-type {\n",
       "        vertical-align: middle;\n",
       "    }\n",
       "\n",
       "    .dataframe tbody tr th {\n",
       "        vertical-align: top;\n",
       "    }\n",
       "\n",
       "    .dataframe thead th {\n",
       "        text-align: right;\n",
       "    }\n",
       "</style>\n",
       "<table border=\"1\" class=\"dataframe\">\n",
       "  <thead>\n",
       "    <tr style=\"text-align: right;\">\n",
       "      <th></th>\n",
       "      <th>Model</th>\n",
       "      <th>Score</th>\n",
       "      <th>F1</th>\n",
       "      <th>AUC</th>\n",
       "    </tr>\n",
       "  </thead>\n",
       "  <tbody>\n",
       "    <tr>\n",
       "      <th>0</th>\n",
       "      <td>LR</td>\n",
       "      <td>0.787563</td>\n",
       "      <td>0.786566</td>\n",
       "      <td>0.787590</td>\n",
       "    </tr>\n",
       "    <tr>\n",
       "      <th>1</th>\n",
       "      <td>RF</td>\n",
       "      <td>0.785406</td>\n",
       "      <td>0.784087</td>\n",
       "      <td>0.785438</td>\n",
       "    </tr>\n",
       "    <tr>\n",
       "      <th>2</th>\n",
       "      <td>XGB</td>\n",
       "      <td>0.795111</td>\n",
       "      <td>0.799154</td>\n",
       "      <td>0.795049</td>\n",
       "    </tr>\n",
       "  </tbody>\n",
       "</table>\n",
       "</div>"
      ],
      "text/plain": [
       "  Model     Score        F1       AUC\n",
       "0    LR  0.787563  0.786566  0.787590\n",
       "1    RF  0.785406  0.784087  0.785438\n",
       "2   XGB  0.795111  0.799154  0.795049"
      ]
     },
     "execution_count": 47,
     "metadata": {},
     "output_type": "execute_result"
    }
   ],
   "source": [
    "Report = pd.DataFrame(score_list[1:], columns = score_list[0])\n",
    "Report"
   ]
  },
  {
   "cell_type": "code",
   "execution_count": 48,
   "id": "bc03ae2d",
   "metadata": {
    "execution": {
     "iopub.execute_input": "2023-10-17T09:31:52.686201Z",
     "iopub.status.busy": "2023-10-17T09:31:52.684886Z",
     "iopub.status.idle": "2023-10-17T09:31:53.182942Z",
     "shell.execute_reply": "2023-10-17T09:31:53.181830Z"
    },
    "papermill": {
     "duration": 0.524466,
     "end_time": "2023-10-17T09:31:53.185085",
     "exception": false,
     "start_time": "2023-10-17T09:31:52.660619",
     "status": "completed"
    },
    "tags": []
   },
   "outputs": [
    {
     "data": {
      "image/png": "[encoded data removed]",
      "text/plain": [
       "<Figure size 1200x450 with 2 Axes>"
      ]
     },
     "metadata": {},
     "output_type": "display_data"
    }
   ],
   "source": [
    "fig, axa = plt.subplots(ncols = 2, figsize = (8,3), sharey = True)\n",
    "fig.tight_layout(pad=2.0)\n",
    "\n",
    "sns.barplot(data=Report, x=\"Model\", y=\"F1\", ax = axa[1])\n",
    "\n",
    "sns.barplot(data=Report, x=\"Model\", y=\"Score\", ax = axa[0])\n",
    "\n",
    "axa[0].set_ylim(0.5, 1)\n",
    "\n",
    "plt.show()"
   ]
  },
  {
   "cell_type": "markdown",
   "id": "2291a7fc",
   "metadata": {
    "papermill": {
     "duration": 0.024246,
     "end_time": "2023-10-17T09:31:53.233721",
     "exception": false,
     "start_time": "2023-10-17T09:31:53.209475",
     "status": "completed"
    },
    "tags": [],
    "toc-hr-collapsed": true
   },
   "source": [
    "## Prediction"
   ]
  },
  {
   "cell_type": "code",
   "execution_count": 49,
   "id": "13a9eb91",
   "metadata": {
    "execution": {
     "iopub.execute_input": "2023-10-17T09:31:53.283072Z",
     "iopub.status.busy": "2023-10-17T09:31:53.282671Z",
     "iopub.status.idle": "2023-10-17T09:31:53.294935Z",
     "shell.execute_reply": "2023-10-17T09:31:53.293512Z"
    },
    "papermill": {
     "duration": 0.03891,
     "end_time": "2023-10-17T09:31:53.297104",
     "exception": false,
     "start_time": "2023-10-17T09:31:53.258194",
     "status": "completed"
    },
    "tags": []
   },
   "outputs": [
    {
     "data": {
      "text/plain": [
       "array([[ 1.32206285, -0.11822162, -0.13566529, -0.36477954, -0.29135159,\n",
       "        -0.31985918, -0.27455773, -0.25156055,  0.94338172, -0.55313127,\n",
       "        -0.52531386, -0.49473362, -0.31586164,  0.66849659],\n",
       "       [-0.77320646, -0.68860136, -0.13566529, -0.36477954, -0.28538513,\n",
       "        -0.31985918,  2.28300781, -0.25156055,  0.94338172, -0.55313127,\n",
       "        -0.52531386, -0.49473362, -0.31586164,  0.66849659]])"
      ]
     },
     "execution_count": 49,
     "metadata": {},
     "output_type": "execute_result"
    }
   ],
   "source": [
    "# Like we did before: center and scale it so we can feed it into the models without worrying about unit variance.\n",
    "X_p = preprocessing.StandardScaler().fit(df_X_pred_num).transform(df_X_pred_num)\n",
    "X_p[0:2]"
   ]
  },
  {
   "cell_type": "code",
   "execution_count": 50,
   "id": "0083485b",
   "metadata": {
    "execution": {
     "iopub.execute_input": "2023-10-17T09:31:53.346811Z",
     "iopub.status.busy": "2023-10-17T09:31:53.345789Z",
     "iopub.status.idle": "2023-10-17T09:31:53.352647Z",
     "shell.execute_reply": "2023-10-17T09:31:53.351608Z"
    },
    "papermill": {
     "duration": 0.033762,
     "end_time": "2023-10-17T09:31:53.354810",
     "exception": false,
     "start_time": "2023-10-17T09:31:53.321048",
     "status": "completed"
    },
    "tags": []
   },
   "outputs": [
    {
     "data": {
      "text/plain": [
       "4277"
      ]
     },
     "execution_count": 50,
     "metadata": {},
     "output_type": "execute_result"
    }
   ],
   "source": [
    "len(X_p)"
   ]
  },
  {
   "cell_type": "markdown",
   "id": "70568a73",
   "metadata": {
    "papermill": {
     "duration": 0.024014,
     "end_time": "2023-10-17T09:31:53.403276",
     "exception": false,
     "start_time": "2023-10-17T09:31:53.379262",
     "status": "completed"
    },
    "tags": []
   },
   "source": [
    "### Predictions from the models"
   ]
  },
  {
   "cell_type": "code",
   "execution_count": 51,
   "id": "ae3c6799",
   "metadata": {
    "execution": {
     "iopub.execute_input": "2023-10-17T09:31:53.451711Z",
     "iopub.status.busy": "2023-10-17T09:31:53.451053Z",
     "iopub.status.idle": "2023-10-17T09:31:53.456465Z",
     "shell.execute_reply": "2023-10-17T09:31:53.455626Z"
    },
    "papermill": {
     "duration": 0.031853,
     "end_time": "2023-10-17T09:31:53.458516",
     "exception": false,
     "start_time": "2023-10-17T09:31:53.426663",
     "status": "completed"
    },
    "tags": []
   },
   "outputs": [],
   "source": [
    "# survey a model, get its prediction ready to save for upload\n",
    "def pred(mod, data_p, X_p):\n",
    "    Y_p = mod.predict(X_p)\n",
    "    # prepare the DF with the predictions\n",
    "    subm = pd.concat([pd.DataFrame(data_p, columns=[\"PassengerId\"]), pd.DataFrame({'Transported': Y_p})], axis=1)\n",
    "    print(\"Transported rates:\")\n",
    "    print(\"Total ensemble = \", Y.mean())\n",
    "    print(\"Train = \", Y_train.mean())\n",
    "    print(\"Test = \", Y_test.mean())\n",
    "    print(\"Prediction = \", Y_p.mean())\n",
    "    return(subm)"
   ]
  },
  {
   "cell_type": "code",
   "execution_count": 52,
   "id": "15bcd4c4",
   "metadata": {
    "execution": {
     "iopub.execute_input": "2023-10-17T09:31:53.506632Z",
     "iopub.status.busy": "2023-10-17T09:31:53.505877Z",
     "iopub.status.idle": "2023-10-17T09:31:53.517854Z",
     "shell.execute_reply": "2023-10-17T09:31:53.516313Z"
    },
    "papermill": {
     "duration": 0.0399,
     "end_time": "2023-10-17T09:31:53.521365",
     "exception": false,
     "start_time": "2023-10-17T09:31:53.481465",
     "status": "completed"
    },
    "tags": []
   },
   "outputs": [
    {
     "name": "stdout",
     "output_type": "stream",
     "text": [
      "Transported rates:\n",
      "Total ensemble =  0.5036236051995858\n",
      "Train =  0.5044831669768228\n",
      "Test =  0.5017972681524083\n",
      "Prediction =  0.4956745382277297\n"
     ]
    }
   ],
   "source": [
    "sub_LR = pred(logreg_cv, data_pred, X_p)"
   ]
  },
  {
   "cell_type": "code",
   "execution_count": 53,
   "id": "fefe0b2e",
   "metadata": {
    "execution": {
     "iopub.execute_input": "2023-10-17T09:31:53.642430Z",
     "iopub.status.busy": "2023-10-17T09:31:53.642088Z",
     "iopub.status.idle": "2023-10-17T09:31:53.718132Z",
     "shell.execute_reply": "2023-10-17T09:31:53.716985Z"
    },
    "papermill": {
     "duration": 0.133564,
     "end_time": "2023-10-17T09:31:53.720341",
     "exception": false,
     "start_time": "2023-10-17T09:31:53.586777",
     "status": "completed"
    },
    "tags": []
   },
   "outputs": [
    {
     "name": "stdout",
     "output_type": "stream",
     "text": [
      "Transported rates:\n",
      "Total ensemble =  0.5036236051995858\n",
      "Train =  0.5044831669768228\n",
      "Test =  0.5017972681524083\n",
      "Prediction =  0.48117839607201307\n"
     ]
    }
   ],
   "source": [
    "sub_RF = pred(rf_cv, data_pred, X_p)"
   ]
  },
  {
   "cell_type": "code",
   "execution_count": 54,
   "id": "b007f266",
   "metadata": {
    "execution": {
     "iopub.execute_input": "2023-10-17T09:31:53.772807Z",
     "iopub.status.busy": "2023-10-17T09:31:53.771608Z",
     "iopub.status.idle": "2023-10-17T09:31:53.818409Z",
     "shell.execute_reply": "2023-10-17T09:31:53.817646Z"
    },
    "papermill": {
     "duration": 0.07573,
     "end_time": "2023-10-17T09:31:53.820934",
     "exception": false,
     "start_time": "2023-10-17T09:31:53.745204",
     "status": "completed"
    },
    "tags": []
   },
   "outputs": [
    {
     "name": "stdout",
     "output_type": "stream",
     "text": [
      "Transported rates:\n",
      "Total ensemble =  0.5036236051995858\n",
      "Train =  0.5044831669768228\n",
      "Test =  0.5017972681524083\n",
      "Prediction =  0.508534019172317\n"
     ]
    }
   ],
   "source": [
    "sub_XGB = pred(xgb_cv, data_pred, X_p)"
   ]
  },
  {
   "cell_type": "code",
   "execution_count": 55,
   "id": "e499d837",
   "metadata": {
    "execution": {
     "iopub.execute_input": "2023-10-17T09:31:53.873477Z",
     "iopub.status.busy": "2023-10-17T09:31:53.873145Z",
     "iopub.status.idle": "2023-10-17T09:31:53.889422Z",
     "shell.execute_reply": "2023-10-17T09:31:53.888531Z"
    },
    "papermill": {
     "duration": 0.044756,
     "end_time": "2023-10-17T09:31:53.892461",
     "exception": false,
     "start_time": "2023-10-17T09:31:53.847705",
     "status": "completed"
    },
    "tags": []
   },
   "outputs": [],
   "source": [
    "# choose a model to generate a submission\n",
    "\n",
    "subm = sub_XGB  # model\n",
    "\n",
    "# NB: chose XGB because overall showed a better performance, and the average predicted variable has\n",
    "# the closest value to the original train/test set\n",
    "\n",
    "\n",
    "subm.replace(to_replace = {1: True, 0: False}, inplace = True) # make sure 0 and 1 are now False and True\n",
    "number = \"XGB_2\" # number of the this \"trial\", e.g. 20\n",
    "\n",
    "subm.to_csv(f\"submission_{number}.csv\", header = True, index = False)"
   ]
  },
  {
   "cell_type": "markdown",
   "id": "e47df662",
   "metadata": {
    "papermill": {
     "duration": 0.023921,
     "end_time": "2023-10-17T09:31:53.941007",
     "exception": false,
     "start_time": "2023-10-17T09:31:53.917086",
     "status": "completed"
    },
    "tags": []
   },
   "source": [
    "### Keeping note of the submissions"
   ]
  },
  {
   "cell_type": "code",
   "execution_count": 56,
   "id": "d3f9af34",
   "metadata": {
    "execution": {
     "iopub.execute_input": "2023-10-17T09:31:53.992504Z",
     "iopub.status.busy": "2023-10-17T09:31:53.991598Z",
     "iopub.status.idle": "2023-10-17T09:31:53.996526Z",
     "shell.execute_reply": "2023-10-17T09:31:53.995573Z"
    },
    "papermill": {
     "duration": 0.033302,
     "end_time": "2023-10-17T09:31:53.998519",
     "exception": false,
     "start_time": "2023-10-17T09:31:53.965217",
     "status": "completed"
    },
    "tags": []
   },
   "outputs": [],
   "source": [
    "sub_results = [[1, 0.78723], [2, 0.78723], [3, 0.78723],\n",
    "               [4, 0.7746],  [5, 0.78746], [6, 0.78302],\n",
    "               [7, 0.78302], [8, 0.78302], [9, 0.69207],\n",
    "               [\"XGB_2\", 0.78185]\n",
    "              ]"
   ]
  },
  {
   "cell_type": "code",
   "execution_count": 57,
   "id": "7886efb3",
   "metadata": {
    "execution": {
     "iopub.execute_input": "2023-10-17T09:31:54.051932Z",
     "iopub.status.busy": "2023-10-17T09:31:54.051338Z",
     "iopub.status.idle": "2023-10-17T09:31:54.394871Z",
     "shell.execute_reply": "2023-10-17T09:31:54.393724Z"
    },
    "papermill": {
     "duration": 0.374478,
     "end_time": "2023-10-17T09:31:54.399959",
     "exception": false,
     "start_time": "2023-10-17T09:31:54.025481",
     "status": "completed"
    },
    "tags": []
   },
   "outputs": [
    {
     "data": {
      "image/png": "[encoded data removed]",
      "text/plain": [
       "<Figure size 960x720 with 1 Axes>"
      ]
     },
     "metadata": {},
     "output_type": "display_data"
    }
   ],
   "source": [
    "aux = pd.DataFrame(sub_results, columns=[\"sub\",\"result\"])\n",
    "sns.lineplot(aux)\n",
    "plt.show()"
   ]
  },
  {
   "cell_type": "markdown",
   "id": "d4ac5447",
   "metadata": {
    "papermill": {
     "duration": 0.024725,
     "end_time": "2023-10-17T09:31:54.452399",
     "exception": false,
     "start_time": "2023-10-17T09:31:54.427674",
     "status": "completed"
    },
    "tags": []
   },
   "source": [
    "1: Basic set up\n",
    "- 80/20 split, random state 2\n",
    "- All variables except cabin\n",
    "- Results from LR"
   ]
  },
  {
   "cell_type": "markdown",
   "id": "b2d80d81",
   "metadata": {
    "papermill": {
     "duration": 0.025192,
     "end_time": "2023-10-17T09:31:54.502212",
     "exception": false,
     "start_time": "2023-10-17T09:31:54.477020",
     "status": "completed"
    },
    "tags": []
   },
   "source": [
    "2: and 3: Ignore, no changes just uploading, etc."
   ]
  },
  {
   "cell_type": "markdown",
   "id": "14b75a31",
   "metadata": {
    "papermill": {
     "duration": 0.026199,
     "end_time": "2023-10-17T09:31:54.555799",
     "exception": false,
     "start_time": "2023-10-17T09:31:54.529600",
     "status": "completed"
    },
    "tags": []
   },
   "source": [
    "4: Focused on the few variables that have an ABS(correlation) above 0.2 with Y"
   ]
  },
  {
   "cell_type": "markdown",
   "id": "5a3a50df",
   "metadata": {
    "papermill": {
     "duration": 0.026034,
     "end_time": "2023-10-17T09:31:54.609111",
     "exception": false,
     "start_time": "2023-10-17T09:31:54.583077",
     "status": "completed"
    },
    "tags": []
   },
   "source": [
    "5: XGB\n",
    "- 80/20 split, random state 2\n",
    "- All variables except cabin\n",
    "- Results from XGB"
   ]
  },
  {
   "cell_type": "markdown",
   "id": "3f644493",
   "metadata": {
    "papermill": {
     "duration": 0.025483,
     "end_time": "2023-10-17T09:31:54.660878",
     "exception": false,
     "start_time": "2023-10-17T09:31:54.635395",
     "status": "completed"
    },
    "tags": []
   },
   "source": [
    "6, 7, 8: XGB, playing around with its tuning."
   ]
  },
  {
   "cell_type": "markdown",
   "id": "99e7a94d",
   "metadata": {
    "papermill": {
     "duration": 0.023624,
     "end_time": "2023-10-17T09:31:54.710476",
     "exception": false,
     "start_time": "2023-10-17T09:31:54.686852",
     "status": "completed"
    },
    "tags": []
   },
   "source": [
    "9: \"amenities\" test, as commented in Kaggle"
   ]
  },
  {
   "cell_type": "markdown",
   "id": "97a28502",
   "metadata": {
    "papermill": {
     "duration": 0.02427,
     "end_time": "2023-10-17T09:31:54.758664",
     "exception": false,
     "start_time": "2023-10-17T09:31:54.734394",
     "status": "completed"
    },
    "tags": []
   },
   "source": [
    "XGB_2: paid more attention on train/test and focused on having the mean Y of the prediction the closest to mean Y of the train/test dataset\n",
    "- 0.32 split, random state 1\n",
    "- All variables except cabin\n",
    "- Results from XGB"
   ]
  }
 ],
 "metadata": {
  "kernelspec": {
   "display_name": "Python 3",
   "language": "python",
   "name": "python3"
  },
  "language_info": {
   "codemirror_mode": {
    "name": "ipython",
    "version": 3
   },
   "file_extension": ".py",
   "mimetype": "text/x-python",
   "name": "python",
   "nbconvert_exporter": "python",
   "pygments_lexer": "ipython3",
   "version": "3.10.12"
  },
  "papermill": {
   "default_parameters": {},
   "duration": 41.108336,
   "end_time": "2023-10-17T09:31:55.404634",
   "environment_variables": {},
   "exception": null,
   "input_path": "__notebook__.ipynb",
   "output_path": "__notebook__.ipynb",
   "parameters": {},
   "start_time": "2023-10-17T09:31:14.296298",
   "version": "2.4.0"
  }
 },
 "nbformat": 4,
 "nbformat_minor": 5
}
