{
 "cells": [
  {
   "cell_type": "markdown",
   "metadata": {},
   "source": [
    "# Trial Report\n",
    "\n",
    "Pears plantation, Spain, 2019-2022\n",
    "\n",
    "Analysis by Andre Moreira (2023-24)\n",
    "\n",
    "***"
   ]
  },
  {
   "cell_type": "markdown",
   "metadata": {},
   "source": [
    "## Introduction\n",
    "\n",
    "Trial in Spain, following the tree development in a pear orchard. Some trees were treated with a special new product, others treated with a common product (\"control\").\n",
    "\n",
    "The orchard was planted in 2019, we measured the tree trunks in 2022, using it as an accepted proxy for tree development and health."
   ]
  },
  {
   "cell_type": "markdown",
   "metadata": {},
   "source": [
    "| | |\n",
    "|-|-|\n",
    "| Campaign | 2019-2023 |\n",
    "| Crop | Pears |\n",
    "| Variety | Ercolini (ER), Carmen (CA), Limonera (LI) |\n",
    "| Planting date | March 2019 |\n",
    "| Trunk measurements date | Fall 2022 |\n",
    "| Total area | 9 ha |\n",
    "| Number of trees measured | 936 |\n",
    "| -|- |\n",
    "| Treatment | Application rate |\n",
    "| New product | 2 ton/ha |\n",
    "| Control | 2 ton/ha |"
   ]
  },
  {
   "cell_type": "markdown",
   "metadata": {},
   "source": [
    "<table style=\"margin-left: 0; margin-right: auto;\">\n",
    "    <tr>\n",
    "        <td style=\"text-align: center; vertical-align: middle;\" > Trunk measurement </td>\n",
    "        <td style=\"text-align: center; vertical-align: middle;\"> Orchard map </td>\n",
    "    </tr>    \n",
    "    <tr>\n",
    "        <td> <img src=\"Example_measurement.jpg\" width=\"450\" /> </td>\n",
    "        <td> <img src=\"Orchard_map.jpg\" width=\"300\" /> </td>\n",
    "    </tr>\n",
    "</table>\n"
   ]
  },
  {
   "cell_type": "markdown",
   "metadata": {},
   "source": [
    "**The results below will show that the variety Ercolini (ER) reacts strongly to the treatment. The varieties Carmen (CA) and Limonera (LI) show a weak reaction to the new product.**"
   ]
  },
  {
   "cell_type": "markdown",
   "metadata": {},
   "source": [
    "## Preamble"
   ]
  },
  {
   "cell_type": "code",
   "execution_count": 2,
   "metadata": {},
   "outputs": [],
   "source": [
    "import pandas as pd\n",
    "import numpy as np\n",
    "from scipy import stats\n",
    "from scipy.stats import ttest_ind\n",
    "\n",
    "import matplotlib as mpl\n",
    "import matplotlib.pyplot as plt\n",
    "mpl.style.use('ggplot')  # optional: for ggplot-like style\n",
    "\n",
    "import scipy\n",
    "from scipy import stats\n",
    "from scipy.stats import ttest_ind\n",
    "from scipy.stats import normaltest\n",
    "from scipy.stats import wilcoxon\n",
    "from scipy.stats import mannwhitneyu\n",
    "from scipy.stats import ttest_rel\n",
    "\n",
    "%matplotlib inline\n",
    "\n",
    "import seaborn as sns\n",
    "\n",
    "import os"
   ]
  },
  {
   "cell_type": "code",
   "execution_count": 3,
   "metadata": {
    "collapsed": true,
    "jupyter": {
     "outputs_hidden": true
    },
    "scrolled": true
   },
   "outputs": [
    {
     "data": {
      "text/html": [
       "<style> table {float:left} </style>\n"
      ],
      "text/plain": [
       "<IPython.core.display.HTML object>"
      ]
     },
     "metadata": {},
     "output_type": "display_data"
    }
   ],
   "source": [
    "%%html\n",
    "<style> table {float:left} </style>"
   ]
  },
  {
   "cell_type": "code",
   "execution_count": 4,
   "metadata": {},
   "outputs": [],
   "source": [
    "import warnings\n",
    "\n",
    "warnings.filterwarnings('ignore')"
   ]
  },
  {
   "cell_type": "code",
   "execution_count": 5,
   "metadata": {},
   "outputs": [],
   "source": [
    "# Change Pandas way of displaying DFs as wished\n",
    "pd.options.display.float_format = '{:,.2f}'.format\n",
    "pd.set_option('display.max_rows', None)\n",
    "pd.set_option('display.max_columns', None)\n",
    "pd.set_option('display.max_colwidth', None)"
   ]
  },
  {
   "cell_type": "code",
   "execution_count": 6,
   "metadata": {},
   "outputs": [
    {
     "data": {
      "text/html": [
       "<svg  width=\"330\" height=\"55\"><rect x=\"0\" y=\"0\" width=\"55\" height=\"55\" style=\"fill:#55a3cd;stroke-width:2;stroke:rgb(255,255,255)\"/><rect x=\"55\" y=\"0\" width=\"55\" height=\"55\" style=\"fill:#4954b0;stroke-width:2;stroke:rgb(255,255,255)\"/><rect x=\"110\" y=\"0\" width=\"55\" height=\"55\" style=\"fill:#282739;stroke-width:2;stroke:rgb(255,255,255)\"/><rect x=\"165\" y=\"0\" width=\"55\" height=\"55\" style=\"fill:#3b2127;stroke-width:2;stroke:rgb(255,255,255)\"/><rect x=\"220\" y=\"0\" width=\"55\" height=\"55\" style=\"fill:#9c2f45;stroke-width:2;stroke:rgb(255,255,255)\"/><rect x=\"275\" y=\"0\" width=\"55\" height=\"55\" style=\"fill:#e96f36;stroke-width:2;stroke:rgb(255,255,255)\"/></svg>"
      ],
      "text/plain": [
       "[(0.33355526, 0.64107876, 0.80445484),\n",
       " (0.28708711, 0.32912157, 0.69034504),\n",
       " (0.15652427, 0.15348248, 0.22238175),\n",
       " (0.22994394, 0.13076731, 0.15146314),\n",
       " (0.61319563, 0.1824336, 0.2687872),\n",
       " (0.91463791, 0.43668557, 0.21367954)]"
      ]
     },
     "execution_count": 6,
     "metadata": {},
     "output_type": "execute_result"
    }
   ],
   "source": [
    "# Set a color scheme for SNS in this NB\n",
    "\n",
    "pal = 'icefire'\n",
    "#pal = 'hot'\n",
    "#pal = 'nipy_spectral'\n",
    "\n",
    "sns.set_palette(pal)\n",
    "sns.color_palette(pal)"
   ]
  },
  {
   "cell_type": "markdown",
   "metadata": {},
   "source": [
    "### Upload and clean the data, if needed"
   ]
  },
  {
   "cell_type": "code",
   "execution_count": 8,
   "metadata": {},
   "outputs": [],
   "source": [
    "# Read the CSV file with the data\n",
    "PATH = '/home/memology/Documents/Python_and_Data_projects/Portfolio_Ag/Pear_Spain_2019-2022/'\n",
    "filename = PATH + 'Trunk_perimeter_Data_2022.csv'\n",
    "\n",
    "df_raw = pd.read_csv(filename)"
   ]
  },
  {
   "cell_type": "code",
   "execution_count": 9,
   "metadata": {},
   "outputs": [
    {
     "data": {
      "text/html": [
       "<div>\n",
       "<style scoped>\n",
       "    .dataframe tbody tr th:only-of-type {\n",
       "        vertical-align: middle;\n",
       "    }\n",
       "\n",
       "    .dataframe tbody tr th {\n",
       "        vertical-align: top;\n",
       "    }\n",
       "\n",
       "    .dataframe thead th {\n",
       "        text-align: right;\n",
       "    }\n",
       "</style>\n",
       "<table border=\"1\" class=\"dataframe\">\n",
       "  <thead>\n",
       "    <tr style=\"text-align: right;\">\n",
       "      <th></th>\n",
       "      <th>Area</th>\n",
       "      <th>Tree line number</th>\n",
       "      <th>Variety</th>\n",
       "      <th>Plot</th>\n",
       "      <th>Treatment</th>\n",
       "      <th>1</th>\n",
       "      <th>2</th>\n",
       "      <th>3</th>\n",
       "      <th>4</th>\n",
       "      <th>5</th>\n",
       "      <th>6</th>\n",
       "      <th>7</th>\n",
       "      <th>8</th>\n",
       "      <th>9</th>\n",
       "      <th>10</th>\n",
       "      <th>11</th>\n",
       "      <th>12</th>\n",
       "      <th>13</th>\n",
       "      <th>14</th>\n",
       "      <th>15</th>\n",
       "      <th>16</th>\n",
       "      <th>17</th>\n",
       "      <th>18</th>\n",
       "      <th>19</th>\n",
       "      <th>20</th>\n",
       "      <th>21</th>\n",
       "      <th>22</th>\n",
       "      <th>23</th>\n",
       "      <th>24</th>\n",
       "      <th>25</th>\n",
       "      <th>26</th>\n",
       "      <th>27</th>\n",
       "    </tr>\n",
       "  </thead>\n",
       "  <tbody>\n",
       "    <tr>\n",
       "      <th>0</th>\n",
       "      <td>D</td>\n",
       "      <td>39</td>\n",
       "      <td>ER</td>\n",
       "      <td>N2</td>\n",
       "      <td>N</td>\n",
       "      <td>12.40</td>\n",
       "      <td>12.60</td>\n",
       "      <td>15.00</td>\n",
       "      <td>10.80</td>\n",
       "      <td>13.00</td>\n",
       "      <td>14.70</td>\n",
       "      <td>16.00</td>\n",
       "      <td>14.30</td>\n",
       "      <td>13.40</td>\n",
       "      <td>14.30</td>\n",
       "      <td>17.50</td>\n",
       "      <td>12.20</td>\n",
       "      <td>12.00</td>\n",
       "      <td>15.20</td>\n",
       "      <td>13.10</td>\n",
       "      <td>13.00</td>\n",
       "      <td>13.80</td>\n",
       "      <td>12.80</td>\n",
       "      <td>15.20</td>\n",
       "      <td>15.70</td>\n",
       "      <td>12.10</td>\n",
       "      <td>11.00</td>\n",
       "      <td>11.20</td>\n",
       "      <td>15.00</td>\n",
       "      <td>13.40</td>\n",
       "      <td>8.40</td>\n",
       "      <td>15.00</td>\n",
       "    </tr>\n",
       "    <tr>\n",
       "      <th>1</th>\n",
       "      <td>D</td>\n",
       "      <td>40</td>\n",
       "      <td>ER</td>\n",
       "      <td>N1</td>\n",
       "      <td>N</td>\n",
       "      <td>11.00</td>\n",
       "      <td>11.20</td>\n",
       "      <td>11.30</td>\n",
       "      <td>13.40</td>\n",
       "      <td>14.10</td>\n",
       "      <td>13.40</td>\n",
       "      <td>15.60</td>\n",
       "      <td>13.00</td>\n",
       "      <td>15.40</td>\n",
       "      <td>14.30</td>\n",
       "      <td>14.40</td>\n",
       "      <td>12.20</td>\n",
       "      <td>13.30</td>\n",
       "      <td>14.00</td>\n",
       "      <td>11.80</td>\n",
       "      <td>9.00</td>\n",
       "      <td>13.90</td>\n",
       "      <td>15.50</td>\n",
       "      <td>9.00</td>\n",
       "      <td>15.20</td>\n",
       "      <td>12.40</td>\n",
       "      <td>15.70</td>\n",
       "      <td>14.00</td>\n",
       "      <td>11.20</td>\n",
       "      <td>15.50</td>\n",
       "      <td>11.40</td>\n",
       "      <td>13.20</td>\n",
       "    </tr>\n",
       "    <tr>\n",
       "      <th>2</th>\n",
       "      <td>D</td>\n",
       "      <td>43</td>\n",
       "      <td>ER</td>\n",
       "      <td>T2</td>\n",
       "      <td>T</td>\n",
       "      <td>9.80</td>\n",
       "      <td>9.70</td>\n",
       "      <td>11.20</td>\n",
       "      <td>10.40</td>\n",
       "      <td>9.90</td>\n",
       "      <td>12.60</td>\n",
       "      <td>9.80</td>\n",
       "      <td>9.70</td>\n",
       "      <td>13.30</td>\n",
       "      <td>11.50</td>\n",
       "      <td>13.60</td>\n",
       "      <td>11.00</td>\n",
       "      <td>11.40</td>\n",
       "      <td>11.40</td>\n",
       "      <td>11.20</td>\n",
       "      <td>16.20</td>\n",
       "      <td>13.60</td>\n",
       "      <td>10.90</td>\n",
       "      <td>11.50</td>\n",
       "      <td>10.10</td>\n",
       "      <td>11.00</td>\n",
       "      <td>12.00</td>\n",
       "      <td>13.50</td>\n",
       "      <td>12.20</td>\n",
       "      <td>12.60</td>\n",
       "      <td>12.70</td>\n",
       "      <td>10.30</td>\n",
       "    </tr>\n",
       "    <tr>\n",
       "      <th>3</th>\n",
       "      <td>D</td>\n",
       "      <td>44</td>\n",
       "      <td>ER</td>\n",
       "      <td>T1</td>\n",
       "      <td>T</td>\n",
       "      <td>10.10</td>\n",
       "      <td>12.80</td>\n",
       "      <td>10.30</td>\n",
       "      <td>10.10</td>\n",
       "      <td>9.20</td>\n",
       "      <td>11.50</td>\n",
       "      <td>11.30</td>\n",
       "      <td>11.10</td>\n",
       "      <td>17.50</td>\n",
       "      <td>11.80</td>\n",
       "      <td>14.50</td>\n",
       "      <td>9.00</td>\n",
       "      <td>14.50</td>\n",
       "      <td>10.40</td>\n",
       "      <td>15.50</td>\n",
       "      <td>11.90</td>\n",
       "      <td>10.00</td>\n",
       "      <td>14.50</td>\n",
       "      <td>11.50</td>\n",
       "      <td>9.80</td>\n",
       "      <td>10.20</td>\n",
       "      <td>13.60</td>\n",
       "      <td>11.60</td>\n",
       "      <td>9.40</td>\n",
       "      <td>11.80</td>\n",
       "      <td>10.70</td>\n",
       "      <td>12.80</td>\n",
       "    </tr>\n",
       "    <tr>\n",
       "      <th>4</th>\n",
       "      <td>D</td>\n",
       "      <td>49</td>\n",
       "      <td>LI</td>\n",
       "      <td>T6</td>\n",
       "      <td>T</td>\n",
       "      <td>9.60</td>\n",
       "      <td>9.60</td>\n",
       "      <td>9.00</td>\n",
       "      <td>7.20</td>\n",
       "      <td>9.40</td>\n",
       "      <td>9.30</td>\n",
       "      <td>8.20</td>\n",
       "      <td>9.20</td>\n",
       "      <td>8.10</td>\n",
       "      <td>8.70</td>\n",
       "      <td>8.50</td>\n",
       "      <td>9.50</td>\n",
       "      <td>9.00</td>\n",
       "      <td>9.80</td>\n",
       "      <td>8.10</td>\n",
       "      <td>7.90</td>\n",
       "      <td>9.70</td>\n",
       "      <td>10.40</td>\n",
       "      <td>8.60</td>\n",
       "      <td>7.10</td>\n",
       "      <td>8.80</td>\n",
       "      <td>8.50</td>\n",
       "      <td>8.60</td>\n",
       "      <td>8.50</td>\n",
       "      <td>6.80</td>\n",
       "      <td>6.90</td>\n",
       "      <td>7.80</td>\n",
       "    </tr>\n",
       "  </tbody>\n",
       "</table>\n",
       "</div>"
      ],
      "text/plain": [
       "  Area  Tree line number Variety Plot Treatment     1     2     3     4     5  \\\n",
       "0    D                39      ER   N2         N 12.40 12.60 15.00 10.80 13.00   \n",
       "1    D                40      ER   N1         N 11.00 11.20 11.30 13.40 14.10   \n",
       "2    D                43      ER   T2         T  9.80  9.70 11.20 10.40  9.90   \n",
       "3    D                44      ER   T1         T 10.10 12.80 10.30 10.10  9.20   \n",
       "4    D                49      LI   T6         T  9.60  9.60  9.00  7.20  9.40   \n",
       "\n",
       "      6     7     8     9    10    11    12    13    14    15    16    17  \\\n",
       "0 14.70 16.00 14.30 13.40 14.30 17.50 12.20 12.00 15.20 13.10 13.00 13.80   \n",
       "1 13.40 15.60 13.00 15.40 14.30 14.40 12.20 13.30 14.00 11.80  9.00 13.90   \n",
       "2 12.60  9.80  9.70 13.30 11.50 13.60 11.00 11.40 11.40 11.20 16.20 13.60   \n",
       "3 11.50 11.30 11.10 17.50 11.80 14.50  9.00 14.50 10.40 15.50 11.90 10.00   \n",
       "4  9.30  8.20  9.20  8.10  8.70  8.50  9.50  9.00  9.80  8.10  7.90  9.70   \n",
       "\n",
       "     18    19    20    21    22    23    24    25    26    27  \n",
       "0 12.80 15.20 15.70 12.10 11.00 11.20 15.00 13.40  8.40 15.00  \n",
       "1 15.50  9.00 15.20 12.40 15.70 14.00 11.20 15.50 11.40 13.20  \n",
       "2 10.90 11.50 10.10 11.00 12.00 13.50 12.20 12.60 12.70 10.30  \n",
       "3 14.50 11.50  9.80 10.20 13.60 11.60  9.40 11.80 10.70 12.80  \n",
       "4 10.40  8.60  7.10  8.80  8.50  8.60  8.50  6.80  6.90  7.80  "
      ]
     },
     "execution_count": 9,
     "metadata": {},
     "output_type": "execute_result"
    }
   ],
   "source": [
    "df_raw.head()"
   ]
  },
  {
   "cell_type": "code",
   "execution_count": 10,
   "metadata": {},
   "outputs": [],
   "source": [
    "# The way the dataframe is organized is a bit more difficult to work with than if we have individual\n",
    "# trees in a modified dataframe. Let us change this.\n",
    "\n",
    "df = df_raw.melt(id_vars=[\"Area\", \"Tree line number\", \"Variety\", \"Plot\", \"Treatment\"], \n",
    "        var_name=\"Tree ID\", \n",
    "        value_name=\"Diameter\")"
   ]
  },
  {
   "cell_type": "code",
   "execution_count": 11,
   "metadata": {},
   "outputs": [
    {
     "data": {
      "text/plain": [
       "(972, 7)"
      ]
     },
     "execution_count": 11,
     "metadata": {},
     "output_type": "execute_result"
    }
   ],
   "source": [
    "df.shape"
   ]
  },
  {
   "cell_type": "code",
   "execution_count": 12,
   "metadata": {},
   "outputs": [
    {
     "data": {
      "text/html": [
       "<div>\n",
       "<style scoped>\n",
       "    .dataframe tbody tr th:only-of-type {\n",
       "        vertical-align: middle;\n",
       "    }\n",
       "\n",
       "    .dataframe tbody tr th {\n",
       "        vertical-align: top;\n",
       "    }\n",
       "\n",
       "    .dataframe thead th {\n",
       "        text-align: right;\n",
       "    }\n",
       "</style>\n",
       "<table border=\"1\" class=\"dataframe\">\n",
       "  <thead>\n",
       "    <tr style=\"text-align: right;\">\n",
       "      <th></th>\n",
       "      <th>Area</th>\n",
       "      <th>Tree line number</th>\n",
       "      <th>Variety</th>\n",
       "      <th>Plot</th>\n",
       "      <th>Treatment</th>\n",
       "      <th>Tree ID</th>\n",
       "      <th>Diameter</th>\n",
       "    </tr>\n",
       "  </thead>\n",
       "  <tbody>\n",
       "    <tr>\n",
       "      <th>0</th>\n",
       "      <td>D</td>\n",
       "      <td>39</td>\n",
       "      <td>ER</td>\n",
       "      <td>N2</td>\n",
       "      <td>N</td>\n",
       "      <td>1</td>\n",
       "      <td>12.40</td>\n",
       "    </tr>\n",
       "    <tr>\n",
       "      <th>1</th>\n",
       "      <td>D</td>\n",
       "      <td>40</td>\n",
       "      <td>ER</td>\n",
       "      <td>N1</td>\n",
       "      <td>N</td>\n",
       "      <td>1</td>\n",
       "      <td>11.00</td>\n",
       "    </tr>\n",
       "    <tr>\n",
       "      <th>2</th>\n",
       "      <td>D</td>\n",
       "      <td>43</td>\n",
       "      <td>ER</td>\n",
       "      <td>T2</td>\n",
       "      <td>T</td>\n",
       "      <td>1</td>\n",
       "      <td>9.80</td>\n",
       "    </tr>\n",
       "    <tr>\n",
       "      <th>3</th>\n",
       "      <td>D</td>\n",
       "      <td>44</td>\n",
       "      <td>ER</td>\n",
       "      <td>T1</td>\n",
       "      <td>T</td>\n",
       "      <td>1</td>\n",
       "      <td>10.10</td>\n",
       "    </tr>\n",
       "    <tr>\n",
       "      <th>4</th>\n",
       "      <td>D</td>\n",
       "      <td>49</td>\n",
       "      <td>LI</td>\n",
       "      <td>T6</td>\n",
       "      <td>T</td>\n",
       "      <td>1</td>\n",
       "      <td>9.60</td>\n",
       "    </tr>\n",
       "  </tbody>\n",
       "</table>\n",
       "</div>"
      ],
      "text/plain": [
       "  Area  Tree line number Variety Plot Treatment Tree ID  Diameter\n",
       "0    D                39      ER   N2         N       1     12.40\n",
       "1    D                40      ER   N1         N       1     11.00\n",
       "2    D                43      ER   T2         T       1      9.80\n",
       "3    D                44      ER   T1         T       1     10.10\n",
       "4    D                49      LI   T6         T       1      9.60"
      ]
     },
     "execution_count": 12,
     "metadata": {},
     "output_type": "execute_result"
    }
   ],
   "source": [
    "# Now each tree has its value, individually\n",
    "df.head()"
   ]
  },
  {
   "cell_type": "code",
   "execution_count": 13,
   "metadata": {},
   "outputs": [
    {
     "data": {
      "text/plain": [
       "Area                 0\n",
       "Tree line number     0\n",
       "Variety              0\n",
       "Plot                 0\n",
       "Treatment            0\n",
       "Tree ID              0\n",
       "Diameter            36\n",
       "dtype: int64"
      ]
     },
     "execution_count": 13,
     "metadata": {},
     "output_type": "execute_result"
    }
   ],
   "source": [
    "# Let us check for NaN (meaning, values that were not measured because the tree line was shorter)\n",
    "df.isna().sum()"
   ]
  },
  {
   "cell_type": "code",
   "execution_count": 14,
   "metadata": {},
   "outputs": [],
   "source": [
    "# Easy to solve: just drop those rows containing NaNs!\n",
    "\n",
    "df.dropna(axis = 0, how = 'any', inplace = True)"
   ]
  },
  {
   "cell_type": "code",
   "execution_count": 15,
   "metadata": {},
   "outputs": [
    {
     "data": {
      "text/plain": [
       "(936, 7)"
      ]
     },
     "execution_count": 15,
     "metadata": {},
     "output_type": "execute_result"
    }
   ],
   "source": [
    "df.shape"
   ]
  },
  {
   "cell_type": "markdown",
   "metadata": {},
   "source": [
    "*Note that this means the trial had 936 individual tree measurements*"
   ]
  },
  {
   "cell_type": "code",
   "execution_count": 16,
   "metadata": {},
   "outputs": [
    {
     "data": {
      "text/plain": [
       "Area                0\n",
       "Tree line number    0\n",
       "Variety             0\n",
       "Plot                0\n",
       "Treatment           0\n",
       "Tree ID             0\n",
       "Diameter            0\n",
       "dtype: int64"
      ]
     },
     "execution_count": 16,
     "metadata": {},
     "output_type": "execute_result"
    }
   ],
   "source": [
    "df.isna().sum()"
   ]
  },
  {
   "cell_type": "markdown",
   "metadata": {},
   "source": [
    "No more NaNs in the dataframe, we can now proceed with our analysis"
   ]
  },
  {
   "cell_type": "code",
   "execution_count": 17,
   "metadata": {},
   "outputs": [],
   "source": [
    "# To make the interpretation a bit easier, let us change the tags under 'Treatment'\n",
    "new_tag = {'N':'New product', 'T':'Control'}\n",
    "df.replace({'Treatment' : new_tag}, inplace = True)"
   ]
  },
  {
   "cell_type": "code",
   "execution_count": 18,
   "metadata": {},
   "outputs": [
    {
     "data": {
      "text/html": [
       "<div>\n",
       "<style scoped>\n",
       "    .dataframe tbody tr th:only-of-type {\n",
       "        vertical-align: middle;\n",
       "    }\n",
       "\n",
       "    .dataframe tbody tr th {\n",
       "        vertical-align: top;\n",
       "    }\n",
       "\n",
       "    .dataframe thead th {\n",
       "        text-align: right;\n",
       "    }\n",
       "</style>\n",
       "<table border=\"1\" class=\"dataframe\">\n",
       "  <thead>\n",
       "    <tr style=\"text-align: right;\">\n",
       "      <th></th>\n",
       "      <th>Area</th>\n",
       "      <th>Tree line number</th>\n",
       "      <th>Variety</th>\n",
       "      <th>Plot</th>\n",
       "      <th>Treatment</th>\n",
       "      <th>Tree ID</th>\n",
       "      <th>Diameter</th>\n",
       "    </tr>\n",
       "  </thead>\n",
       "  <tbody>\n",
       "    <tr>\n",
       "      <th>0</th>\n",
       "      <td>D</td>\n",
       "      <td>39</td>\n",
       "      <td>ER</td>\n",
       "      <td>N2</td>\n",
       "      <td>New product</td>\n",
       "      <td>1</td>\n",
       "      <td>12.40</td>\n",
       "    </tr>\n",
       "    <tr>\n",
       "      <th>1</th>\n",
       "      <td>D</td>\n",
       "      <td>40</td>\n",
       "      <td>ER</td>\n",
       "      <td>N1</td>\n",
       "      <td>New product</td>\n",
       "      <td>1</td>\n",
       "      <td>11.00</td>\n",
       "    </tr>\n",
       "    <tr>\n",
       "      <th>2</th>\n",
       "      <td>D</td>\n",
       "      <td>43</td>\n",
       "      <td>ER</td>\n",
       "      <td>T2</td>\n",
       "      <td>Control</td>\n",
       "      <td>1</td>\n",
       "      <td>9.80</td>\n",
       "    </tr>\n",
       "    <tr>\n",
       "      <th>3</th>\n",
       "      <td>D</td>\n",
       "      <td>44</td>\n",
       "      <td>ER</td>\n",
       "      <td>T1</td>\n",
       "      <td>Control</td>\n",
       "      <td>1</td>\n",
       "      <td>10.10</td>\n",
       "    </tr>\n",
       "    <tr>\n",
       "      <th>4</th>\n",
       "      <td>D</td>\n",
       "      <td>49</td>\n",
       "      <td>LI</td>\n",
       "      <td>T6</td>\n",
       "      <td>Control</td>\n",
       "      <td>1</td>\n",
       "      <td>9.60</td>\n",
       "    </tr>\n",
       "  </tbody>\n",
       "</table>\n",
       "</div>"
      ],
      "text/plain": [
       "  Area  Tree line number Variety Plot    Treatment Tree ID  Diameter\n",
       "0    D                39      ER   N2  New product       1     12.40\n",
       "1    D                40      ER   N1  New product       1     11.00\n",
       "2    D                43      ER   T2      Control       1      9.80\n",
       "3    D                44      ER   T1      Control       1     10.10\n",
       "4    D                49      LI   T6      Control       1      9.60"
      ]
     },
     "execution_count": 18,
     "metadata": {},
     "output_type": "execute_result"
    }
   ],
   "source": [
    "df.head()"
   ]
  },
  {
   "cell_type": "markdown",
   "metadata": {},
   "source": [
    "## Analysis"
   ]
  },
  {
   "cell_type": "markdown",
   "metadata": {},
   "source": [
    "### New product vs. control?"
   ]
  },
  {
   "cell_type": "code",
   "execution_count": 19,
   "metadata": {},
   "outputs": [
    {
     "data": {
      "image/png": "[encoded data removed]",
      "text/plain": [
       "<Figure size 640x480 with 1 Axes>"
      ]
     },
     "metadata": {},
     "output_type": "display_data"
    }
   ],
   "source": [
    "sns.boxplot(data = df, x = 'Treatment', y='Diameter', showfliers = True, showmeans=True,\n",
    "           meanprops={\"marker\": \"*\", \"markeredgecolor\": \"black\", \"markerfacecolor\": \"white\", \"markersize\": \"15\"})\n",
    "plt.show()"
   ]
  },
  {
   "cell_type": "code",
   "execution_count": 20,
   "metadata": {
    "jupyter": {
     "source_hidden": true
    }
   },
   "outputs": [
    {
     "data": {
      "text/html": [
       "<div>\n",
       "<style scoped>\n",
       "    .dataframe tbody tr th:only-of-type {\n",
       "        vertical-align: middle;\n",
       "    }\n",
       "\n",
       "    .dataframe tbody tr th {\n",
       "        vertical-align: top;\n",
       "    }\n",
       "\n",
       "    .dataframe thead th {\n",
       "        text-align: right;\n",
       "    }\n",
       "</style>\n",
       "<table border=\"1\" class=\"dataframe\">\n",
       "  <thead>\n",
       "    <tr style=\"text-align: right;\">\n",
       "      <th></th>\n",
       "      <th>Variety</th>\n",
       "      <th>New Product</th>\n",
       "      <th>Control</th>\n",
       "      <th>Relative diff. (%)</th>\n",
       "      <th>p value</th>\n",
       "    </tr>\n",
       "  </thead>\n",
       "  <tbody>\n",
       "    <tr>\n",
       "      <th>0</th>\n",
       "      <td>All</td>\n",
       "      <td>13.24</td>\n",
       "      <td>12.67</td>\n",
       "      <td>4.49%</td>\n",
       "      <td>0.02</td>\n",
       "    </tr>\n",
       "  </tbody>\n",
       "</table>\n",
       "</div>"
      ],
      "text/plain": [
       "  Variety  New Product  Control Relative diff. (%)  p value\n",
       "0     All        13.24    12.67              4.49%     0.02"
      ]
     },
     "execution_count": 20,
     "metadata": {},
     "output_type": "execute_result"
    }
   ],
   "source": [
    "# Overall stats\n",
    "\n",
    "aux_NP = df.query(f\"`Treatment` == 'New product'\")\n",
    "l_NP = aux_NP['Diameter'].to_numpy(copy=True)\n",
    "\n",
    "aux_control = df.query(f\"`Treatment` == 'Control'\")\n",
    "l_control = aux_control['Diameter'].to_numpy(copy=True)\n",
    "\n",
    "mean_NP = np.mean(l_NP)\n",
    "mean_control = np.mean(l_control)\n",
    "p_val_threshold = 0.05\n",
    "\n",
    "# test for normal distributions and get the corresponding statistical test\n",
    "if (len(l_NP) >= 8 and len(l_control) >= 8): # has to be 8 for the normaltest call \n",
    "    normal_NP = normaltest(l_NP).pvalue  # if less than 0.05 // threshold, it is NOT a normal function\n",
    "    normal_control = normaltest(l_control).pvalue\n",
    "\n",
    "    if (normal_NP <= p_val_threshold or normal_control <= p_val_threshold):\n",
    "        # not a normal dist - use the Mann Whitney test for lists possibly with different lengths\n",
    "        P_val = scipy.stats.mannwhitneyu(l_NP, l_control).pvalue\n",
    "    else:\n",
    "        P_val = ttest_ind(l_NP, l_control).pvalue\n",
    "\n",
    "res = {'Variety':['All'],'New Product': [mean_NP], 'Control': [mean_control], \n",
    "       'Relative diff. (%)':[ '{:.2f}%'.format(((mean_NP/mean_control) - 1.0)*100)] ,'p value':[P_val]} \n",
    "\n",
    "pd.DataFrame(res)"
   ]
  },
  {
   "cell_type": "markdown",
   "metadata": {},
   "source": [
    "> Clearly the tree diameter in areas using the new product is higher than control, with statistical significance (p value < 0.05).\n",
    "> \n",
    "> Are there differences within pear varieties?"
   ]
  },
  {
   "cell_type": "markdown",
   "metadata": {},
   "source": [
    "### New product vs control - by variety"
   ]
  },
  {
   "cell_type": "code",
   "execution_count": 21,
   "metadata": {},
   "outputs": [
    {
     "data": {
      "image/png": "[encoded data removed]",
      "text/plain": [
       "<Figure size 640x480 with 1 Axes>"
      ]
     },
     "metadata": {},
     "output_type": "display_data"
    }
   ],
   "source": [
    "sns.boxplot(data = df, x = 'Variety', y='Diameter', hue = 'Treatment', showfliers = True, showmeans=True,\n",
    "           meanprops={\"marker\": \"*\", \"markeredgecolor\": \"black\", \"markerfacecolor\": \"white\", \"markersize\": \"15\"})\n",
    "plt.show()"
   ]
  },
  {
   "cell_type": "markdown",
   "metadata": {},
   "source": [
    "> Visually, one can already say that some varieties react stronger to the new product ('ER') than others ('LI'). What does statistics tell us?"
   ]
  },
  {
   "cell_type": "code",
   "execution_count": 22,
   "metadata": {},
   "outputs": [
    {
     "data": {
      "text/plain": [
       "array(['ER', 'LI', 'CA'], dtype=object)"
      ]
     },
     "execution_count": 22,
     "metadata": {},
     "output_type": "execute_result"
    }
   ],
   "source": [
    "df['Variety'].unique()"
   ]
  },
  {
   "cell_type": "code",
   "execution_count": 23,
   "metadata": {
    "jupyter": {
     "source_hidden": true
    }
   },
   "outputs": [
    {
     "data": {
      "text/html": [
       "<div>\n",
       "<style scoped>\n",
       "    .dataframe tbody tr th:only-of-type {\n",
       "        vertical-align: middle;\n",
       "    }\n",
       "\n",
       "    .dataframe tbody tr th {\n",
       "        vertical-align: top;\n",
       "    }\n",
       "\n",
       "    .dataframe thead th {\n",
       "        text-align: right;\n",
       "    }\n",
       "</style>\n",
       "<table border=\"1\" class=\"dataframe\">\n",
       "  <thead>\n",
       "    <tr style=\"text-align: right;\">\n",
       "      <th></th>\n",
       "      <th>Variety</th>\n",
       "      <th>New Product</th>\n",
       "      <th>Control</th>\n",
       "      <th>Relative diff. (%)</th>\n",
       "      <th>p value</th>\n",
       "    </tr>\n",
       "  </thead>\n",
       "  <tbody>\n",
       "    <tr>\n",
       "      <th>0</th>\n",
       "      <td>ER</td>\n",
       "      <td>14.82</td>\n",
       "      <td>13.61</td>\n",
       "      <td>8.90%</td>\n",
       "      <td>0.00015</td>\n",
       "    </tr>\n",
       "    <tr>\n",
       "      <th>1</th>\n",
       "      <td>LI</td>\n",
       "      <td>9.34</td>\n",
       "      <td>9.17</td>\n",
       "      <td>1.84%</td>\n",
       "      <td>0.54815</td>\n",
       "    </tr>\n",
       "    <tr>\n",
       "      <th>2</th>\n",
       "      <td>CA</td>\n",
       "      <td>15.87</td>\n",
       "      <td>15.57</td>\n",
       "      <td>1.90%</td>\n",
       "      <td>0.16890</td>\n",
       "    </tr>\n",
       "  </tbody>\n",
       "</table>\n",
       "</div>"
      ],
      "text/plain": [
       "  Variety  New Product  Control Relative diff. (%)  p value\n",
       "0      ER        14.82    13.61              8.90%  0.00015\n",
       "1      LI         9.34     9.17              1.84%  0.54815\n",
       "2      CA        15.87    15.57              1.90%  0.16890"
      ]
     },
     "execution_count": 23,
     "metadata": {},
     "output_type": "execute_result"
    }
   ],
   "source": [
    "# Prepare statistics by variety\n",
    "\n",
    "vars = df['Variety'].unique()\n",
    "variety_l = []\n",
    "mean_NP_l = []\n",
    "mean_control_l = []\n",
    "diff_l = []\n",
    "P_val_l = []\n",
    "\n",
    "for variety in vars:\n",
    "    aux_NP = df.query(f\"`Treatment` == 'New product' and `Variety` == '{variety}'\")\n",
    "    l_NP = aux_NP['Diameter'].to_numpy(copy=True)\n",
    "    \n",
    "    aux_control = df.query(f\"`Treatment` == 'Control' and `Variety` == '{variety}'\")\n",
    "    l_control = aux_control['Diameter'].to_numpy(copy=True)\n",
    "    \n",
    "    mean_NP = np.mean(l_NP)\n",
    "    mean_control = np.mean(l_control)\n",
    "    p_val_threshold = 0.05\n",
    "    \n",
    "    # test for normal distributions and get the corresponding statistical test\n",
    "    if (len(l_NP) >= 8 and len(l_control) >= 8): # has to be 8 for the normaltest call \n",
    "        normal_NP = normaltest(l_NP).pvalue  # if less than 0.05 // threshold, it is NOT a normal function\n",
    "        normal_control = normaltest(l_control).pvalue\n",
    "    \n",
    "        if (normal_NP <= p_val_threshold or normal_control <= p_val_threshold):\n",
    "            # not a normal dist - use the Mann Whitney test for lists possibly with different lengths\n",
    "            P_val = scipy.stats.mannwhitneyu(l_NP, l_control).pvalue\n",
    "        else:\n",
    "            P_val = ttest_ind(l_NP, l_control).pvalue\n",
    "        variety_l = variety_l + [variety]\n",
    "        mean_NP_l = mean_NP_l + [mean_NP]\n",
    "        mean_control_l = mean_control_l + [mean_control]\n",
    "        diff_l = diff_l +  ['{:.2f}%'.format(((mean_NP/mean_control) - 1.0)*100)]\n",
    "        P_val_l = P_val_l + ['{:.5f}'.format(P_val)]\n",
    "\n",
    "res = {'Variety':variety_l,'New Product': mean_NP_l, 'Control': mean_control_l, \n",
    "       'Relative diff. (%)': diff_l ,'p value':P_val_l} \n",
    "\n",
    "pd.DataFrame(res)"
   ]
  },
  {
   "cell_type": "markdown",
   "metadata": {},
   "source": [
    "> The statistical analysis confirms what the graphic already pointed out:\n",
    "> - the variety 'ER' shows a strong and statistically significant different diameters between the treated plants and control - the treated plants were clearly stronger than control.\n",
    "> - the other varieties show some small positive reaction, but only as a trend, as statistically the diameter of treated and control plants are not different."
   ]
  },
  {
   "cell_type": "markdown",
   "metadata": {},
   "source": [
    "### Looking into different dimensions"
   ]
  },
  {
   "cell_type": "code",
   "execution_count": 26,
   "metadata": {},
   "outputs": [
    {
     "data": {
      "image/png": "[encoded data removed]",
      "text/plain": [
       "<Figure size 1638.25x500 with 3 Axes>"
      ]
     },
     "metadata": {},
     "output_type": "display_data"
    }
   ],
   "source": [
    "# Look at different trial areas\n",
    "\n",
    "sns.catplot(data = df, y='Diameter', x='Variety', hue = 'Treatment', col = 'Area', \n",
    "            kind = 'box', showfliers = False, showmeans=True,\n",
    "            meanprops={\"marker\": \"*\", \"markeredgecolor\": \"black\", \"markerfacecolor\": \"white\", \"markersize\": \"15\"})\n",
    "plt.show()"
   ]
  },
  {
   "cell_type": "markdown",
   "metadata": {},
   "source": [
    "Area 'D' is in the upper area of the trial, 'M' in the middle and 'U' in the lower terrain part."
   ]
  },
  {
   "cell_type": "code",
   "execution_count": 25,
   "metadata": {},
   "outputs": [
    {
     "data": {
      "image/png": "[encoded data removed]",
      "text/plain": [
       "<Figure size 638.25x500 with 1 Axes>"
      ]
     },
     "metadata": {},
     "output_type": "display_data"
    }
   ],
   "source": [
    "# We can look into each individual tree line for a given variety\n",
    "\n",
    "variety = 'ER'\n",
    "df_aux = df.query(f\"`Variety` == '{variety}'\")\n",
    "sns.catplot(data = df_aux, y='Diameter', x = 'Tree line number' , hue = 'Treatment',\n",
    "            kind=\"violin\")\n",
    "plt.show()"
   ]
  }
 ],
 "metadata": {
  "kernelspec": {
   "display_name": "lyfx_1",
   "language": "python",
   "name": "lyfx_1"
  },
  "language_info": {
   "codemirror_mode": {
    "name": "ipython",
    "version": 3
   },
   "file_extension": ".py",
   "mimetype": "text/x-python",
   "name": "python",
   "nbconvert_exporter": "python",
   "pygments_lexer": "ipython3",
   "version": "3.10.13"
  }
 },
 "nbformat": 4,
 "nbformat_minor": 4
}
