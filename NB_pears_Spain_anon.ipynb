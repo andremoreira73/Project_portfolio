{
 "cells": [
  {
   "cell_type": "markdown",
   "metadata": {},
   "source": [
    "<p>\n",
    "    \n",
    "\n",
    "\n",
    "</p>\n",
    "\n",
    "\n",
    "# Trial Report\n",
    "Pears plantation, Spain, 2019-2022\n"
   ]
  },
  {
   "cell_type": "markdown",
   "metadata": {},
   "source": [
    "## Introduction\n",
    "\n",
    "Trial in Spain, follwing the tree development in a pear orchard. Some trees were treated with a special new product (code-named here as \"NH\"), others treated with a common product (\"control\"). \n",
    "The orchard was planted in 2019, we measured the tree trunks in 2022, using it as an accepted proxy for tree development and health."
   ]
  },
  {
   "cell_type": "code",
   "execution_count": 104,
   "metadata": {},
   "outputs": [
    {
     "data": {
      "text/html": [
       "<style> table {float:left} </style>\n"
      ],
      "text/plain": [
       "<IPython.core.display.HTML object>"
      ]
     },
     "metadata": {},
     "output_type": "display_data"
    }
   ],
   "source": [
    "%%html\n",
    "<style> table {float:left} </style>"
   ]
  },
  {
   "cell_type": "markdown",
   "metadata": {},
   "source": [
    "### Information about the trial\n",
    "\n",
    "| | |\n",
    "|-|-|\n",
    "| Campaign | 2019-2023 |\n",
    "| Crop | Pears |\n",
    "| Variety | Ercolini (ER), Carmen (CA), Limonera (LI) |\n",
    "| Planting date | March 2019 |\n",
    "| Trunk measurements date | Fall 2022 |\n",
    "| Total area | 9 ha |\n",
    "|  |  |\n",
    "|  |  |\n",
    "| Treatment | Application rate |\n",
    "| NH | 2 ton/ha |\n",
    "| Control | 2 ton/ha |"
   ]
  },
  {
   "cell_type": "markdown",
   "metadata": {},
   "source": [
    "### Pictures\n",
    "\n",
    "<table style=\"margin-left: 0; margin-right: auto;\">\n",
    "    <tr>\n",
    "        <td style=\"text-align: center; vertical-align: middle;\" > Application 2019 </td>\n",
    "        <td style=\"text-align: center; vertical-align: middle;\" > Trunk measurement </td>\n",
    "    </tr>    \n",
    "    <tr>\n",
    "        <td> <img src=\"Application-2019.jpg\" width=\"250\"/> </td>\n",
    "        <td> <img src=\"Example_measurement.jpg\" width=\"450\" /> </td>\n",
    "    </tr>\n",
    "</table>\n"
   ]
  },
  {
   "cell_type": "markdown",
   "metadata": {},
   "source": [
    "<table  style=\"margin-left: 0; margin-right: auto;\">\n",
    "    <tr>\n",
    "        <td style=\"text-align: center; vertical-align: middle;\"> View of the orchard </td>\n",
    "        <td style=\"text-align: center; vertical-align: middle;\"> Orchard map </td>\n",
    "    </tr>    \n",
    "    <tr>\n",
    "        <td> <img src=\"Orchard.jpg\" width=\"600\" /> </td>\n",
    "        <td> <img src=\"Orchard_map.jpg\" width=\"300\" /> </td>\n",
    "    </tr>\n",
    "</table>"
   ]
  },
  {
   "cell_type": "markdown",
   "metadata": {},
   "source": [
    "## Analysis"
   ]
  },
  {
   "cell_type": "markdown",
   "metadata": {},
   "source": [
    "### Housekeeping"
   ]
  },
  {
   "cell_type": "code",
   "execution_count": 1,
   "metadata": {},
   "outputs": [],
   "source": [
    "# Import libraries and define functions that we will use\n",
    "\n",
    "import pandas as pd\n",
    "from scipy.stats import ttest_ind\n",
    "import numpy as np\n",
    "import matplotlib.pyplot as plt\n",
    "import seaborn as sns\n",
    "import os\n",
    "\n",
    "# serialize a dataframe\n",
    "def serialize(I_df):\n",
    "    O_series = []\n",
    "    I_df_l = I_df.values.tolist() # convert the I_df into a list\n",
    "    for j in range(len(I_df_l)):\n",
    "        for i in range(len(I_df_l[j])):\n",
    "            element = I_df_l[j][i]\n",
    "            if str(element) != \"nan\": # ensure the data is clean\n",
    "                O_series.append(I_df_l[j][i])\n",
    "    return(pd.Series(O_series))\n"
   ]
  },
  {
   "cell_type": "markdown",
   "metadata": {},
   "source": [
    "### Upload and check the data"
   ]
  },
  {
   "cell_type": "code",
   "execution_count": 3,
   "metadata": {},
   "outputs": [
    {
     "data": {
      "text/html": [
       "<div>\n",
       "<style scoped>\n",
       "    .dataframe tbody tr th:only-of-type {\n",
       "        vertical-align: middle;\n",
       "    }\n",
       "\n",
       "    .dataframe tbody tr th {\n",
       "        vertical-align: top;\n",
       "    }\n",
       "\n",
       "    .dataframe thead th {\n",
       "        text-align: right;\n",
       "    }\n",
       "</style>\n",
       "<table border=\"1\" class=\"dataframe\">\n",
       "  <thead>\n",
       "    <tr style=\"text-align: right;\">\n",
       "      <th></th>\n",
       "      <th>Area</th>\n",
       "      <th>Tree line number</th>\n",
       "      <th>Variety</th>\n",
       "      <th>Plot</th>\n",
       "      <th>Treatment</th>\n",
       "      <th>1</th>\n",
       "      <th>2</th>\n",
       "      <th>3</th>\n",
       "      <th>4</th>\n",
       "      <th>5</th>\n",
       "      <th>...</th>\n",
       "      <th>18</th>\n",
       "      <th>19</th>\n",
       "      <th>20</th>\n",
       "      <th>21</th>\n",
       "      <th>22</th>\n",
       "      <th>23</th>\n",
       "      <th>24</th>\n",
       "      <th>25</th>\n",
       "      <th>26</th>\n",
       "      <th>27</th>\n",
       "    </tr>\n",
       "  </thead>\n",
       "  <tbody>\n",
       "    <tr>\n",
       "      <th>0</th>\n",
       "      <td>D</td>\n",
       "      <td>39</td>\n",
       "      <td>ER</td>\n",
       "      <td>N2</td>\n",
       "      <td>N</td>\n",
       "      <td>12.4</td>\n",
       "      <td>12.6</td>\n",
       "      <td>15.0</td>\n",
       "      <td>10.8</td>\n",
       "      <td>13.0</td>\n",
       "      <td>...</td>\n",
       "      <td>12.8</td>\n",
       "      <td>15.2</td>\n",
       "      <td>15.7</td>\n",
       "      <td>12.1</td>\n",
       "      <td>11.0</td>\n",
       "      <td>11.2</td>\n",
       "      <td>15.0</td>\n",
       "      <td>13.4</td>\n",
       "      <td>8.4</td>\n",
       "      <td>15.0</td>\n",
       "    </tr>\n",
       "    <tr>\n",
       "      <th>1</th>\n",
       "      <td>D</td>\n",
       "      <td>40</td>\n",
       "      <td>ER</td>\n",
       "      <td>N1</td>\n",
       "      <td>N</td>\n",
       "      <td>11.0</td>\n",
       "      <td>11.2</td>\n",
       "      <td>11.3</td>\n",
       "      <td>13.4</td>\n",
       "      <td>14.1</td>\n",
       "      <td>...</td>\n",
       "      <td>15.5</td>\n",
       "      <td>9.0</td>\n",
       "      <td>15.2</td>\n",
       "      <td>12.4</td>\n",
       "      <td>15.7</td>\n",
       "      <td>14.0</td>\n",
       "      <td>11.2</td>\n",
       "      <td>15.5</td>\n",
       "      <td>11.4</td>\n",
       "      <td>13.2</td>\n",
       "    </tr>\n",
       "  </tbody>\n",
       "</table>\n",
       "<p>2 rows × 32 columns</p>\n",
       "</div>"
      ],
      "text/plain": [
       "  Area  Tree line number Variety Plot Treatment     1     2     3     4     5   \n",
       "0    D                39      ER   N2         N  12.4  12.6  15.0  10.8  13.0  \\\n",
       "1    D                40      ER   N1         N  11.0  11.2  11.3  13.4  14.1   \n",
       "\n",
       "   ...    18    19    20    21    22    23    24    25    26    27  \n",
       "0  ...  12.8  15.2  15.7  12.1  11.0  11.2  15.0  13.4   8.4  15.0  \n",
       "1  ...  15.5   9.0  15.2  12.4  15.7  14.0  11.2  15.5  11.4  13.2  \n",
       "\n",
       "[2 rows x 32 columns]"
      ]
     },
     "execution_count": 3,
     "metadata": {},
     "output_type": "execute_result"
    }
   ],
   "source": [
    "# Read the CSV file with the data\n",
    "\n",
    "data_file = 'Trunk_perimeter_Data_2022.csv'\n",
    "path=os.path.join(os.getcwd(),data_file)\n",
    "df_raw = pd.read_csv(path)\n",
    "df_raw.head(2)"
   ]
  },
  {
   "cell_type": "markdown",
   "metadata": {},
   "source": [
    "### Compare NH treatment and control across different pear varieties "
   ]
  },
  {
   "cell_type": "code",
   "execution_count": 4,
   "metadata": {},
   "outputs": [],
   "source": [
    "list_var = ['ER','CA','LI']\n",
    "dict_var = {'ER':'Ercolini','CA':'Carmen', 'LI':'Limonera'}"
   ]
  },
  {
   "cell_type": "code",
   "execution_count": 5,
   "metadata": {},
   "outputs": [],
   "source": [
    "header = ['Parameter']\n",
    "a21 = 'Average'\n",
    "a31 = 'Standard error'\n",
    "a41 = 'Difference (absolute)'\n",
    "a51 = 'Difference (%)'\n",
    "a61 = 'p-value t-test'\n",
    "result = pd.DataFrame([[''],[a21],[a31],[a41],[a51],[a61]], columns = header)\n",
    "\n",
    "for value_var in list_var:\n",
    "    # Filter variety\n",
    "    df_1 = df_raw.query(\"Variety == @value_var\")\n",
    "\n",
    "    # prepare a NOVIHUM and control tables\n",
    "    df_1_N = df_1.query(\"Treatment == 'N'\")\n",
    "    df_1_C = df_1.query(\"Treatment == 'T'\")\n",
    "    # slice the tables to contain only the measurements\n",
    "    df_1_N = df_1_N.iloc[:,5:]\n",
    "    df_1_C = df_1_C.iloc[:,5:]\n",
    "    # make the dfs into series and get stats\n",
    "    df_1_N_s = serialize(df_1_N)\n",
    "    df_1_C_s = serialize(df_1_C)\n",
    "    \n",
    "    header = ['  NH  ', '  C  ', ' '] # treatments \"NH\" and control \"C\"\n",
    "    a12 = dict_var[value_var]\n",
    "    a13 = ''\n",
    "    a22 = round(np.average(df_1_N_s),2)\n",
    "    a23 = round(np.average(df_1_C_s),2)\n",
    "    a32 = round(np.std(df_1_N_s)/np.sqrt(len(df_1_N_s)),2)\n",
    "    a33 = round(np.std(df_1_N_s)/np.sqrt(len(df_1_C_s)),2)\n",
    "    a42 = round(a22-a23,2)\n",
    "    a43 = ''\n",
    "    a52 = round(100*((a22/a23)-1),2)\n",
    "    a53 = ''   \n",
    "    a62 = round(ttest_ind(df_1_N_s, df_1_C_s).pvalue,10)\n",
    "    a63 = ''\n",
    "    aux = pd.DataFrame([[a12,a13,' '],[a22,a23,' '],[a32,a33,' '],[a42,a43,' '],[a52,a53,' '],[a62,a63,' ']], columns = header)\n",
    "    result = pd.concat([result,aux],axis=1)"
   ]
  },
  {
   "cell_type": "code",
   "execution_count": 6,
   "metadata": {},
   "outputs": [
    {
     "data": {
      "text/html": [
       "<div>\n",
       "<style scoped>\n",
       "    .dataframe tbody tr th:only-of-type {\n",
       "        vertical-align: middle;\n",
       "    }\n",
       "\n",
       "    .dataframe tbody tr th {\n",
       "        vertical-align: top;\n",
       "    }\n",
       "\n",
       "    .dataframe thead th {\n",
       "        text-align: right;\n",
       "    }\n",
       "</style>\n",
       "<table border=\"1\" class=\"dataframe\">\n",
       "  <thead>\n",
       "    <tr style=\"text-align: right;\">\n",
       "      <th></th>\n",
       "      <th>Parameter</th>\n",
       "      <th>NH</th>\n",
       "      <th>C</th>\n",
       "      <th></th>\n",
       "      <th>NH</th>\n",
       "      <th>C</th>\n",
       "      <th></th>\n",
       "      <th>NH</th>\n",
       "      <th>C</th>\n",
       "      <th></th>\n",
       "    </tr>\n",
       "  </thead>\n",
       "  <tbody>\n",
       "    <tr>\n",
       "      <th>0</th>\n",
       "      <td></td>\n",
       "      <td>Ercolini</td>\n",
       "      <td></td>\n",
       "      <td></td>\n",
       "      <td>Carmen</td>\n",
       "      <td></td>\n",
       "      <td></td>\n",
       "      <td>Limonera</td>\n",
       "      <td></td>\n",
       "      <td></td>\n",
       "    </tr>\n",
       "    <tr>\n",
       "      <th>1</th>\n",
       "      <td>Average</td>\n",
       "      <td>14.82</td>\n",
       "      <td>13.61</td>\n",
       "      <td></td>\n",
       "      <td>15.87</td>\n",
       "      <td>15.57</td>\n",
       "      <td></td>\n",
       "      <td>9.34</td>\n",
       "      <td>9.17</td>\n",
       "      <td></td>\n",
       "    </tr>\n",
       "    <tr>\n",
       "      <th>2</th>\n",
       "      <td>Standard error</td>\n",
       "      <td>0.19</td>\n",
       "      <td>0.19</td>\n",
       "      <td></td>\n",
       "      <td>0.17</td>\n",
       "      <td>0.17</td>\n",
       "      <td></td>\n",
       "      <td>0.11</td>\n",
       "      <td>0.11</td>\n",
       "      <td></td>\n",
       "    </tr>\n",
       "    <tr>\n",
       "      <th>3</th>\n",
       "      <td>Difference (absolute)</td>\n",
       "      <td>1.21</td>\n",
       "      <td></td>\n",
       "      <td></td>\n",
       "      <td>0.3</td>\n",
       "      <td></td>\n",
       "      <td></td>\n",
       "      <td>0.17</td>\n",
       "      <td></td>\n",
       "      <td></td>\n",
       "    </tr>\n",
       "    <tr>\n",
       "      <th>4</th>\n",
       "      <td>Difference (%)</td>\n",
       "      <td>8.89</td>\n",
       "      <td></td>\n",
       "      <td></td>\n",
       "      <td>1.93</td>\n",
       "      <td></td>\n",
       "      <td></td>\n",
       "      <td>1.85</td>\n",
       "      <td></td>\n",
       "      <td></td>\n",
       "    </tr>\n",
       "    <tr>\n",
       "      <th>5</th>\n",
       "      <td>p-value t-test</td>\n",
       "      <td>0.000038</td>\n",
       "      <td></td>\n",
       "      <td></td>\n",
       "      <td>0.247573</td>\n",
       "      <td></td>\n",
       "      <td></td>\n",
       "      <td>0.222082</td>\n",
       "      <td></td>\n",
       "      <td></td>\n",
       "    </tr>\n",
       "  </tbody>\n",
       "</table>\n",
       "</div>"
      ],
      "text/plain": [
       "               Parameter      NH      C           NH      C           NH     \n",
       "0                         Ercolini              Carmen            Limonera  \\\n",
       "1                Average     14.82  13.61        15.87  15.57         9.34   \n",
       "2         Standard error      0.19   0.19         0.17   0.17         0.11   \n",
       "3  Difference (absolute)      1.21                 0.3                0.17   \n",
       "4         Difference (%)      8.89                1.93                1.85   \n",
       "5         p-value t-test  0.000038            0.247573            0.222082   \n",
       "\n",
       "    C       \n",
       "0           \n",
       "1  9.17     \n",
       "2  0.11     \n",
       "3           \n",
       "4           \n",
       "5           "
      ]
     },
     "execution_count": 6,
     "metadata": {},
     "output_type": "execute_result"
    }
   ],
   "source": [
    "result"
   ]
  }
 ],
 "metadata": {
  "kernelspec": {
   "display_name": "Python 3 (ipykernel)",
   "language": "python",
   "name": "python3"
  },
  "language_info": {
   "codemirror_mode": {
    "name": "ipython",
    "version": 3
   },
   "file_extension": ".py",
   "mimetype": "text/x-python",
   "name": "python",
   "nbconvert_exporter": "python",
   "pygments_lexer": "ipython3",
   "version": "3.10.6"
  }
 },
 "nbformat": 4,
 "nbformat_minor": 4
}
